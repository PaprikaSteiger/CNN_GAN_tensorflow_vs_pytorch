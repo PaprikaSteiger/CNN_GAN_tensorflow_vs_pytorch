{
 "cells": [
  {
   "cell_type": "markdown",
   "metadata": {},
   "source": [
    "# Implementing a CNNGAN with pytroch"
   ]
  },
  {
   "cell_type": "markdown",
   "metadata": {},
   "source": [
    "## 1. Import and Preprocessing\n",
    "### a) Importing modules"
   ]
  },
  {
   "cell_type": "code",
   "execution_count": 1,
   "metadata": {},
   "outputs": [],
   "source": [
    "# Load required packages - data handling & plotting\n",
    "import pandas as pd\n",
    "import numpy as np\n",
    "import matplotlib.pyplot as plt\n",
    "\n",
    "# Load required packages - deep learning \n",
    "import torch\n",
    "import torch.nn as nn\n",
    "import torch.optim as optim"
   ]
  },
  {
   "cell_type": "code",
   "execution_count": 2,
   "metadata": {},
   "outputs": [
    {
     "name": "stdout",
     "output_type": "stream",
     "text": [
      "tensorflow: 1.8.1+cu102\n",
      "python: 3.7.5\n"
     ]
    }
   ],
   "source": [
    "print(f\"tensorflow: {torch.__version__}\")\n",
    "import sys\n",
    "print(f\"python: {sys.version[:5]}\")"
   ]
  },
  {
   "cell_type": "markdown",
   "metadata": {},
   "source": [
    "### b) Importing the data"
   ]
  },
  {
   "cell_type": "code",
   "execution_count": 147,
   "metadata": {},
   "outputs": [],
   "source": [
    "#download and save to file\n",
    "#urllib.request.urlretrieve(\n",
    "#    \"https://media.githubusercontent.com/media/mmeierer/CNN---TensorFlow-vs-PyTorch/main/fashion-mnist_train.csv\",\n",
    "#    \"fashion-mnist_train2.csv\")"
   ]
  },
  {
   "cell_type": "code",
   "execution_count": 3,
   "metadata": {},
   "outputs": [],
   "source": [
    "train_data = pd.read_csv('fashion-mnist_train2.csv')\n",
    "#test_data = pd.read_csv('fashion-mnist_test.csv')"
   ]
  },
  {
   "cell_type": "code",
   "execution_count": 4,
   "metadata": {},
   "outputs": [
    {
     "data": {
      "text/html": [
       "<div>\n",
       "<style scoped>\n",
       "    .dataframe tbody tr th:only-of-type {\n",
       "        vertical-align: middle;\n",
       "    }\n",
       "\n",
       "    .dataframe tbody tr th {\n",
       "        vertical-align: top;\n",
       "    }\n",
       "\n",
       "    .dataframe thead th {\n",
       "        text-align: right;\n",
       "    }\n",
       "</style>\n",
       "<table border=\"1\" class=\"dataframe\">\n",
       "  <thead>\n",
       "    <tr style=\"text-align: right;\">\n",
       "      <th></th>\n",
       "      <th>label</th>\n",
       "      <th>pixel1</th>\n",
       "      <th>pixel2</th>\n",
       "      <th>pixel3</th>\n",
       "      <th>pixel4</th>\n",
       "      <th>pixel5</th>\n",
       "      <th>pixel6</th>\n",
       "      <th>pixel7</th>\n",
       "      <th>pixel8</th>\n",
       "      <th>pixel9</th>\n",
       "      <th>...</th>\n",
       "      <th>pixel775</th>\n",
       "      <th>pixel776</th>\n",
       "      <th>pixel777</th>\n",
       "      <th>pixel778</th>\n",
       "      <th>pixel779</th>\n",
       "      <th>pixel780</th>\n",
       "      <th>pixel781</th>\n",
       "      <th>pixel782</th>\n",
       "      <th>pixel783</th>\n",
       "      <th>pixel784</th>\n",
       "    </tr>\n",
       "  </thead>\n",
       "  <tbody>\n",
       "    <tr>\n",
       "      <th>0</th>\n",
       "      <td>2</td>\n",
       "      <td>0</td>\n",
       "      <td>0</td>\n",
       "      <td>0</td>\n",
       "      <td>0</td>\n",
       "      <td>0</td>\n",
       "      <td>0</td>\n",
       "      <td>0</td>\n",
       "      <td>0</td>\n",
       "      <td>0</td>\n",
       "      <td>...</td>\n",
       "      <td>0</td>\n",
       "      <td>0</td>\n",
       "      <td>0</td>\n",
       "      <td>0</td>\n",
       "      <td>0</td>\n",
       "      <td>0</td>\n",
       "      <td>0</td>\n",
       "      <td>0</td>\n",
       "      <td>0</td>\n",
       "      <td>0</td>\n",
       "    </tr>\n",
       "    <tr>\n",
       "      <th>1</th>\n",
       "      <td>9</td>\n",
       "      <td>0</td>\n",
       "      <td>0</td>\n",
       "      <td>0</td>\n",
       "      <td>0</td>\n",
       "      <td>0</td>\n",
       "      <td>0</td>\n",
       "      <td>0</td>\n",
       "      <td>0</td>\n",
       "      <td>0</td>\n",
       "      <td>...</td>\n",
       "      <td>0</td>\n",
       "      <td>0</td>\n",
       "      <td>0</td>\n",
       "      <td>0</td>\n",
       "      <td>0</td>\n",
       "      <td>0</td>\n",
       "      <td>0</td>\n",
       "      <td>0</td>\n",
       "      <td>0</td>\n",
       "      <td>0</td>\n",
       "    </tr>\n",
       "    <tr>\n",
       "      <th>2</th>\n",
       "      <td>6</td>\n",
       "      <td>0</td>\n",
       "      <td>0</td>\n",
       "      <td>0</td>\n",
       "      <td>0</td>\n",
       "      <td>0</td>\n",
       "      <td>0</td>\n",
       "      <td>0</td>\n",
       "      <td>5</td>\n",
       "      <td>0</td>\n",
       "      <td>...</td>\n",
       "      <td>0</td>\n",
       "      <td>0</td>\n",
       "      <td>0</td>\n",
       "      <td>30</td>\n",
       "      <td>43</td>\n",
       "      <td>0</td>\n",
       "      <td>0</td>\n",
       "      <td>0</td>\n",
       "      <td>0</td>\n",
       "      <td>0</td>\n",
       "    </tr>\n",
       "    <tr>\n",
       "      <th>3</th>\n",
       "      <td>0</td>\n",
       "      <td>0</td>\n",
       "      <td>0</td>\n",
       "      <td>0</td>\n",
       "      <td>1</td>\n",
       "      <td>2</td>\n",
       "      <td>0</td>\n",
       "      <td>0</td>\n",
       "      <td>0</td>\n",
       "      <td>0</td>\n",
       "      <td>...</td>\n",
       "      <td>3</td>\n",
       "      <td>0</td>\n",
       "      <td>0</td>\n",
       "      <td>0</td>\n",
       "      <td>0</td>\n",
       "      <td>1</td>\n",
       "      <td>0</td>\n",
       "      <td>0</td>\n",
       "      <td>0</td>\n",
       "      <td>0</td>\n",
       "    </tr>\n",
       "    <tr>\n",
       "      <th>4</th>\n",
       "      <td>3</td>\n",
       "      <td>0</td>\n",
       "      <td>0</td>\n",
       "      <td>0</td>\n",
       "      <td>0</td>\n",
       "      <td>0</td>\n",
       "      <td>0</td>\n",
       "      <td>0</td>\n",
       "      <td>0</td>\n",
       "      <td>0</td>\n",
       "      <td>...</td>\n",
       "      <td>0</td>\n",
       "      <td>0</td>\n",
       "      <td>0</td>\n",
       "      <td>0</td>\n",
       "      <td>0</td>\n",
       "      <td>0</td>\n",
       "      <td>0</td>\n",
       "      <td>0</td>\n",
       "      <td>0</td>\n",
       "      <td>0</td>\n",
       "    </tr>\n",
       "  </tbody>\n",
       "</table>\n",
       "<p>5 rows × 785 columns</p>\n",
       "</div>"
      ],
      "text/plain": [
       "   label  pixel1  pixel2  pixel3  pixel4  pixel5  pixel6  pixel7  pixel8  \\\n",
       "0      2       0       0       0       0       0       0       0       0   \n",
       "1      9       0       0       0       0       0       0       0       0   \n",
       "2      6       0       0       0       0       0       0       0       5   \n",
       "3      0       0       0       0       1       2       0       0       0   \n",
       "4      3       0       0       0       0       0       0       0       0   \n",
       "\n",
       "   pixel9  ...  pixel775  pixel776  pixel777  pixel778  pixel779  pixel780  \\\n",
       "0       0  ...         0         0         0         0         0         0   \n",
       "1       0  ...         0         0         0         0         0         0   \n",
       "2       0  ...         0         0         0        30        43         0   \n",
       "3       0  ...         3         0         0         0         0         1   \n",
       "4       0  ...         0         0         0         0         0         0   \n",
       "\n",
       "   pixel781  pixel782  pixel783  pixel784  \n",
       "0         0         0         0         0  \n",
       "1         0         0         0         0  \n",
       "2         0         0         0         0  \n",
       "3         0         0         0         0  \n",
       "4         0         0         0         0  \n",
       "\n",
       "[5 rows x 785 columns]"
      ]
     },
     "execution_count": 4,
     "metadata": {},
     "output_type": "execute_result"
    }
   ],
   "source": [
    "train_data.head()"
   ]
  },
  {
   "cell_type": "code",
   "execution_count": 10,
   "metadata": {},
   "outputs": [
    {
     "name": "stdout",
     "output_type": "stream",
     "text": [
      "pixel1      0\n",
      "pixel2      0\n",
      "pixel3      0\n",
      "pixel4      0\n",
      "pixel5      0\n",
      "           ..\n",
      "pixel780    0\n",
      "pixel781    0\n",
      "pixel782    0\n",
      "pixel783    0\n",
      "pixel784    0\n",
      "Name: 999, Length: 784, dtype: int64\n"
     ]
    }
   ],
   "source": [
    "train_images = train_data.iloc[:1000,1:]\n",
    "print( train_images.iloc[-1])\n",
    "train_labels = train_data.iloc[:,0]\n",
    "#test_images = test_data.iloc[:,1:]\n",
    "#test_labels = test_data.iloc[:,0]"
   ]
  },
  {
   "cell_type": "code",
   "execution_count": 11,
   "metadata": {},
   "outputs": [
    {
     "data": {
      "image/png": "[encoded data removed]",
      "text/plain": [
       "<Figure size 432x288 with 2 Axes>"
      ]
     },
     "metadata": {
      "needs_background": "light"
     },
     "output_type": "display_data"
    }
   ],
   "source": [
    "plt.figure()\n",
    "plt.imshow(train_images.values[0].reshape(28,28), cmap='gray')\n",
    "plt.colorbar()\n",
    "plt.grid(False)\n",
    "plt.show()"
   ]
  },
  {
   "cell_type": "markdown",
   "metadata": {},
   "source": [
    "### c) Data preparation"
   ]
  },
  {
   "cell_type": "code",
   "execution_count": 12,
   "metadata": {},
   "outputs": [
    {
     "data": {
      "text/plain": [
       "array([0, 1, 2, 3, 4, 5, 6, 7, 8, 9], dtype=int64)"
      ]
     },
     "execution_count": 12,
     "metadata": {},
     "output_type": "execute_result"
    }
   ],
   "source": [
    "np.unique(train_labels)"
   ]
  },
  {
   "cell_type": "code",
   "execution_count": 13,
   "metadata": {},
   "outputs": [],
   "source": [
    "class_names = ['T-shirt/top', 'Trouser', 'Pullover', 'Dress', 'Coat',\n",
    "               'Sandal', 'Shirt', 'Sneaker', 'Bag', 'Ankle boot']"
   ]
  },
  {
   "cell_type": "code",
   "execution_count": 14,
   "metadata": {},
   "outputs": [],
   "source": [
    "# use maximum normalization\n",
    "train_images = train_images / np.float32(255)\n",
    "#test_images = test_images / np.float32(255)"
   ]
  },
  {
   "cell_type": "code",
   "execution_count": 15,
   "metadata": {},
   "outputs": [
    {
     "data": {
      "text/html": [
       "<div>\n",
       "<style scoped>\n",
       "    .dataframe tbody tr th:only-of-type {\n",
       "        vertical-align: middle;\n",
       "    }\n",
       "\n",
       "    .dataframe tbody tr th {\n",
       "        vertical-align: top;\n",
       "    }\n",
       "\n",
       "    .dataframe thead th {\n",
       "        text-align: right;\n",
       "    }\n",
       "</style>\n",
       "<table border=\"1\" class=\"dataframe\">\n",
       "  <thead>\n",
       "    <tr style=\"text-align: right;\">\n",
       "      <th></th>\n",
       "      <th>pixel1</th>\n",
       "      <th>pixel2</th>\n",
       "      <th>pixel3</th>\n",
       "      <th>pixel4</th>\n",
       "      <th>pixel5</th>\n",
       "      <th>pixel6</th>\n",
       "      <th>pixel7</th>\n",
       "      <th>pixel8</th>\n",
       "      <th>pixel9</th>\n",
       "      <th>pixel10</th>\n",
       "      <th>...</th>\n",
       "      <th>pixel775</th>\n",
       "      <th>pixel776</th>\n",
       "      <th>pixel777</th>\n",
       "      <th>pixel778</th>\n",
       "      <th>pixel779</th>\n",
       "      <th>pixel780</th>\n",
       "      <th>pixel781</th>\n",
       "      <th>pixel782</th>\n",
       "      <th>pixel783</th>\n",
       "      <th>pixel784</th>\n",
       "    </tr>\n",
       "  </thead>\n",
       "  <tbody>\n",
       "    <tr>\n",
       "      <th>0</th>\n",
       "      <td>0.0</td>\n",
       "      <td>0.0</td>\n",
       "      <td>0.0</td>\n",
       "      <td>0.000000</td>\n",
       "      <td>0.000000</td>\n",
       "      <td>0.0</td>\n",
       "      <td>0.0</td>\n",
       "      <td>0.000000</td>\n",
       "      <td>0.0</td>\n",
       "      <td>0.0</td>\n",
       "      <td>...</td>\n",
       "      <td>0.000000</td>\n",
       "      <td>0.0</td>\n",
       "      <td>0.0</td>\n",
       "      <td>0.000000</td>\n",
       "      <td>0.000000</td>\n",
       "      <td>0.000000</td>\n",
       "      <td>0.0</td>\n",
       "      <td>0.0</td>\n",
       "      <td>0.0</td>\n",
       "      <td>0.0</td>\n",
       "    </tr>\n",
       "    <tr>\n",
       "      <th>1</th>\n",
       "      <td>0.0</td>\n",
       "      <td>0.0</td>\n",
       "      <td>0.0</td>\n",
       "      <td>0.000000</td>\n",
       "      <td>0.000000</td>\n",
       "      <td>0.0</td>\n",
       "      <td>0.0</td>\n",
       "      <td>0.000000</td>\n",
       "      <td>0.0</td>\n",
       "      <td>0.0</td>\n",
       "      <td>...</td>\n",
       "      <td>0.000000</td>\n",
       "      <td>0.0</td>\n",
       "      <td>0.0</td>\n",
       "      <td>0.000000</td>\n",
       "      <td>0.000000</td>\n",
       "      <td>0.000000</td>\n",
       "      <td>0.0</td>\n",
       "      <td>0.0</td>\n",
       "      <td>0.0</td>\n",
       "      <td>0.0</td>\n",
       "    </tr>\n",
       "    <tr>\n",
       "      <th>2</th>\n",
       "      <td>0.0</td>\n",
       "      <td>0.0</td>\n",
       "      <td>0.0</td>\n",
       "      <td>0.000000</td>\n",
       "      <td>0.000000</td>\n",
       "      <td>0.0</td>\n",
       "      <td>0.0</td>\n",
       "      <td>0.019608</td>\n",
       "      <td>0.0</td>\n",
       "      <td>0.0</td>\n",
       "      <td>...</td>\n",
       "      <td>0.000000</td>\n",
       "      <td>0.0</td>\n",
       "      <td>0.0</td>\n",
       "      <td>0.117647</td>\n",
       "      <td>0.168627</td>\n",
       "      <td>0.000000</td>\n",
       "      <td>0.0</td>\n",
       "      <td>0.0</td>\n",
       "      <td>0.0</td>\n",
       "      <td>0.0</td>\n",
       "    </tr>\n",
       "    <tr>\n",
       "      <th>3</th>\n",
       "      <td>0.0</td>\n",
       "      <td>0.0</td>\n",
       "      <td>0.0</td>\n",
       "      <td>0.003922</td>\n",
       "      <td>0.007843</td>\n",
       "      <td>0.0</td>\n",
       "      <td>0.0</td>\n",
       "      <td>0.000000</td>\n",
       "      <td>0.0</td>\n",
       "      <td>0.0</td>\n",
       "      <td>...</td>\n",
       "      <td>0.011765</td>\n",
       "      <td>0.0</td>\n",
       "      <td>0.0</td>\n",
       "      <td>0.000000</td>\n",
       "      <td>0.000000</td>\n",
       "      <td>0.003922</td>\n",
       "      <td>0.0</td>\n",
       "      <td>0.0</td>\n",
       "      <td>0.0</td>\n",
       "      <td>0.0</td>\n",
       "    </tr>\n",
       "    <tr>\n",
       "      <th>4</th>\n",
       "      <td>0.0</td>\n",
       "      <td>0.0</td>\n",
       "      <td>0.0</td>\n",
       "      <td>0.000000</td>\n",
       "      <td>0.000000</td>\n",
       "      <td>0.0</td>\n",
       "      <td>0.0</td>\n",
       "      <td>0.000000</td>\n",
       "      <td>0.0</td>\n",
       "      <td>0.0</td>\n",
       "      <td>...</td>\n",
       "      <td>0.000000</td>\n",
       "      <td>0.0</td>\n",
       "      <td>0.0</td>\n",
       "      <td>0.000000</td>\n",
       "      <td>0.000000</td>\n",
       "      <td>0.000000</td>\n",
       "      <td>0.0</td>\n",
       "      <td>0.0</td>\n",
       "      <td>0.0</td>\n",
       "      <td>0.0</td>\n",
       "    </tr>\n",
       "  </tbody>\n",
       "</table>\n",
       "<p>5 rows × 784 columns</p>\n",
       "</div>"
      ],
      "text/plain": [
       "   pixel1  pixel2  pixel3    pixel4    pixel5  pixel6  pixel7    pixel8  \\\n",
       "0     0.0     0.0     0.0  0.000000  0.000000     0.0     0.0  0.000000   \n",
       "1     0.0     0.0     0.0  0.000000  0.000000     0.0     0.0  0.000000   \n",
       "2     0.0     0.0     0.0  0.000000  0.000000     0.0     0.0  0.019608   \n",
       "3     0.0     0.0     0.0  0.003922  0.007843     0.0     0.0  0.000000   \n",
       "4     0.0     0.0     0.0  0.000000  0.000000     0.0     0.0  0.000000   \n",
       "\n",
       "   pixel9  pixel10  ...  pixel775  pixel776  pixel777  pixel778  pixel779  \\\n",
       "0     0.0      0.0  ...  0.000000       0.0       0.0  0.000000  0.000000   \n",
       "1     0.0      0.0  ...  0.000000       0.0       0.0  0.000000  0.000000   \n",
       "2     0.0      0.0  ...  0.000000       0.0       0.0  0.117647  0.168627   \n",
       "3     0.0      0.0  ...  0.011765       0.0       0.0  0.000000  0.000000   \n",
       "4     0.0      0.0  ...  0.000000       0.0       0.0  0.000000  0.000000   \n",
       "\n",
       "   pixel780  pixel781  pixel782  pixel783  pixel784  \n",
       "0  0.000000       0.0       0.0       0.0       0.0  \n",
       "1  0.000000       0.0       0.0       0.0       0.0  \n",
       "2  0.000000       0.0       0.0       0.0       0.0  \n",
       "3  0.003922       0.0       0.0       0.0       0.0  \n",
       "4  0.000000       0.0       0.0       0.0       0.0  \n",
       "\n",
       "[5 rows x 784 columns]"
      ]
     },
     "execution_count": 15,
     "metadata": {},
     "output_type": "execute_result"
    }
   ],
   "source": [
    "train_images.head()"
   ]
  },
  {
   "cell_type": "markdown",
   "metadata": {},
   "source": [
    "\n",
    "## 2. Model specific data preparation (tensorflow)\n",
    "## a) Load the data"
   ]
  },
  {
   "cell_type": "code",
   "execution_count": 16,
   "metadata": {},
   "outputs": [],
   "source": [
    "x_train_pt = torch.from_numpy(train_images.values.reshape((-1, 1, 28, 28)))\n",
    "y_train_pt = torch.from_numpy(train_labels.values)\n",
    "#x_test_pt = torch.from_numpy(test_images.values.reshape((-1, 1, 28, 28)))\n",
    "#y_test_pt = torch.from_numpy(test_labels.values)"
   ]
  },
  {
   "cell_type": "code",
   "execution_count": 17,
   "metadata": {},
   "outputs": [
    {
     "data": {
      "image/png": "[encoded data removed]",
      "text/plain": [
       "<Figure size 432x288 with 2 Axes>"
      ]
     },
     "metadata": {
      "needs_background": "light"
     },
     "output_type": "display_data"
    }
   ],
   "source": [
    "# use random seed to create fake input data\n",
    "seed = torch.rand((28,28))\n",
    "seed_im = seed.numpy() * 255\n",
    "plt.figure()\n",
    "plt.imshow(seed_im, cmap='gray')\n",
    "plt.colorbar()\n",
    "plt.grid(False)\n",
    "plt.show()"
   ]
  },
  {
   "cell_type": "markdown",
   "metadata": {},
   "source": [
    "### b) Tensor view of the data"
   ]
  },
  {
   "cell_type": "code",
   "execution_count": 18,
   "metadata": {},
   "outputs": [
    {
     "data": {
      "text/plain": [
       "torch.Size([1000, 1, 28, 28])"
      ]
     },
     "execution_count": 18,
     "metadata": {},
     "output_type": "execute_result"
    }
   ],
   "source": [
    "x_train_pt.shape"
   ]
  },
  {
   "cell_type": "code",
   "execution_count": 19,
   "metadata": {},
   "outputs": [
    {
     "data": {
      "text/plain": [
       "torch.Size([28, 28])"
      ]
     },
     "execution_count": 19,
     "metadata": {},
     "output_type": "execute_result"
    }
   ],
   "source": [
    "seed.shape"
   ]
  },
  {
   "cell_type": "code",
   "execution_count": 20,
   "metadata": {},
   "outputs": [
    {
     "ename": "NameError",
     "evalue": "name 'x_test_pt' is not defined",
     "output_type": "error",
     "traceback": [
      "\u001b[1;31m---------------------------------------------------------------------------\u001b[0m",
      "\u001b[1;31mNameError\u001b[0m                                 Traceback (most recent call last)",
      "\u001b[1;32m<ipython-input-20-e9b7b64b73dc>\u001b[0m in \u001b[0;36m<module>\u001b[1;34m\u001b[0m\n\u001b[1;32m----> 1\u001b[1;33m \u001b[0mx_test_pt\u001b[0m\u001b[1;33m.\u001b[0m\u001b[0mshape\u001b[0m\u001b[1;33m\u001b[0m\u001b[1;33m\u001b[0m\u001b[0m\n\u001b[0m",
      "\u001b[1;31mNameError\u001b[0m: name 'x_test_pt' is not defined"
     ]
    }
   ],
   "source": [
    "x_test_pt.shape"
   ]
  },
  {
   "cell_type": "code",
   "execution_count": 21,
   "metadata": {},
   "outputs": [
    {
     "data": {
      "text/plain": [
       "tensor([0.0000, 0.0000, 0.0000, 0.0000, 0.0000, 0.1843, 0.9882, 0.9176, 0.9333,\n",
       "        0.8784, 0.8431, 0.8431, 0.8980, 0.4235, 0.7059, 0.8118, 0.8392, 0.8784,\n",
       "        0.9059, 0.9765, 0.9961, 0.1765, 0.0000, 0.0000, 0.0000, 0.0000, 0.0000,\n",
       "        0.0000], dtype=torch.float64)"
      ]
     },
     "execution_count": 21,
     "metadata": {},
     "output_type": "execute_result"
    }
   ],
   "source": [
    "x_train_pt[0][0][5]"
   ]
  },
  {
   "cell_type": "code",
   "execution_count": 22,
   "metadata": {},
   "outputs": [
    {
     "data": {
      "text/plain": [
       "tensor(2)"
      ]
     },
     "execution_count": 22,
     "metadata": {},
     "output_type": "execute_result"
    }
   ],
   "source": [
    "y_train_pt[0]"
   ]
  },
  {
   "cell_type": "markdown",
   "metadata": {},
   "source": [
    "## 3. Model definition"
   ]
  },
  {
   "cell_type": "code",
   "execution_count": 23,
   "metadata": {},
   "outputs": [],
   "source": [
    "def weights_init(m):\n",
    "  if isinstance(m, nn.Linear):\n",
    "      nn.init.uniform_(m.weight.data, -1,1)\n",
    "      nn.init.zeros_(m.bias.data)\n",
    "  if isinstance(m, nn.Conv2d):\n",
    "      nn.init.zeros_(m.bias.data)"
   ]
  },
  {
   "cell_type": "markdown",
   "metadata": {},
   "source": [
    "### a.1) Generator"
   ]
  },
  {
   "cell_type": "code",
   "execution_count": 24,
   "metadata": {},
   "outputs": [],
   "source": [
    "# define a reshap layer\n",
    "class Reshape(nn.Module):\n",
    "    def __init__(self, *args):\n",
    "        super(Reshape, self).__init__()\n",
    "        self.shape = args\n",
    "\n",
    "    def forward(self, x):\n",
    "        res = x.view(self.shape)\n",
    "        print(res.shape)\n",
    "        return x.view(self.shape)\n",
    "#N - batch size / sample size\n",
    "#L - sequence length\n",
    "#C - the number of features / channels / filters\n",
    "#pytroch uses (batch, channels, h, w)"
   ]
  },
  {
   "cell_type": "code",
   "execution_count": 25,
   "metadata": {},
   "outputs": [],
   "source": [
    "def generator_model():\n",
    "    model = nn.Sequential()\n",
    "    #model.add_module(\"dense1\", nn.Linear(100, 7*7*64, bias=True))\n",
    "    model.add_module(\"Conv2D1\", nn.ConvTranspose2d(100, 64, 7, stride=1, padding=0, bias=True))\n",
    "    model.add_module(\"Batchnorm1\", nn.BatchNorm2d(64))\n",
    "    model.add_module(\"LeakyRelu1\", nn.LeakyReLU())\n",
    "    #model.add_module(\"reshape\", Reshape(64, 7, 7))\n",
    "    \n",
    "    model.add_module(\"Conv2D2\", nn.ConvTranspose2d(64, 64, (8,8), stride=(1,1), padding=0, bias=False))\n",
    "    model.add_module(\"Batchnorm2\", nn.BatchNorm2d(64))\n",
    "    model.add_module(\"LeakyRelu2\", nn.LeakyReLU())\n",
    "    \n",
    "    model.add_module(\"Conv2D3\", nn.ConvTranspose2d(64, 1, (15,15), stride=1, padding=0, bias=False))\n",
    "    model.add_module(\"Batchnorm3\", nn.BatchNorm2d(1))\n",
    "    model.add_module(\"Sigmoid1\", nn.Sigmoid())\n",
    "    return model\n",
    "generator = generator_model()\n",
    "#generator.eval()"
   ]
  },
  {
   "cell_type": "code",
   "execution_count": 26,
   "metadata": {},
   "outputs": [
    {
     "data": {
      "text/plain": [
       "torch.Size([1, 1, 28, 28])"
      ]
     },
     "execution_count": 26,
     "metadata": {},
     "output_type": "execute_result"
    }
   ],
   "source": [
    "# generated image not trained\n",
    "fake_im_not_trained = generator(torch.rand([1, 100, 1, 1]))\n",
    "# check output shape of generator\n",
    "fake_im_not_trained.shape"
   ]
  },
  {
   "cell_type": "markdown",
   "metadata": {},
   "source": [
    "###  a.2) Inspect the generator model"
   ]
  },
  {
   "cell_type": "code",
   "execution_count": 27,
   "metadata": {},
   "outputs": [
    {
     "name": "stdout",
     "output_type": "stream",
     "text": [
      "Sequential(\n",
      "  (Conv2D1): ConvTranspose2d(100, 64, kernel_size=(7, 7), stride=(1, 1))\n",
      "  (Batchnorm1): BatchNorm2d(64, eps=1e-05, momentum=0.1, affine=True, track_running_stats=True)\n",
      "  (LeakyRelu1): LeakyReLU(negative_slope=0.01)\n",
      "  (Conv2D2): ConvTranspose2d(64, 64, kernel_size=(8, 8), stride=(1, 1), bias=False)\n",
      "  (Batchnorm2): BatchNorm2d(64, eps=1e-05, momentum=0.1, affine=True, track_running_stats=True)\n",
      "  (LeakyRelu2): LeakyReLU(negative_slope=0.01)\n",
      "  (Conv2D3): ConvTranspose2d(64, 1, kernel_size=(15, 15), stride=(1, 1), bias=False)\n",
      "  (Batchnorm3): BatchNorm2d(1, eps=1e-05, momentum=0.1, affine=True, track_running_stats=True)\n",
      "  (Sigmoid1): Sigmoid()\n",
      ")\n"
     ]
    }
   ],
   "source": [
    "print(generator)"
   ]
  },
  {
   "cell_type": "code",
   "execution_count": 28,
   "metadata": {},
   "outputs": [
    {
     "data": {
      "text/plain": [
       "Sequential(\n",
       "  (Conv2D1): ConvTranspose2d(100, 64, kernel_size=(7, 7), stride=(1, 1))\n",
       "  (Batchnorm1): BatchNorm2d(64, eps=1e-05, momentum=0.1, affine=True, track_running_stats=True)\n",
       "  (LeakyRelu1): LeakyReLU(negative_slope=0.01)\n",
       "  (Conv2D2): ConvTranspose2d(64, 64, kernel_size=(8, 8), stride=(1, 1), bias=False)\n",
       "  (Batchnorm2): BatchNorm2d(64, eps=1e-05, momentum=0.1, affine=True, track_running_stats=True)\n",
       "  (LeakyRelu2): LeakyReLU(negative_slope=0.01)\n",
       "  (Conv2D3): ConvTranspose2d(64, 1, kernel_size=(15, 15), stride=(1, 1), bias=False)\n",
       "  (Batchnorm3): BatchNorm2d(1, eps=1e-05, momentum=0.1, affine=True, track_running_stats=True)\n",
       "  (Sigmoid1): Sigmoid()\n",
       ")"
      ]
     },
     "execution_count": 28,
     "metadata": {},
     "output_type": "execute_result"
    }
   ],
   "source": [
    "generator.apply(weights_init)"
   ]
  },
  {
   "cell_type": "markdown",
   "metadata": {},
   "source": [
    "### a.3) Inspect the first convolutional layer"
   ]
  },
  {
   "cell_type": "code",
   "execution_count": 29,
   "metadata": {},
   "outputs": [
    {
     "data": {
      "text/plain": [
       "'torch.FloatTensor'"
      ]
     },
     "execution_count": 29,
     "metadata": {},
     "output_type": "execute_result"
    }
   ],
   "source": [
    "generator[0].weight[0].type()"
   ]
  },
  {
   "cell_type": "code",
   "execution_count": 30,
   "metadata": {},
   "outputs": [
    {
     "data": {
      "text/plain": [
       "torch.Size([100, 64, 7, 7])"
      ]
     },
     "execution_count": 30,
     "metadata": {},
     "output_type": "execute_result"
    }
   ],
   "source": [
    "generator[0].weight.shape"
   ]
  },
  {
   "cell_type": "code",
   "execution_count": 31,
   "metadata": {},
   "outputs": [
    {
     "data": {
      "text/plain": [
       "Parameter containing:\n",
       "tensor([ 0.0087, -0.0001, -0.0166,  0.0169, -0.0067, -0.0119, -0.0015, -0.0093,\n",
       "         0.0063,  0.0095,  0.0172,  0.0084, -0.0109, -0.0003,  0.0069, -0.0155,\n",
       "         0.0013,  0.0150, -0.0155,  0.0021, -0.0035,  0.0015, -0.0043,  0.0165,\n",
       "         0.0146,  0.0114,  0.0133,  0.0069, -0.0025, -0.0119, -0.0040,  0.0060,\n",
       "        -0.0165,  0.0148,  0.0091,  0.0166,  0.0141,  0.0163,  0.0127,  0.0169,\n",
       "         0.0021,  0.0145,  0.0138, -0.0170, -0.0145,  0.0092, -0.0015,  0.0092,\n",
       "         0.0157,  0.0161,  0.0148, -0.0042,  0.0027,  0.0109, -0.0071, -0.0095,\n",
       "        -0.0032, -0.0174, -0.0054, -0.0125, -0.0099,  0.0033,  0.0095,  0.0135],\n",
       "       requires_grad=True)"
      ]
     },
     "execution_count": 31,
     "metadata": {},
     "output_type": "execute_result"
    }
   ],
   "source": [
    "generator[0].bias"
   ]
  },
  {
   "cell_type": "code",
   "execution_count": 32,
   "metadata": {},
   "outputs": [
    {
     "data": {
      "text/plain": [
       "torch.Size([64])"
      ]
     },
     "execution_count": 32,
     "metadata": {},
     "output_type": "execute_result"
    }
   ],
   "source": [
    "generator[0].bias.shape"
   ]
  },
  {
   "cell_type": "markdown",
   "metadata": {},
   "source": [
    "### b.1) Discriminator"
   ]
  },
  {
   "cell_type": "code",
   "execution_count": 33,
   "metadata": {},
   "outputs": [],
   "source": [
    "def discriminator_model():\n",
    "    model = nn.Sequential()\n",
    "    model.add_module(\"Conv2D1\", nn.Conv2d(1, 2, kernel_size=5, stride=1, padding=2))\n",
    "    model.add_module(\"Pooling1\", nn.AvgPool2d(kernel_size=2, stride=2))\n",
    "    model.add_module(\"LeakyRelu1\", nn.LeakyReLU())\n",
    "    model.add_module(\"Dropout1\", nn.Dropout(0.3))\n",
    "    \n",
    "    model.add_module(\"Conv2D2\", nn.Conv2d(2, 2, kernel_size=5, stride=1, padding=2))\n",
    "    model.add_module(\"LeakyRelu2\", nn.LeakyReLU())\n",
    "    \n",
    "    model.add_module(\"Conv2D3\", nn.Conv2d(2, 1, kernel_size=5, stride=1, padding=2))\n",
    "    model.add_module(\"LeakyRelu3\", nn.LeakyReLU())\n",
    "    \n",
    "    model.add_module(\"Flatten1\", nn.Flatten())\n",
    "    \n",
    "    model.add_module(\"Dense1\", nn.Linear(14*14,100))\n",
    "    model.add_module(\"LeakyRelu4\", nn.LeakyReLU())\n",
    "    \n",
    "    model.add_module(\"Dense2\", nn.Linear(100,64))\n",
    "    model.add_module(\"Tanh\", nn.Tanh())\n",
    "    \n",
    "    model.add_module(\"Dense3\", nn.Linear(64,1))\n",
    "    model.add_module(\"Sigmoid\", nn.Sigmoid())\n",
    "    return model\n",
    "discriminator = discriminator_model()\n",
    "discriminator = discriminator.float()"
   ]
  },
  {
   "cell_type": "markdown",
   "metadata": {},
   "source": [
    "### b.2) Inspect the discriminator model"
   ]
  },
  {
   "cell_type": "code",
   "execution_count": 34,
   "metadata": {
    "scrolled": false
   },
   "outputs": [
    {
     "name": "stdout",
     "output_type": "stream",
     "text": [
      "Sequential(\n",
      "  (Conv2D1): Conv2d(1, 2, kernel_size=(5, 5), stride=(1, 1), padding=(2, 2))\n",
      "  (Pooling1): AvgPool2d(kernel_size=2, stride=2, padding=0)\n",
      "  (LeakyRelu1): LeakyReLU(negative_slope=0.01)\n",
      "  (Dropout1): Dropout(p=0.3, inplace=False)\n",
      "  (Conv2D2): Conv2d(2, 2, kernel_size=(5, 5), stride=(1, 1), padding=(2, 2))\n",
      "  (LeakyRelu2): LeakyReLU(negative_slope=0.01)\n",
      "  (Conv2D3): Conv2d(2, 1, kernel_size=(5, 5), stride=(1, 1), padding=(2, 2))\n",
      "  (LeakyRelu3): LeakyReLU(negative_slope=0.01)\n",
      "  (Flatten1): Flatten(start_dim=1, end_dim=-1)\n",
      "  (Dense1): Linear(in_features=196, out_features=100, bias=True)\n",
      "  (LeakyRelu4): LeakyReLU(negative_slope=0.01)\n",
      "  (Dense2): Linear(in_features=100, out_features=64, bias=True)\n",
      "  (Tanh): Tanh()\n",
      "  (Dense3): Linear(in_features=64, out_features=1, bias=True)\n",
      "  (Sigmoid): Sigmoid()\n",
      ")\n"
     ]
    },
    {
     "data": {
      "text/plain": [
       "tensor([[0.4847]], grad_fn=<SigmoidBackward>)"
      ]
     },
     "execution_count": 34,
     "metadata": {},
     "output_type": "execute_result"
    }
   ],
   "source": [
    "print(discriminator)\n",
    "discriminator(fake_im_not_trained)"
   ]
  },
  {
   "cell_type": "code",
   "execution_count": 35,
   "metadata": {},
   "outputs": [
    {
     "data": {
      "text/plain": [
       "Sequential(\n",
       "  (Conv2D1): Conv2d(1, 2, kernel_size=(5, 5), stride=(1, 1), padding=(2, 2))\n",
       "  (Pooling1): AvgPool2d(kernel_size=2, stride=2, padding=0)\n",
       "  (LeakyRelu1): LeakyReLU(negative_slope=0.01)\n",
       "  (Dropout1): Dropout(p=0.3, inplace=False)\n",
       "  (Conv2D2): Conv2d(2, 2, kernel_size=(5, 5), stride=(1, 1), padding=(2, 2))\n",
       "  (LeakyRelu2): LeakyReLU(negative_slope=0.01)\n",
       "  (Conv2D3): Conv2d(2, 1, kernel_size=(5, 5), stride=(1, 1), padding=(2, 2))\n",
       "  (LeakyRelu3): LeakyReLU(negative_slope=0.01)\n",
       "  (Flatten1): Flatten(start_dim=1, end_dim=-1)\n",
       "  (Dense1): Linear(in_features=196, out_features=100, bias=True)\n",
       "  (LeakyRelu4): LeakyReLU(negative_slope=0.01)\n",
       "  (Dense2): Linear(in_features=100, out_features=64, bias=True)\n",
       "  (Tanh): Tanh()\n",
       "  (Dense3): Linear(in_features=64, out_features=1, bias=True)\n",
       "  (Sigmoid): Sigmoid()\n",
       ")"
      ]
     },
     "execution_count": 35,
     "metadata": {},
     "output_type": "execute_result"
    }
   ],
   "source": [
    "discriminator.apply(weights_init)"
   ]
  },
  {
   "cell_type": "markdown",
   "metadata": {},
   "source": [
    "### b.3) Inspect the first convolutional layer"
   ]
  },
  {
   "cell_type": "code",
   "execution_count": 36,
   "metadata": {},
   "outputs": [
    {
     "data": {
      "text/plain": [
       "'torch.FloatTensor'"
      ]
     },
     "execution_count": 36,
     "metadata": {},
     "output_type": "execute_result"
    }
   ],
   "source": [
    "discriminator[0].weight[0].type()"
   ]
  },
  {
   "cell_type": "code",
   "execution_count": 37,
   "metadata": {},
   "outputs": [
    {
     "data": {
      "text/plain": [
       "torch.Size([2, 1, 5, 5])"
      ]
     },
     "execution_count": 37,
     "metadata": {},
     "output_type": "execute_result"
    }
   ],
   "source": [
    "discriminator[0].weight.shape"
   ]
  },
  {
   "cell_type": "code",
   "execution_count": 38,
   "metadata": {},
   "outputs": [
    {
     "data": {
      "text/plain": [
       "Parameter containing:\n",
       "tensor([0., 0.], requires_grad=True)"
      ]
     },
     "execution_count": 38,
     "metadata": {},
     "output_type": "execute_result"
    }
   ],
   "source": [
    "discriminator[0].bias"
   ]
  },
  {
   "cell_type": "code",
   "execution_count": 39,
   "metadata": {},
   "outputs": [
    {
     "data": {
      "text/plain": [
       "torch.Size([2])"
      ]
     },
     "execution_count": 39,
     "metadata": {},
     "output_type": "execute_result"
    }
   ],
   "source": [
    "discriminator[0].bias.shape"
   ]
  },
  {
   "cell_type": "markdown",
   "metadata": {},
   "source": [
    "## 4. Loss & Optimizer"
   ]
  },
  {
   "cell_type": "markdown",
   "metadata": {},
   "source": [
    "### 4.a) Generator loss"
   ]
  },
  {
   "cell_type": "code",
   "execution_count": 40,
   "metadata": {},
   "outputs": [],
   "source": [
    "cross_entropy = nn.BCEWithLogitsLoss()\n",
    "def generator_loss(fake_output):\n",
    "    return cross_entropy(torch.ones_like(fake_output), fake_output)"
   ]
  },
  {
   "cell_type": "markdown",
   "metadata": {},
   "source": [
    "### 4.b) Discriminator loss"
   ]
  },
  {
   "cell_type": "code",
   "execution_count": 41,
   "metadata": {},
   "outputs": [],
   "source": [
    "def discriminator_loss(real_output, fake_output):\n",
    "    real_loss = cross_entropy(torch.ones_like(real_output), real_output)\n",
    "    fake_loss = cross_entropy(torch.zeros_like(fake_output), fake_output)\n",
    "    #total_loss = real_loss, fake_loss\n",
    "    return real_loss, fake_loss"
   ]
  },
  {
   "cell_type": "markdown",
   "metadata": {},
   "source": [
    "## 4.c) Optimizers"
   ]
  },
  {
   "cell_type": "code",
   "execution_count": 45,
   "metadata": {},
   "outputs": [],
   "source": [
    "generator_optimizer = optim.Adam(generator.parameters(), lr=1e-3)\n",
    "discriminator_optimizer = optim.Adam(discriminator.parameters(), lr=1e-3)\n",
    "\n",
    "#train_accuracy = tf.keras.metrics.BinaryAccuracy(name='train_accuracy') # only for discriminator\n",
    "\n",
    "def correct_classification(y_true, y_prob):\n",
    "    assert y_true.size() == y_prob.size()\n",
    "    y_prob = (y_prob > 0.5).float()\n",
    "    return (y_true == y_prob).sum().item()\n",
    "    #return torch.sum(y_true == y_pred)"
   ]
  },
  {
   "cell_type": "markdown",
   "metadata": {},
   "source": [
    "## 5. Training"
   ]
  },
  {
   "cell_type": "code",
   "execution_count": 65,
   "metadata": {},
   "outputs": [],
   "source": [
    "# This annotation causes the function to be \"compiled\".\n",
    "#@tf.function\n",
    "def train_step_pt(generator, discriminator, generator_optimizer, discriminator_optimizer, batch_size = 100):\n",
    "    gen_loss_tot = 0\n",
    "    disc_loss_tot = 0\n",
    "    disc_acc_real_tot = 0\n",
    "    disc_acc_fake_tot = 0\n",
    "    batch = 0\n",
    "    generator.train()\n",
    "    discriminator.train()\n",
    "    for beg_i in range(0, x_train_pt.shape[0], batch_size):\n",
    "        x_train_batch_pt = x_train_pt[beg_i:beg_i + batch_size]\n",
    "        y_train_batch_pt = y_train_pt[beg_i:beg_i + batch_size]\n",
    "\n",
    "        x_fake_batch_pt = torch.rand([batch_size, 100, 1, 1])\n",
    "        \n",
    "        generated_images = generator(x_fake_batch_pt)\n",
    "        real_output = discriminator(x_train_batch_pt.float())\n",
    "        fake_output = discriminator(generated_images)\n",
    "        \n",
    "        # optimize generator\n",
    "        generator_optimizer.zero_grad()\n",
    "\n",
    "        gen_loss = generator_loss(fake_output.detach())\n",
    "        gen_loss_tot += np.sum(gen_loss.data.numpy())\n",
    "        gen_loss = torch.autograd.Variable(gen_loss, requires_grad = True)\n",
    "        gen_loss.backward()\n",
    "        generator_optimizer.step()\n",
    "        #optimize discriminator\n",
    "        \n",
    "        discriminator_optimizer.zero_grad()\n",
    "        \n",
    "        disc_loss_real, disc_loss_fake = discriminator_loss(real_output.detach(), fake_output.detach())\n",
    "        disc_loss_tot += np.sum(disc_loss_real.data.numpy())\n",
    "        disc_loss_real = torch.autograd.Variable(disc_loss_real, requires_grad = True)\n",
    "        disc_loss_real.backward()\n",
    "        \n",
    "        disc_loss_tot += np.sum(disc_loss_fake.data.numpy())\n",
    "        disc_loss_fake = torch.autograd.Variable(disc_loss_fake, requires_grad = True)\n",
    "        disc_loss_fake.backward()\n",
    "        \n",
    "        discriminator_optimizer.step()\n",
    "\n",
    "        \n",
    "        disc_acc_real_tot += correct_classification(torch.ones_like(real_output), real_output)\n",
    "        disc_acc_fake_tot += correct_classification(torch.zeros_like(fake_output), fake_output)\n",
    "        batch += 1\n",
    "    disc_acc_real_tot = disc_acc_real_tot/x_train_pt.size(0)\n",
    "    print(disc_acc_real_tot)\n",
    "    disc_acc_fake_tot = disc_acc_fake_tot/x_train_pt.size(0)\n",
    "    print(disc_acc_fake_tot)\n",
    "    disc_acc_tot = np.mean([disc_acc_real_tot, disc_acc_fake_tot])\n",
    "    return gen_loss_tot/batch, disc_loss_tot/batch, disc_acc_tot"
   ]
  },
  {
   "cell_type": "code",
   "execution_count": 66,
   "metadata": {
    "scrolled": true
   },
   "outputs": [
    {
     "name": "stdout",
     "output_type": "stream",
     "text": [
      "0.489\n",
      "0.611\n",
      "Epoch 1, Loss_Generator: 0.8910730481147766, Loss_Discriminator: 1.501886248588562, Discriminator_Accuracy: 55.00000000000001\n",
      "0.519\n",
      "0.6\n",
      "Epoch 2, Loss_Generator: 0.8953931391239166, Loss_Discriminator: 1.4909544229507445, Discriminator_Accuracy: 55.95\n",
      "0.491\n",
      "0.592\n",
      "Epoch 3, Loss_Generator: 0.8908259868621826, Loss_Discriminator: 1.5009965240955352, Discriminator_Accuracy: 54.15\n",
      "0.514\n",
      "0.667\n",
      "Epoch 4, Loss_Generator: 0.9242148518562316, Loss_Discriminator: 1.4938180506229402, Discriminator_Accuracy: 59.050000000000004\n",
      "0.524\n",
      "0.627\n",
      "Epoch 5, Loss_Generator: 0.9013683199882507, Loss_Discriminator: 1.4819307386875153, Discriminator_Accuracy: 57.550000000000004\n",
      "0.488\n",
      "0.637\n",
      "Epoch 6, Loss_Generator: 0.9021043300628662, Loss_Discriminator: 1.5111374795436858, Discriminator_Accuracy: 56.25\n",
      "0.508\n",
      "0.618\n",
      "Epoch 7, Loss_Generator: 0.8903283476829529, Loss_Discriminator: 1.4985381364822388, Discriminator_Accuracy: 56.3\n",
      "0.482\n",
      "0.635\n",
      "Epoch 8, Loss_Generator: 0.9113288164138794, Loss_Discriminator: 1.5067489504814149, Discriminator_Accuracy: 55.85\n",
      "0.471\n",
      "0.61\n",
      "Epoch 9, Loss_Generator: 0.8987094819545746, Loss_Discriminator: 1.51452294588089, Discriminator_Accuracy: 54.05\n",
      "0.465\n",
      "0.619\n",
      "Epoch 10, Loss_Generator: 0.8955220282077789, Loss_Discriminator: 1.517109489440918, Discriminator_Accuracy: 54.2\n",
      "0.502\n",
      "0.631\n",
      "Epoch 11, Loss_Generator: 0.9092818439006806, Loss_Discriminator: 1.491088479757309, Discriminator_Accuracy: 56.65\n",
      "0.506\n",
      "0.637\n",
      "Epoch 12, Loss_Generator: 0.91680206656456, Loss_Discriminator: 1.492004132270813, Discriminator_Accuracy: 57.15\n",
      "0.478\n",
      "0.613\n",
      "Epoch 13, Loss_Generator: 0.8952749848365784, Loss_Discriminator: 1.5061167776584625, Discriminator_Accuracy: 54.55\n",
      "0.496\n",
      "0.626\n",
      "Epoch 14, Loss_Generator: 0.8990098416805268, Loss_Discriminator: 1.4982784509658813, Discriminator_Accuracy: 56.099999999999994\n",
      "0.506\n",
      "0.621\n",
      "Epoch 15, Loss_Generator: 0.905977725982666, Loss_Discriminator: 1.4875341355800629, Discriminator_Accuracy: 56.35\n"
     ]
    }
   ],
   "source": [
    "train_losses_generator_pt = []\n",
    "train_losses_discriminator_pt = []\n",
    "#test_loss_pt = []\n",
    "\n",
    "train_acc_discriminator_pt = []\n",
    "#test_acc_pt = []\n",
    "\n",
    "epochs = 15\n",
    "\n",
    "for epoch in range(epochs):\n",
    "    gen_loss, disc_loss, disc_acc = train_step_pt(generator, discriminator, generator_optimizer, discriminator_optimizer)\n",
    "    #print(loss)\n",
    "    train_losses_generator_pt.append(gen_loss)\n",
    "    train_losses_discriminator_pt.append(disc_loss)\n",
    "    train_acc_discriminator_pt.append(disc_acc*100)\n",
    "\n",
    "\n",
    "    template = (\"Epoch {}, Loss_Generator: {}, Loss_Discriminator: {}, Discriminator_Accuracy: {}\")\n",
    "    print(template.format(epoch+1, gen_loss, disc_loss, disc_acc*100))"
   ]
  },
  {
   "cell_type": "markdown",
   "metadata": {},
   "source": [
    "### b) Training progress"
   ]
  },
  {
   "cell_type": "code",
   "execution_count": 67,
   "metadata": {},
   "outputs": [
    {
     "name": "stdout",
     "output_type": "stream",
     "text": [
      "[55.00000000000001, 55.95, 54.15, 59.050000000000004, 57.550000000000004, 56.25, 56.3, 55.85, 54.05, 54.2, 56.65, 57.15, 54.55, 56.099999999999994, 56.35]\n"
     ]
    }
   ],
   "source": [
    "print(train_acc_discriminator_pt)"
   ]
  },
  {
   "cell_type": "code",
   "execution_count": 68,
   "metadata": {},
   "outputs": [
    {
     "data": {
      "image/png": "[encoded data removed]",
      "text/plain": [
       "<Figure size 1152x720 with 1 Axes>"
      ]
     },
     "metadata": {
      "needs_background": "light"
     },
     "output_type": "display_data"
    }
   ],
   "source": [
    "plt.figure(figsize=(16,10))\n",
    "plt.plot(train_acc_discriminator_pt)\n",
    "plt.title('discriminator accuracy')\n",
    "plt.ylabel('accuracy')\n",
    "plt.xlabel('epoch')\n",
    "plt.legend(['discriminator_train'], loc='upper right')\n",
    "plt.show()"
   ]
  },
  {
   "cell_type": "code",
   "execution_count": 69,
   "metadata": {},
   "outputs": [
    {
     "data": {
      "image/png": "[encoded data removed]",
      "text/plain": [
       "<Figure size 1152x720 with 1 Axes>"
      ]
     },
     "metadata": {
      "needs_background": "light"
     },
     "output_type": "display_data"
    }
   ],
   "source": [
    "plt.figure(figsize=(16,10))\n",
    "plt.plot(train_losses_generator_pt)\n",
    "plt.plot(train_losses_discriminator_pt)\n",
    "plt.title('model loss')\n",
    "plt.ylabel('loss')\n",
    "plt.xlabel('epoch')\n",
    "plt.legend(['generator', 'discriminator'], loc='upper right')\n",
    "plt.show()"
   ]
  },
  {
   "cell_type": "code",
   "execution_count": 70,
   "metadata": {},
   "outputs": [
    {
     "name": "stdout",
     "output_type": "stream",
     "text": [
      "[0.8910730481147766, 0.8953931391239166, 0.8908259868621826, 0.9242148518562316, 0.9013683199882507, 0.9021043300628662, 0.8903283476829529, 0.9113288164138794, 0.8987094819545746, 0.8955220282077789, 0.9092818439006806, 0.91680206656456, 0.8952749848365784, 0.8990098416805268, 0.905977725982666]\n",
      "[1.501886248588562, 1.4909544229507445, 1.5009965240955352, 1.4938180506229402, 1.4819307386875153, 1.5111374795436858, 1.4985381364822388, 1.5067489504814149, 1.51452294588089, 1.517109489440918, 1.491088479757309, 1.492004132270813, 1.5061167776584625, 1.4982784509658813, 1.4875341355800629]\n"
     ]
    }
   ],
   "source": [
    "print(train_losses_generator_pt)\n",
    "print(train_losses_discriminator_pt)"
   ]
  },
  {
   "cell_type": "markdown",
   "metadata": {},
   "source": [
    "### c1) Generator output before training"
   ]
  },
  {
   "cell_type": "code",
   "execution_count": 72,
   "metadata": {},
   "outputs": [
    {
     "data": {
      "image/png": "[encoded data removed]",
      "text/plain": [
       "<Figure size 432x288 with 2 Axes>"
      ]
     },
     "metadata": {
      "needs_background": "light"
     },
     "output_type": "display_data"
    }
   ],
   "source": [
    "fake_im_not_trained = fake_im_not_trained.detach().numpy() * 255\n",
    "fake_im_not_trained = fake_im_not_trained.reshape((28,28))\n",
    "plt.figure()\n",
    "plt.imshow(fake_im_not_trained, cmap='gray')\n",
    "plt.colorbar()\n",
    "plt.grid(False)\n",
    "plt.show()"
   ]
  },
  {
   "cell_type": "markdown",
   "metadata": {},
   "source": [
    "### c2) Generator output after training"
   ]
  },
  {
   "cell_type": "code",
   "execution_count": 73,
   "metadata": {},
   "outputs": [
    {
     "data": {
      "image/png": "[encoded data removed]",
      "text/plain": [
       "<Figure size 432x288 with 2 Axes>"
      ]
     },
     "metadata": {
      "needs_background": "light"
     },
     "output_type": "display_data"
    }
   ],
   "source": [
    "seed2 = torch.rand([1, 100, 1, 1])\n",
    "generator.train(False)\n",
    "fake_im = generator(seed2)\n",
    "fake_im = fake_im.detach().numpy() * 255\n",
    "fake_im = fake_im.reshape((28,28))\n",
    "plt.figure()\n",
    "plt.imshow(fake_im, cmap='gray')\n",
    "plt.colorbar()\n",
    "plt.grid(False)\n",
    "plt.show()"
   ]
  },
  {
   "cell_type": "code",
   "execution_count": null,
   "metadata": {},
   "outputs": [],
   "source": []
  }
 ],
 "metadata": {
  "kernelspec": {
   "display_name": "Python 3",
   "language": "python",
   "name": "python3"
  },
  "language_info": {
   "codemirror_mode": {
    "name": "ipython",
    "version": 3
   },
   "file_extension": ".py",
   "mimetype": "text/x-python",
   "name": "python",
   "nbconvert_exporter": "python",
   "pygments_lexer": "ipython3",
   "version": "3.7.5"
  }
 },
 "nbformat": 4,
 "nbformat_minor": 4
}
