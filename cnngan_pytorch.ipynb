{
  "nbformat": 4,
  "nbformat_minor": 0,
  "metadata": {
    "colab": {
      "name": "cnngan_pytorch.ipynb",
      "provenance": [],
      "collapsed_sections": [],
      "include_colab_link": true
    },
    "kernelspec": {
      "display_name": "Python 3",
      "language": "python",
      "name": "python3"
    },
    "language_info": {
      "codemirror_mode": {
        "name": "ipython",
        "version": 3
      },
      "file_extension": ".py",
      "mimetype": "text/x-python",
      "name": "python",
      "nbconvert_exporter": "python",
      "pygments_lexer": "ipython3",
      "version": "3.7.5"
    }
  },
  "cells": [
    {
      "cell_type": "markdown",
      "metadata": {
        "id": "view-in-github",
        "colab_type": "text"
      },
      "source": [
        "<a href=\"https://colab.research.google.com/github/PaprikaSteiger/CNN_GAN_tensorflow_vs_pytorch/blob/master/cnngan_pytorch.ipynb\" target=\"_parent\"><img src=\"https://colab.research.google.com/assets/colab-badge.svg\" alt=\"Open In Colab\"/></a>"
      ]
    },
    {
      "cell_type": "markdown",
      "metadata": {
        "id": "gVotrWM-065f"
      },
      "source": [
        "# Implementing a CNNGAN with pytroch"
      ]
    },
    {
      "cell_type": "markdown",
      "metadata": {
        "id": "Jt9oTYk6065n"
      },
      "source": [
        "## 1. Import and Preprocessing\n",
        "### a) Importing modules"
      ]
    },
    {
      "cell_type": "code",
      "metadata": {
        "id": "QOvHT87j065o"
      },
      "source": [
        "# Load required packages - data handling & plotting\n",
        "import pandas as pd\n",
        "import numpy as np\n",
        "import matplotlib.pyplot as plt\n",
        "import time\n",
        "\n",
        "# Load required packages - deep learning \n",
        "import torch\n",
        "import torch.nn as nn\n",
        "import torch.optim as optim"
      ],
      "execution_count": 59,
      "outputs": []
    },
    {
      "cell_type": "code",
      "metadata": {
        "colab": {
          "base_uri": "https://localhost:8080/"
        },
        "id": "w2kizsA7065p",
        "outputId": "0d412dfe-dd69-49f5-cee0-4b97e3d5dab6"
      },
      "source": [
        "print(f\"tensorflow: {torch.__version__}\")\n",
        "import sys\n",
        "print(f\"python: {sys.version[:5]}\")"
      ],
      "execution_count": 60,
      "outputs": [
        {
          "output_type": "stream",
          "text": [
            "tensorflow: 1.8.1+cu101\n",
            "python: 3.7.1\n"
          ],
          "name": "stdout"
        }
      ]
    },
    {
      "cell_type": "markdown",
      "metadata": {
        "id": "7um10LNJ065q"
      },
      "source": [
        "### b) Importing the data"
      ]
    },
    {
      "cell_type": "code",
      "metadata": {
        "id": "WvOi4NVI065r"
      },
      "source": [
        "# I exceeded my git LFS bandwidth limit for this month, thus the file cannot be loaded from git\n",
        "#train_data = pd.read_csv('https://media.githubusercontent.com/media/PaprikaSteiger/CNN_GAN_tensorflow_vs_pytorch/master/fashion-mnist_train.csv')\n",
        "\n",
        "# load directly from keras and transform to pandas\n",
        "import tensorflow as tf\n",
        "(x_train, y_train), (x_test, y_test) = tf.keras.datasets.fashion_mnist.load_data()\n",
        "y_train = y_train.reshape((-1,1))\n",
        "x_train = x_train.reshape((-1, 28*28))\n",
        "x_train = np.concatenate([y_train, x_train], axis=1)\n",
        "labels = [\"label\"] + [f\"pixel{i}\" for i in range(1,785)]\n",
        "train_data = pd.DataFrame(x_train,columns=labels, index=list(range(60000)))\n",
        "del x_train\n",
        "del y_train\n",
        "del x_test\n",
        "del y_test\n",
        "\n",
        "# or load from other git repo from mmeirer\n",
        "#train_data = pd.read_csv('https://media.githubusercontent.com/media/mmeierer/CNN---TensorFlow-vs-PyTorch/main/fashion-mnist_train.csv')"
      ],
      "execution_count": 61,
      "outputs": []
    },
    {
      "cell_type": "code",
      "metadata": {
        "id": "ukf4AIqY065r"
      },
      "source": [
        "train_data.head()"
      ],
      "execution_count": 62,
      "outputs": []
    },
    {
      "cell_type": "code",
      "metadata": {
        "id": "dqXVdux_065s"
      },
      "source": [
        "train_images = train_data.iloc[:,1:]"
      ],
      "execution_count": 63,
      "outputs": []
    },
    {
      "cell_type": "code",
      "metadata": {
        "id": "54zxTjsL065s"
      },
      "source": [
        "plt.figure()\n",
        "plt.imshow(train_images.values[0].reshape(28,28), cmap='gray')\n",
        "plt.colorbar()\n",
        "plt.grid(False)\n",
        "plt.show()"
      ],
      "execution_count": 64,
      "outputs": []
    },
    {
      "cell_type": "markdown",
      "metadata": {
        "id": "xDAY2krK065t"
      },
      "source": [
        "### c) Data preparation"
      ]
    },
    {
      "cell_type": "code",
      "metadata": {
        "id": "DT0M8L-K065t"
      },
      "source": [
        "# use maximum normalization\n",
        "train_images = train_images / np.float32(255)"
      ],
      "execution_count": 65,
      "outputs": []
    },
    {
      "cell_type": "code",
      "metadata": {
        "id": "msQ_biny065u"
      },
      "source": [
        "train_images.head()"
      ],
      "execution_count": 66,
      "outputs": []
    },
    {
      "cell_type": "markdown",
      "metadata": {
        "id": "8hvl4Hst065u"
      },
      "source": [
        "\n",
        "## 2. Model specific data preparation (tensorflow)\n",
        "## a) Load the data"
      ]
    },
    {
      "cell_type": "code",
      "metadata": {
        "id": "Ts0H5owM065v",
        "colab": {
          "base_uri": "https://localhost:8080/"
        },
        "outputId": "126ef72c-e8f3-4239-eeb1-1dbc896f8729"
      },
      "source": [
        "\n",
        "x_train_pt = torch.from_numpy(train_images.values.reshape((-1, 1, 28, 28)))"
      ],
      "execution_count": 106,
      "outputs": [
        {
          "output_type": "stream",
          "text": [
            "(60000, 28, 28)\n",
            "(60000, 28, 28)\n"
          ],
          "name": "stdout"
        }
      ]
    },
    {
      "cell_type": "markdown",
      "metadata": {
        "id": "QAjl91Lm065v"
      },
      "source": [
        "### b) Tensor view of the data"
      ]
    },
    {
      "cell_type": "code",
      "metadata": {
        "colab": {
          "base_uri": "https://localhost:8080/"
        },
        "id": "DR0SONiS065w",
        "outputId": "cc78cea3-b5f3-4694-e754-c16d28b26f9c"
      },
      "source": [
        "x_train_pt.shape"
      ],
      "execution_count": 68,
      "outputs": [
        {
          "output_type": "execute_result",
          "data": {
            "text/plain": [
              "torch.Size([60000, 1, 28, 28])"
            ]
          },
          "metadata": {
            "tags": []
          },
          "execution_count": 68
        }
      ]
    },
    {
      "cell_type": "code",
      "metadata": {
        "colab": {
          "base_uri": "https://localhost:8080/"
        },
        "id": "2d-1O3ac065w",
        "outputId": "91528522-8407-4acc-ee25-9174964c6cc3"
      },
      "source": [
        "x_train_pt[0][0][5]"
      ],
      "execution_count": 69,
      "outputs": [
        {
          "output_type": "execute_result",
          "data": {
            "text/plain": [
              "tensor([  0,   0,   0,   0,   0,   0,   0,   0,   0,   0,   0,   0,   6,   0,\n",
              "        102, 204, 176, 134, 144, 123,  23,   0,   0,   0,   0,  12,  10,   0],\n",
              "       dtype=torch.uint8)"
            ]
          },
          "metadata": {
            "tags": []
          },
          "execution_count": 69
        }
      ]
    },
    {
      "cell_type": "markdown",
      "metadata": {
        "id": "HeUJVqsI065x"
      },
      "source": [
        "## 3. Model definition"
      ]
    },
    {
      "cell_type": "code",
      "metadata": {
        "id": "WsQu8jb2065x"
      },
      "source": [
        "def weights_init(m):\n",
        "  if isinstance(m, nn.Linear):\n",
        "      nn.init.uniform_(m.weight.data, -1,1)\n",
        "      nn.init.zeros_(m.bias.data)\n",
        "  if isinstance(m, nn.Conv2d):\n",
        "      nn.init.uniform_(m.weight.data, -1, 1)\n",
        "      nn.init.zeros_(m.bias.data)\n",
        "  if isinstance(m, nn.ConvTranspose2d):\n",
        "      nn.init.uniform_(m.weight.data, -1, 1)\n",
        "      nn.init.zeros_(m.bias.data)"
      ],
      "execution_count": 70,
      "outputs": []
    },
    {
      "cell_type": "markdown",
      "metadata": {
        "id": "UUFkLr4M065y"
      },
      "source": [
        "### a.1) Generator"
      ]
    },
    {
      "cell_type": "code",
      "metadata": {
        "id": "XQ9ReExW065z"
      },
      "source": [
        "def generator_model():\n",
        "    model = nn.Sequential()\n",
        "    model.add_module(\"Conv2D1\", nn.ConvTranspose2d(100, 64, 7, stride=1, padding=0, bias=True))\n",
        "    model.add_module(\"Batchnorm1\", nn.BatchNorm2d(64))\n",
        "    model.add_module(\"LeakyRelu1\", nn.LeakyReLU())\n",
        "    \n",
        "    model.add_module(\"Conv2D2\", nn.ConvTranspose2d(64, 32, (8,8), stride=(1,1), padding=0, bias=True))\n",
        "    model.add_module(\"Batchnorm2\", nn.BatchNorm2d(32))\n",
        "    model.add_module(\"LeakyRelu2\", nn.LeakyReLU())\n",
        "    \n",
        "    model.add_module(\"Conv2D3\", nn.ConvTranspose2d(32, 1, (15,15), stride=1, padding=0, bias=True))\n",
        "    model.add_module(\"Batchnorm3\", nn.BatchNorm2d(1))\n",
        "    model.add_module(\"Sigmoid1\", nn.Sigmoid())\n",
        "    return model\n",
        "generator = generator_model()"
      ],
      "execution_count": 72,
      "outputs": []
    },
    {
      "cell_type": "markdown",
      "metadata": {
        "id": "I7tqK5yB0650"
      },
      "source": [
        "###  a.2) Inspect the generator model"
      ]
    },
    {
      "cell_type": "code",
      "metadata": {
        "colab": {
          "base_uri": "https://localhost:8080/"
        },
        "id": "XoiTZ37X0650",
        "outputId": "179ebfc0-5c17-4083-c577-f1f097ca7d34"
      },
      "source": [
        "print(generator)"
      ],
      "execution_count": 73,
      "outputs": [
        {
          "output_type": "stream",
          "text": [
            "Sequential(\n",
            "  (Conv2D1): ConvTranspose2d(100, 64, kernel_size=(7, 7), stride=(1, 1))\n",
            "  (Batchnorm1): BatchNorm2d(64, eps=1e-05, momentum=0.1, affine=True, track_running_stats=True)\n",
            "  (LeakyRelu1): LeakyReLU(negative_slope=0.01)\n",
            "  (Conv2D2): ConvTranspose2d(64, 32, kernel_size=(8, 8), stride=(1, 1))\n",
            "  (Batchnorm2): BatchNorm2d(32, eps=1e-05, momentum=0.1, affine=True, track_running_stats=True)\n",
            "  (LeakyRelu2): LeakyReLU(negative_slope=0.01)\n",
            "  (Conv2D3): ConvTranspose2d(32, 1, kernel_size=(15, 15), stride=(1, 1))\n",
            "  (Batchnorm3): BatchNorm2d(1, eps=1e-05, momentum=0.1, affine=True, track_running_stats=True)\n",
            "  (Sigmoid1): Sigmoid()\n",
            ")\n"
          ],
          "name": "stdout"
        }
      ]
    },
    {
      "cell_type": "code",
      "metadata": {
        "colab": {
          "base_uri": "https://localhost:8080/"
        },
        "id": "g0v3fU5j0650",
        "outputId": "792df6d5-6692-44f6-c3dc-14cc55fa9636"
      },
      "source": [
        "generator.apply(weights_init)"
      ],
      "execution_count": 74,
      "outputs": [
        {
          "output_type": "execute_result",
          "data": {
            "text/plain": [
              "Sequential(\n",
              "  (Conv2D1): ConvTranspose2d(100, 64, kernel_size=(7, 7), stride=(1, 1))\n",
              "  (Batchnorm1): BatchNorm2d(64, eps=1e-05, momentum=0.1, affine=True, track_running_stats=True)\n",
              "  (LeakyRelu1): LeakyReLU(negative_slope=0.01)\n",
              "  (Conv2D2): ConvTranspose2d(64, 32, kernel_size=(8, 8), stride=(1, 1))\n",
              "  (Batchnorm2): BatchNorm2d(32, eps=1e-05, momentum=0.1, affine=True, track_running_stats=True)\n",
              "  (LeakyRelu2): LeakyReLU(negative_slope=0.01)\n",
              "  (Conv2D3): ConvTranspose2d(32, 1, kernel_size=(15, 15), stride=(1, 1))\n",
              "  (Batchnorm3): BatchNorm2d(1, eps=1e-05, momentum=0.1, affine=True, track_running_stats=True)\n",
              "  (Sigmoid1): Sigmoid()\n",
              ")"
            ]
          },
          "metadata": {
            "tags": []
          },
          "execution_count": 74
        }
      ]
    },
    {
      "cell_type": "code",
      "metadata": {
        "colab": {
          "base_uri": "https://localhost:8080/"
        },
        "id": "LBZJiTRZ065z",
        "outputId": "e78de7a6-3a1b-4d9d-c724-302964ab2f16"
      },
      "source": [
        "# generated image not trained\n",
        "fake_im_not_trained = generator(torch.normal(0, 1, size=[1, 100, 1, 1]))\n",
        "# check output shape of generator\n",
        "fake_im_not_trained"
      ],
      "execution_count": 75,
      "outputs": [
        {
          "output_type": "execute_result",
          "data": {
            "text/plain": [
              "tensor([[[[0.5838, 0.6018, 0.5575, 0.5422, 0.5500, 0.5899, 0.5934, 0.6559,\n",
              "           0.5163, 0.5700, 0.4956, 0.5367, 0.5586, 0.5671, 0.5125, 0.6196,\n",
              "           0.5434, 0.6048, 0.6331, 0.5764, 0.5877, 0.6262, 0.6030, 0.5689,\n",
              "           0.5608, 0.5858, 0.5707, 0.5742],\n",
              "          [0.5838, 0.5794, 0.5652, 0.5508, 0.5163, 0.4510, 0.4086, 0.3875,\n",
              "           0.3034, 0.4191, 0.5731, 0.4465, 0.3978, 0.5723, 0.3962, 0.3378,\n",
              "           0.6273, 0.5639, 0.4473, 0.6241, 0.4467, 0.6042, 0.5622, 0.4223,\n",
              "           0.5488, 0.5829, 0.5558, 0.5748],\n",
              "          [0.5581, 0.5668, 0.5114, 0.5018, 0.3993, 0.5551, 0.4732, 0.5869,\n",
              "           0.7087, 0.4186, 0.6406, 0.3950, 0.5416, 0.4517, 0.4282, 0.5612,\n",
              "           0.6770, 0.5494, 0.3830, 0.5276, 0.4933, 0.5910, 0.5739, 0.6133,\n",
              "           0.5093, 0.6337, 0.5732, 0.5840],\n",
              "          [0.5957, 0.6278, 0.5952, 0.5887, 0.5849, 0.5756, 0.2772, 0.7221,\n",
              "           0.5673, 0.5214, 0.4656, 0.4011, 0.5246, 0.2798, 0.4864, 0.5342,\n",
              "           0.5443, 0.6112, 0.5530, 0.6365, 0.6468, 0.5682, 0.4023, 0.4321,\n",
              "           0.5136, 0.6098, 0.6037, 0.5953],\n",
              "          [0.6165, 0.6251, 0.6292, 0.4652, 0.4777, 0.3345, 0.2563, 0.3768,\n",
              "           0.6410, 0.2782, 0.3518, 0.1850, 0.3008, 0.3176, 0.7032, 0.8343,\n",
              "           0.7059, 0.7197, 0.7837, 0.1271, 0.3820, 0.4182, 0.7933, 0.6770,\n",
              "           0.5065, 0.5806, 0.5048, 0.6155],\n",
              "          [0.5594, 0.5566, 0.4120, 0.3600, 0.6457, 0.3735, 0.3019, 0.2080,\n",
              "           0.2608, 0.3112, 0.2718, 0.6960, 0.4640, 0.6312, 0.7910, 0.6808,\n",
              "           0.6146, 0.2180, 0.9027, 0.4815, 0.5933, 0.7565, 0.7179, 0.6278,\n",
              "           0.4791, 0.6349, 0.5992, 0.5664],\n",
              "          [0.5627, 0.6188, 0.4981, 0.5100, 0.1979, 0.3906, 0.5274, 0.4145,\n",
              "           0.1632, 0.5349, 0.3390, 0.4715, 0.8523, 0.7540, 0.8705, 0.9094,\n",
              "           0.5131, 0.8991, 0.8275, 0.6063, 0.2995, 0.6292, 0.8114, 0.3718,\n",
              "           0.3597, 0.4751, 0.5293, 0.5905],\n",
              "          [0.6353, 0.6101, 0.5616, 0.4029, 0.2027, 0.2062, 0.0296, 0.3921,\n",
              "           0.3728, 0.4010, 0.3694, 0.1856, 0.6561, 0.1782, 0.8628, 0.8705,\n",
              "           0.8650, 0.5438, 0.2303, 0.5870, 0.5997, 0.7795, 0.1610, 0.3394,\n",
              "           0.3489, 0.6674, 0.6627, 0.5645],\n",
              "          [0.5212, 0.4645, 0.4457, 0.3797, 0.1751, 0.3019, 0.7138, 0.0913,\n",
              "           0.6131, 0.4378, 0.2923, 0.7513, 0.5362, 0.7110, 0.3242, 0.4972,\n",
              "           0.2347, 0.8960, 0.3329, 0.3161, 0.1348, 0.1087, 0.3076, 0.6369,\n",
              "           0.3557, 0.8102, 0.4830, 0.6203],\n",
              "          [0.4664, 0.5031, 0.4576, 0.4602, 0.1770, 0.5883, 0.1357, 0.0699,\n",
              "           0.1505, 0.3380, 0.2840, 0.2776, 0.4638, 0.3488, 0.7416, 0.8532,\n",
              "           0.7971, 0.8987, 0.1415, 0.3114, 0.8241, 0.6814, 0.5251, 0.8635,\n",
              "           0.8571, 0.6078, 0.5800, 0.5457],\n",
              "          [0.4680, 0.4870, 0.4515, 0.1073, 0.5797, 0.1707, 0.2196, 0.1478,\n",
              "           0.0112, 0.5255, 0.2366, 0.9119, 0.3828, 0.8361, 0.5790, 0.2127,\n",
              "           0.7038, 0.5680, 0.9829, 0.3060, 0.1212, 0.1059, 0.1368, 0.6324,\n",
              "           0.7448, 0.6405, 0.5366, 0.5817],\n",
              "          [0.4871, 0.3273, 0.2428, 0.2463, 0.7891, 0.4431, 0.0743, 0.0972,\n",
              "           0.2450, 0.0882, 0.3425, 0.8903, 0.6001, 0.5096, 0.2261, 0.7216,\n",
              "           0.2895, 0.0535, 0.3766, 0.5601, 0.2943, 0.2906, 0.8016, 0.5281,\n",
              "           0.7144, 0.5342, 0.4569, 0.5198],\n",
              "          [0.5203, 0.4843, 0.3686, 0.4651, 0.1427, 0.2359, 0.0480, 0.0230,\n",
              "           0.2573, 0.8857, 0.4728, 0.1068, 0.7122, 0.4913, 0.8453, 0.1743,\n",
              "           0.3348, 0.8090, 0.7799, 0.3228, 0.2495, 0.8318, 0.5443, 0.5812,\n",
              "           0.1972, 0.2653, 0.3818, 0.4896],\n",
              "          [0.4480, 0.5597, 0.2927, 0.3041, 0.4345, 0.4711, 0.2420, 0.0421,\n",
              "           0.9499, 0.0973, 0.4471, 0.7234, 0.4455, 0.4581, 0.3848, 0.1466,\n",
              "           0.5724, 0.0540, 0.1209, 0.3417, 0.7059, 0.4853, 0.2405, 0.5718,\n",
              "           0.3666, 0.4452, 0.4478, 0.4444],\n",
              "          [0.4837, 0.2609, 0.5820, 0.3482, 0.4505, 0.5844, 0.3363, 0.1104,\n",
              "           0.8011, 0.1919, 0.3093, 0.6375, 0.1155, 0.8309, 0.0303, 0.1844,\n",
              "           0.4074, 0.1050, 0.1634, 0.5228, 0.5273, 0.3661, 0.3186, 0.4228,\n",
              "           0.3706, 0.5786, 0.5380, 0.5480],\n",
              "          [0.6191, 0.5061, 0.7358, 0.2486, 0.5256, 0.5968, 0.6569, 0.2481,\n",
              "           0.6201, 0.6234, 0.3731, 0.6842, 0.0721, 0.4651, 0.0952, 0.7914,\n",
              "           0.2696, 0.9567, 0.3776, 0.5830, 0.7528, 0.4986, 0.4082, 0.1896,\n",
              "           0.3584, 0.7239, 0.4946, 0.6496],\n",
              "          [0.4985, 0.3724, 0.6291, 0.3525, 0.3120, 0.3623, 0.0280, 0.1665,\n",
              "           0.2803, 0.1919, 0.0199, 0.6497, 0.6397, 0.6953, 0.0770, 0.4105,\n",
              "           0.0376, 0.1087, 0.1040, 0.2465, 0.7436, 0.3470, 0.5875, 0.5330,\n",
              "           0.6760, 0.6485, 0.5057, 0.6158],\n",
              "          [0.5329, 0.5861, 0.3751, 0.5167, 0.3124, 0.3212, 0.7643, 0.3660,\n",
              "           0.2687, 0.0858, 0.1249, 0.7071, 0.1410, 0.3949, 0.6199, 0.1512,\n",
              "           0.4949, 0.2287, 0.1858, 0.6055, 0.3704, 0.6307, 0.5875, 0.3423,\n",
              "           0.5990, 0.5954, 0.6928, 0.6038],\n",
              "          [0.5373, 0.5923, 0.3698, 0.6344, 0.3127, 0.6775, 0.3439, 0.2985,\n",
              "           0.7812, 0.0679, 0.4391, 0.6958, 0.9518, 0.7308, 0.3978, 0.8922,\n",
              "           0.6109, 0.8731, 0.6904, 0.7856, 0.8167, 0.7011, 0.7244, 0.7644,\n",
              "           0.6801, 0.6310, 0.5735, 0.4982],\n",
              "          [0.5713, 0.5254, 0.7139, 0.4562, 0.3964, 0.3310, 0.2942, 0.4904,\n",
              "           0.3359, 0.4321, 0.7836, 0.6597, 0.0924, 0.2776, 0.1405, 0.4591,\n",
              "           0.8202, 0.7808, 0.7878, 0.8694, 0.7768, 0.4236, 0.8499, 0.8373,\n",
              "           0.6470, 0.7092, 0.5900, 0.5565],\n",
              "          [0.5900, 0.4749, 0.4442, 0.5811, 0.5577, 0.8005, 0.5918, 0.1830,\n",
              "           0.5191, 0.5803, 0.3429, 0.8099, 0.5580, 0.0609, 0.6784, 0.7956,\n",
              "           0.0553, 0.7830, 0.8985, 0.4589, 0.6415, 0.3104, 0.2875, 0.7113,\n",
              "           0.6329, 0.6543, 0.7065, 0.5680],\n",
              "          [0.5854, 0.4854, 0.6779, 0.6416, 0.6045, 0.6536, 0.5300, 0.6821,\n",
              "           0.1817, 0.8059, 0.3698, 0.8661, 0.5608, 0.3037, 0.4817, 0.8630,\n",
              "           0.9141, 0.3185, 0.7984, 0.7636, 0.7678, 0.8421, 0.8062, 0.8466,\n",
              "           0.6691, 0.6067, 0.6381, 0.6874],\n",
              "          [0.5608, 0.6081, 0.5438, 0.6659, 0.5059, 0.7471, 0.5423, 0.4501,\n",
              "           0.8604, 0.7152, 0.1633, 0.8352, 0.7579, 0.3800, 0.4689, 0.3088,\n",
              "           0.7306, 0.4527, 0.6711, 0.8590, 0.5155, 0.7805, 0.5519, 0.7121,\n",
              "           0.6462, 0.5100, 0.5652, 0.5583],\n",
              "          [0.6095, 0.5406, 0.5680, 0.4023, 0.5553, 0.5704, 0.3856, 0.3988,\n",
              "           0.6133, 0.5912, 0.2858, 0.6532, 0.5145, 0.4253, 0.3650, 0.5353,\n",
              "           0.4694, 0.7636, 0.4898, 0.2662, 0.6398, 0.5658, 0.6564, 0.4501,\n",
              "           0.5622, 0.5208, 0.5624, 0.6193],\n",
              "          [0.6175, 0.5035, 0.5678, 0.6289, 0.5196, 0.5622, 0.6394, 0.5638,\n",
              "           0.4727, 0.1985, 0.8011, 0.6653, 0.5768, 0.4234, 0.4034, 0.5573,\n",
              "           0.6055, 0.6381, 0.5584, 0.7893, 0.7736, 0.5808, 0.5833, 0.6688,\n",
              "           0.4929, 0.5088, 0.5869, 0.5565],\n",
              "          [0.5806, 0.6350, 0.6097, 0.5720, 0.6230, 0.4761, 0.5747, 0.5109,\n",
              "           0.2699, 0.6455, 0.5683, 0.4654, 0.3767, 0.4624, 0.4130, 0.4142,\n",
              "           0.3252, 0.3115, 0.4317, 0.5259, 0.5980, 0.4216, 0.6769, 0.4757,\n",
              "           0.5566, 0.5814, 0.6010, 0.5512],\n",
              "          [0.6117, 0.5179, 0.6009, 0.5540, 0.5188, 0.4710, 0.4620, 0.6320,\n",
              "           0.4507, 0.4764, 0.5212, 0.5123, 0.3457, 0.5145, 0.5121, 0.3995,\n",
              "           0.4932, 0.3463, 0.4601, 0.5256, 0.4573, 0.4952, 0.4958, 0.4802,\n",
              "           0.4667, 0.5228, 0.5437, 0.5688],\n",
              "          [0.5874, 0.5625, 0.5815, 0.5297, 0.5275, 0.5266, 0.5383, 0.5034,\n",
              "           0.5479, 0.5312, 0.5505, 0.5948, 0.5265, 0.5447, 0.5629, 0.4914,\n",
              "           0.4347, 0.4805, 0.5279, 0.5744, 0.5714, 0.5630, 0.5130, 0.5224,\n",
              "           0.5230, 0.5445, 0.5727, 0.5668]]]], grad_fn=<SigmoidBackward>)"
            ]
          },
          "metadata": {
            "tags": []
          },
          "execution_count": 75
        }
      ]
    },
    {
      "cell_type": "markdown",
      "metadata": {
        "id": "zfrxvvCj0651"
      },
      "source": [
        "### a.3) Inspect the first convolutional layer"
      ]
    },
    {
      "cell_type": "code",
      "metadata": {
        "colab": {
          "base_uri": "https://localhost:8080/"
        },
        "id": "3yKD8kav0651",
        "outputId": "23b0e63c-f147-4147-b8fa-a21972dd94c8"
      },
      "source": [
        "generator[0].weight[0]"
      ],
      "execution_count": 76,
      "outputs": [
        {
          "output_type": "execute_result",
          "data": {
            "text/plain": [
              "tensor([[[-0.5011, -0.6191, -0.9341,  ...,  0.7406, -0.2029,  0.4036],\n",
              "         [-0.0024,  0.2560,  0.2896,  ...,  0.2225,  0.3449, -0.4250],\n",
              "         [ 0.2470,  0.6154, -0.0742,  ..., -0.9643, -0.3473, -0.9829],\n",
              "         ...,\n",
              "         [-0.0866,  0.8987, -0.6708,  ..., -0.9191,  0.2368,  0.8779],\n",
              "         [ 0.9250, -0.9830, -0.7157,  ..., -0.4578, -0.6849, -0.1276],\n",
              "         [-0.0781, -0.7013, -0.6687,  ..., -0.8546,  0.1641,  0.1915]],\n",
              "\n",
              "        [[ 0.0666,  0.2940, -0.8431,  ...,  0.3490, -0.7478,  0.7524],\n",
              "         [-0.5806, -0.0768, -0.4083,  ..., -0.1030,  0.5677, -0.3974],\n",
              "         [ 0.6096,  0.8563,  0.2462,  ..., -0.1422, -0.2535,  0.1392],\n",
              "         ...,\n",
              "         [-0.8995, -0.8434, -0.1207,  ...,  0.2057, -0.2994, -0.0379],\n",
              "         [-0.3850,  0.7597, -0.4739,  ..., -0.0880,  0.8367, -0.0556],\n",
              "         [ 0.1200, -0.7393, -0.7042,  ..., -0.5302, -0.2689,  0.0864]],\n",
              "\n",
              "        [[-0.1631, -0.7582,  0.1294,  ...,  0.6792,  0.6041, -0.8709],\n",
              "         [-0.0821,  0.8933, -0.8220,  ..., -0.9525, -0.6068, -0.1963],\n",
              "         [-0.9535, -0.9905,  0.5607,  ..., -0.1988,  0.3894,  0.5818],\n",
              "         ...,\n",
              "         [ 0.6268, -0.4922,  0.0743,  ...,  0.1676,  0.5200, -0.3513],\n",
              "         [-0.4656, -0.4309, -0.3282,  ..., -0.1272,  0.5415, -0.7549],\n",
              "         [-0.1295,  0.1091, -0.3346,  ...,  0.6617,  0.9407, -0.1183]],\n",
              "\n",
              "        ...,\n",
              "\n",
              "        [[ 0.2217,  0.4650, -0.6713,  ..., -0.0028,  0.9985, -0.7429],\n",
              "         [-0.0756,  0.0411,  0.6627,  ...,  0.5182,  0.6986, -0.9944],\n",
              "         [ 0.8783,  0.8254,  0.8627,  ..., -0.8646, -0.0241,  0.2997],\n",
              "         ...,\n",
              "         [ 0.1747,  0.2949,  0.6206,  ...,  0.1634, -0.5428, -0.5920],\n",
              "         [-0.4200, -0.7839, -0.8033,  ..., -0.1158,  0.6808, -0.5355],\n",
              "         [-0.1764, -0.0777,  0.2021,  ...,  0.8758, -0.4799, -0.1833]],\n",
              "\n",
              "        [[-0.7260,  0.0762, -0.5727,  ..., -0.4506,  0.1243,  0.2517],\n",
              "         [ 0.0555,  0.4563,  0.5753,  ...,  0.4064, -0.6208, -0.8659],\n",
              "         [-0.3842,  0.6879,  0.6748,  ..., -0.4143, -0.4229,  0.7210],\n",
              "         ...,\n",
              "         [-0.8530,  0.6529, -0.9237,  ..., -0.4075, -0.2820,  0.9136],\n",
              "         [ 0.9625, -0.2082,  0.7992,  ...,  0.0749, -0.0069, -0.6871],\n",
              "         [-0.9339, -0.3923,  0.5030,  ...,  0.1017, -0.4702,  0.4761]],\n",
              "\n",
              "        [[-0.2774, -0.1204,  0.0016,  ..., -0.0506, -0.7243,  0.2565],\n",
              "         [ 0.8885, -0.7863,  0.8972,  ...,  0.0610,  0.3814,  0.8512],\n",
              "         [ 0.8339, -0.6177,  0.4451,  ...,  0.4493,  0.8518, -0.2577],\n",
              "         ...,\n",
              "         [-0.8484, -0.1099,  0.9635,  ..., -0.0118,  0.0259, -0.6393],\n",
              "         [ 0.9121, -0.3984, -0.0206,  ..., -0.8134, -0.0286,  0.9043],\n",
              "         [-0.0535,  0.0422, -0.6836,  ..., -0.2607,  0.8220,  0.8264]]],\n",
              "       grad_fn=<SelectBackward>)"
            ]
          },
          "metadata": {
            "tags": []
          },
          "execution_count": 76
        }
      ]
    },
    {
      "cell_type": "code",
      "metadata": {
        "colab": {
          "base_uri": "https://localhost:8080/"
        },
        "id": "Sln7_yqA0651",
        "outputId": "10a60704-7ab6-40eb-a3c3-eba946116ff5"
      },
      "source": [
        "generator[0].weight.shape"
      ],
      "execution_count": 77,
      "outputs": [
        {
          "output_type": "execute_result",
          "data": {
            "text/plain": [
              "torch.Size([100, 64, 7, 7])"
            ]
          },
          "metadata": {
            "tags": []
          },
          "execution_count": 77
        }
      ]
    },
    {
      "cell_type": "code",
      "metadata": {
        "colab": {
          "base_uri": "https://localhost:8080/"
        },
        "id": "yJMFFTGQ0651",
        "outputId": "154b9208-3852-4b14-bf19-0bcc656e6bfa"
      },
      "source": [
        "generator[0].bias"
      ],
      "execution_count": 78,
      "outputs": [
        {
          "output_type": "execute_result",
          "data": {
            "text/plain": [
              "Parameter containing:\n",
              "tensor([0., 0., 0., 0., 0., 0., 0., 0., 0., 0., 0., 0., 0., 0., 0., 0., 0., 0., 0., 0., 0., 0., 0., 0.,\n",
              "        0., 0., 0., 0., 0., 0., 0., 0., 0., 0., 0., 0., 0., 0., 0., 0., 0., 0., 0., 0., 0., 0., 0., 0.,\n",
              "        0., 0., 0., 0., 0., 0., 0., 0., 0., 0., 0., 0., 0., 0., 0., 0.],\n",
              "       requires_grad=True)"
            ]
          },
          "metadata": {
            "tags": []
          },
          "execution_count": 78
        }
      ]
    },
    {
      "cell_type": "code",
      "metadata": {
        "colab": {
          "base_uri": "https://localhost:8080/"
        },
        "id": "WxJ6gVze0653",
        "outputId": "956babf6-39e5-4028-c62e-4de8b0a6bd81"
      },
      "source": [
        "generator[0].bias.shape"
      ],
      "execution_count": 79,
      "outputs": [
        {
          "output_type": "execute_result",
          "data": {
            "text/plain": [
              "torch.Size([64])"
            ]
          },
          "metadata": {
            "tags": []
          },
          "execution_count": 79
        }
      ]
    },
    {
      "cell_type": "markdown",
      "metadata": {
        "id": "ohr9EW-y0654"
      },
      "source": [
        "### b.1) Discriminator"
      ]
    },
    {
      "cell_type": "code",
      "metadata": {
        "id": "rGDLcmK00654"
      },
      "source": [
        "def discriminator_model():\n",
        "    model = nn.Sequential()\n",
        "    model.add_module(\"Conv2D1\", nn.Conv2d(1, 2, kernel_size=5, stride=1, padding=2))\n",
        "    model.add_module(\"Pooling1\", nn.AvgPool2d(kernel_size=2, stride=2))\n",
        "    model.add_module(\"LeakyRelu1\", nn.LeakyReLU())\n",
        "    model.add_module(\"Dropout1\", nn.Dropout(0.3))\n",
        "    \n",
        "    model.add_module(\"Conv2D2\", nn.Conv2d(2, 2, kernel_size=5, stride=1, padding=2))\n",
        "    model.add_module(\"LeakyRelu2\", nn.LeakyReLU())\n",
        "    \n",
        "    model.add_module(\"Conv2D3\", nn.Conv2d(2, 1, kernel_size=5, stride=1, padding=0))\n",
        "    model.add_module(\"LeakyRelu3\", nn.LeakyReLU())\n",
        "    \n",
        "    model.add_module(\"Flatten1\", nn.Flatten())\n",
        "    \n",
        "    model.add_module(\"Dense1\", nn.Linear(100,100))\n",
        "    model.add_module(\"LeakyRelu4\", nn.LeakyReLU())\n",
        "    \n",
        "    model.add_module(\"Dense2\", nn.Linear(100,64))\n",
        "    model.add_module(\"Tanh\", nn.Tanh())\n",
        "    \n",
        "    model.add_module(\"Dense3\", nn.Linear(64,1))\n",
        "    model.add_module(\"Sigmoid\", nn.Sigmoid())\n",
        "    return model\n",
        "discriminator = discriminator_model()"
      ],
      "execution_count": 80,
      "outputs": []
    },
    {
      "cell_type": "markdown",
      "metadata": {
        "id": "-eGFfyYO0655"
      },
      "source": [
        "### b.2) Inspect the discriminator model"
      ]
    },
    {
      "cell_type": "code",
      "metadata": {
        "colab": {
          "base_uri": "https://localhost:8080/"
        },
        "id": "fqwNgL5J0655",
        "scrolled": false,
        "outputId": "15ca29ab-7f09-48a3-c7a9-88de28d95e7d"
      },
      "source": [
        "print(discriminator)\n",
        "discriminator(fake_im_not_trained)"
      ],
      "execution_count": 81,
      "outputs": [
        {
          "output_type": "stream",
          "text": [
            "Sequential(\n",
            "  (Conv2D1): Conv2d(1, 2, kernel_size=(5, 5), stride=(1, 1), padding=(2, 2))\n",
            "  (Pooling1): AvgPool2d(kernel_size=2, stride=2, padding=0)\n",
            "  (LeakyRelu1): LeakyReLU(negative_slope=0.01)\n",
            "  (Dropout1): Dropout(p=0.3, inplace=False)\n",
            "  (Conv2D2): Conv2d(2, 2, kernel_size=(5, 5), stride=(1, 1), padding=(2, 2))\n",
            "  (LeakyRelu2): LeakyReLU(negative_slope=0.01)\n",
            "  (Conv2D3): Conv2d(2, 1, kernel_size=(5, 5), stride=(1, 1))\n",
            "  (LeakyRelu3): LeakyReLU(negative_slope=0.01)\n",
            "  (Flatten1): Flatten(start_dim=1, end_dim=-1)\n",
            "  (Dense1): Linear(in_features=100, out_features=100, bias=True)\n",
            "  (LeakyRelu4): LeakyReLU(negative_slope=0.01)\n",
            "  (Dense2): Linear(in_features=100, out_features=64, bias=True)\n",
            "  (Tanh): Tanh()\n",
            "  (Dense3): Linear(in_features=64, out_features=1, bias=True)\n",
            "  (Sigmoid): Sigmoid()\n",
            ")\n"
          ],
          "name": "stdout"
        },
        {
          "output_type": "execute_result",
          "data": {
            "text/plain": [
              "tensor([[0.4841]], grad_fn=<SigmoidBackward>)"
            ]
          },
          "metadata": {
            "tags": []
          },
          "execution_count": 81
        }
      ]
    },
    {
      "cell_type": "code",
      "metadata": {
        "colab": {
          "base_uri": "https://localhost:8080/"
        },
        "id": "RTX4zp9c0655",
        "outputId": "86123e0a-6488-4817-a9d7-46a481a1b6b1"
      },
      "source": [
        "discriminator.apply(weights_init)"
      ],
      "execution_count": 82,
      "outputs": [
        {
          "output_type": "execute_result",
          "data": {
            "text/plain": [
              "Sequential(\n",
              "  (Conv2D1): Conv2d(1, 2, kernel_size=(5, 5), stride=(1, 1), padding=(2, 2))\n",
              "  (Pooling1): AvgPool2d(kernel_size=2, stride=2, padding=0)\n",
              "  (LeakyRelu1): LeakyReLU(negative_slope=0.01)\n",
              "  (Dropout1): Dropout(p=0.3, inplace=False)\n",
              "  (Conv2D2): Conv2d(2, 2, kernel_size=(5, 5), stride=(1, 1), padding=(2, 2))\n",
              "  (LeakyRelu2): LeakyReLU(negative_slope=0.01)\n",
              "  (Conv2D3): Conv2d(2, 1, kernel_size=(5, 5), stride=(1, 1))\n",
              "  (LeakyRelu3): LeakyReLU(negative_slope=0.01)\n",
              "  (Flatten1): Flatten(start_dim=1, end_dim=-1)\n",
              "  (Dense1): Linear(in_features=100, out_features=100, bias=True)\n",
              "  (LeakyRelu4): LeakyReLU(negative_slope=0.01)\n",
              "  (Dense2): Linear(in_features=100, out_features=64, bias=True)\n",
              "  (Tanh): Tanh()\n",
              "  (Dense3): Linear(in_features=64, out_features=1, bias=True)\n",
              "  (Sigmoid): Sigmoid()\n",
              ")"
            ]
          },
          "metadata": {
            "tags": []
          },
          "execution_count": 82
        }
      ]
    },
    {
      "cell_type": "markdown",
      "metadata": {
        "id": "8U8TOF5r0655"
      },
      "source": [
        "### b.3) Inspect the first convolutional layer"
      ]
    },
    {
      "cell_type": "code",
      "metadata": {
        "colab": {
          "base_uri": "https://localhost:8080/",
          "height": 35
        },
        "id": "4yXCZgM80656",
        "outputId": "a9234833-bedb-4c91-d62e-626acf360307"
      },
      "source": [
        "discriminator[0].weight[0].type()"
      ],
      "execution_count": 83,
      "outputs": [
        {
          "output_type": "execute_result",
          "data": {
            "application/vnd.google.colaboratory.intrinsic+json": {
              "type": "string"
            },
            "text/plain": [
              "'torch.FloatTensor'"
            ]
          },
          "metadata": {
            "tags": []
          },
          "execution_count": 83
        }
      ]
    },
    {
      "cell_type": "code",
      "metadata": {
        "colab": {
          "base_uri": "https://localhost:8080/"
        },
        "id": "sCKCE5rX0656",
        "outputId": "0ab575ba-126a-4b34-bc49-ea9f325e1d05"
      },
      "source": [
        "discriminator[0].weight.shape"
      ],
      "execution_count": 84,
      "outputs": [
        {
          "output_type": "execute_result",
          "data": {
            "text/plain": [
              "torch.Size([2, 1, 5, 5])"
            ]
          },
          "metadata": {
            "tags": []
          },
          "execution_count": 84
        }
      ]
    },
    {
      "cell_type": "code",
      "metadata": {
        "colab": {
          "base_uri": "https://localhost:8080/"
        },
        "id": "2u4FdvnE0657",
        "outputId": "10bf4c64-630f-4067-bbea-c482e1df816d"
      },
      "source": [
        "discriminator[0].bias"
      ],
      "execution_count": 85,
      "outputs": [
        {
          "output_type": "execute_result",
          "data": {
            "text/plain": [
              "Parameter containing:\n",
              "tensor([0., 0.], requires_grad=True)"
            ]
          },
          "metadata": {
            "tags": []
          },
          "execution_count": 85
        }
      ]
    },
    {
      "cell_type": "code",
      "metadata": {
        "colab": {
          "base_uri": "https://localhost:8080/"
        },
        "id": "QkFVYDoT0657",
        "outputId": "a91fc94e-f423-4bf3-d340-2de2fd73b4e1"
      },
      "source": [
        "discriminator[0].bias.shape"
      ],
      "execution_count": 86,
      "outputs": [
        {
          "output_type": "execute_result",
          "data": {
            "text/plain": [
              "torch.Size([2])"
            ]
          },
          "metadata": {
            "tags": []
          },
          "execution_count": 86
        }
      ]
    },
    {
      "cell_type": "markdown",
      "metadata": {
        "id": "2Itee_8M0657"
      },
      "source": [
        "## 4. Loss & Optimizer"
      ]
    },
    {
      "cell_type": "markdown",
      "metadata": {
        "id": "sQrC1KNF0658"
      },
      "source": [
        "### 4.a) Generator loss"
      ]
    },
    {
      "cell_type": "code",
      "metadata": {
        "id": "mUJbFTAz0658"
      },
      "source": [
        "cross_entropy = nn.BCEWithLogitsLoss()\n",
        "def generator_loss(fake_output):\n",
        "    return cross_entropy(torch.ones_like(fake_output), fake_output)"
      ],
      "execution_count": 87,
      "outputs": []
    },
    {
      "cell_type": "markdown",
      "metadata": {
        "id": "vzHIkuZM0658"
      },
      "source": [
        "### 4.b) Discriminator loss"
      ]
    },
    {
      "cell_type": "code",
      "metadata": {
        "id": "GDIX2a000659"
      },
      "source": [
        "def real_discriminator_loss(real_output):\n",
        "    return  cross_entropy(torch.ones_like(real_output), real_output)\n",
        "\n",
        "def fake_discriminator_loss(fake_output):\n",
        "    return cross_entropy(torch.zeros_like(fake_output), fake_output)"
      ],
      "execution_count": 88,
      "outputs": []
    },
    {
      "cell_type": "markdown",
      "metadata": {
        "id": "O7hrseRk0659"
      },
      "source": [
        "## 4.c) Optimizers"
      ]
    },
    {
      "cell_type": "code",
      "metadata": {
        "id": "hic_TlMX0659"
      },
      "source": [
        "generator_optimizer = optim.Adam(generator.parameters(), lr=1e-2)\n",
        "discriminator_optimizer = optim.Adam(discriminator.parameters(), lr=1e-2)\n",
        "\n",
        "def correct_classification(y_true, y_prob):\n",
        "    assert y_true.size() == y_prob.size()\n",
        "    y_prob = (y_prob > 0.5).float()\n",
        "    return (y_true == y_prob).sum().item()"
      ],
      "execution_count": 89,
      "outputs": []
    },
    {
      "cell_type": "markdown",
      "metadata": {
        "id": "xYLo8yIj0659"
      },
      "source": [
        "## 5. Training"
      ]
    },
    {
      "cell_type": "code",
      "metadata": {
        "id": "Gs8u8LUz065-"
      },
      "source": [
        "# This annotation causes the function to be \"compiled\".\n",
        "#@tf.function\n",
        "def train_step_pt(generator, discriminator, generator_optimizer, discriminator_optimizer, batch_size = 100):\n",
        "    gen_loss_tot = []\n",
        "    disc_loss_tot = []\n",
        "    disc_acc_real_tot = 0\n",
        "    disc_acc_fake_tot = 0\n",
        "    generator.train()\n",
        "    discriminator.train()\n",
        "    for beg_i in range(0, x_train_pt.shape[0], batch_size):\n",
        "        x_train_batch_pt = x_train_pt[beg_i:beg_i + batch_size]\n",
        "\n",
        "        x_fake_batch_pt = torch.normal(0, 1, size=[batch_size, 100, 1, 1])\n",
        "        \n",
        "        discriminator_optimizer.zero_grad()\n",
        "        real_output = discriminator(x_train_batch_pt.float()).view(-1)\n",
        "        disc_loss_real = real_discriminator_loss(real_output)\n",
        "        disc_loss_real.backward()\n",
        "        \n",
        "        generated_images = generator(x_fake_batch_pt)\n",
        "        fake_output = discriminator(generated_images.detach()).view(-1)\n",
        "        disc_loss_fake = fake_discriminator_loss(fake_output)\n",
        "        disc_loss_fake.backward()\n",
        "        err = disc_loss_fake + disc_loss_real\n",
        "        discriminator_optimizer.step()\n",
        "        \n",
        "        # optimize generator\n",
        "        generator_optimizer.zero_grad()\n",
        "        fake_output = discriminator(generated_images.detach()).view(-1)\n",
        "        gen_loss = generator_loss(fake_output)\n",
        "        gen_loss.backward()\n",
        "        generator_optimizer.step()\n",
        "        \n",
        "        gen_loss_tot.append(gen_loss.mean().item())\n",
        "        disc_loss_tot.append(err.mean().item())\n",
        "        disc_acc_real_tot += correct_classification(torch.ones_like(real_output), real_output)\n",
        "        disc_acc_fake_tot += correct_classification(torch.zeros_like(fake_output), fake_output)\n",
        "\n",
        "    disc_acc_real_tot = disc_acc_real_tot/x_train_pt.size(0)\n",
        "    disc_acc_fake_tot = disc_acc_fake_tot/x_train_pt.size(0)\n",
        "    print([disc_acc_real_tot, disc_acc_fake_tot])\n",
        "    disc_acc_tot = np.mean([disc_acc_real_tot, disc_acc_fake_tot])\n",
        "    return gen_loss_tot, disc_loss_tot, disc_acc_tot"
      ],
      "execution_count": 90,
      "outputs": []
    },
    {
      "cell_type": "code",
      "metadata": {
        "colab": {
          "base_uri": "https://localhost:8080/",
          "height": 520
        },
        "id": "F-ILomMn065-",
        "scrolled": true,
        "outputId": "67196762-ced7-4128-9a9e-94a2d50fe782"
      },
      "source": [
        "train_losses_generator_pt = []\n",
        "train_losses_discriminator_pt = []\n",
        "train_acc_discriminator_pt = []\n",
        "epochs = 15\n",
        "start = time.time()\n",
        "for epoch in range(epochs):\n",
        "    gen_loss, disc_loss, disc_acc = train_step_pt(generator, discriminator, generator_optimizer, discriminator_optimizer)\n",
        "    gen_loss = np.mean(gen_loss)\n",
        "    disc_loss = np.mean(disc_loss)\n",
        "    train_losses_generator_pt.append(gen_loss)\n",
        "    train_losses_discriminator_pt.append(disc_loss)\n",
        "    train_acc_discriminator_pt.append(disc_acc*100)\n",
        "\n",
        "\n",
        "    template = (\"Epoch {}, Loss_Generator: {}, Loss_Discriminator: {}, Discriminator_Accuracy: {}\")\n",
        "    print(template.format(epoch+1, gen_loss, disc_loss, disc_acc*100))\n",
        "end = time.time()\n",
        "print(f\"Total training time{(end - start)/60.0}\")"
      ],
      "execution_count": 91,
      "outputs": [
        {
          "output_type": "stream",
          "text": [
            "[0.9800833333333333, 0.01865]\n",
            "Epoch 1, Loss_Generator: 0.3325158628821373, Loss_Discriminator: 1.0266333564122518, Discriminator_Accuracy: 49.93666666666666\n",
            "[1.0, 0.0]\n",
            "Epoch 2, Loss_Generator: 0.3132616951068242, Loss_Discriminator: 1.0064090577761333, Discriminator_Accuracy: 50.0\n",
            "[1.0, 0.0]\n",
            "Epoch 3, Loss_Generator: 0.3132616650064786, Loss_Discriminator: 1.0064088588953017, Discriminator_Accuracy: 50.0\n",
            "[1.0, 0.0]\n",
            "Epoch 4, Loss_Generator: 0.3132616612315178, Loss_Discriminator: 1.0064118939638138, Discriminator_Accuracy: 50.0\n"
          ],
          "name": "stdout"
        },
        {
          "output_type": "error",
          "ename": "KeyboardInterrupt",
          "evalue": "ignored",
          "traceback": [
            "\u001b[0;31m---------------------------------------------------------------------------\u001b[0m",
            "\u001b[0;31mKeyboardInterrupt\u001b[0m                         Traceback (most recent call last)",
            "\u001b[0;32m<ipython-input-91-018828624942>\u001b[0m in \u001b[0;36m<module>\u001b[0;34m()\u001b[0m\n\u001b[1;32m      5\u001b[0m \u001b[0mstart\u001b[0m \u001b[0;34m=\u001b[0m \u001b[0mtime\u001b[0m\u001b[0;34m.\u001b[0m\u001b[0mtime\u001b[0m\u001b[0;34m(\u001b[0m\u001b[0;34m)\u001b[0m\u001b[0;34m\u001b[0m\u001b[0;34m\u001b[0m\u001b[0m\n\u001b[1;32m      6\u001b[0m \u001b[0;32mfor\u001b[0m \u001b[0mepoch\u001b[0m \u001b[0;32min\u001b[0m \u001b[0mrange\u001b[0m\u001b[0;34m(\u001b[0m\u001b[0mepochs\u001b[0m\u001b[0;34m)\u001b[0m\u001b[0;34m:\u001b[0m\u001b[0;34m\u001b[0m\u001b[0;34m\u001b[0m\u001b[0m\n\u001b[0;32m----> 7\u001b[0;31m     \u001b[0mgen_loss\u001b[0m\u001b[0;34m,\u001b[0m \u001b[0mdisc_loss\u001b[0m\u001b[0;34m,\u001b[0m \u001b[0mdisc_acc\u001b[0m \u001b[0;34m=\u001b[0m \u001b[0mtrain_step_pt\u001b[0m\u001b[0;34m(\u001b[0m\u001b[0mgenerator\u001b[0m\u001b[0;34m,\u001b[0m \u001b[0mdiscriminator\u001b[0m\u001b[0;34m,\u001b[0m \u001b[0mgenerator_optimizer\u001b[0m\u001b[0;34m,\u001b[0m \u001b[0mdiscriminator_optimizer\u001b[0m\u001b[0;34m)\u001b[0m\u001b[0;34m\u001b[0m\u001b[0;34m\u001b[0m\u001b[0m\n\u001b[0m\u001b[1;32m      8\u001b[0m     \u001b[0mgen_loss\u001b[0m \u001b[0;34m=\u001b[0m \u001b[0mnp\u001b[0m\u001b[0;34m.\u001b[0m\u001b[0mmean\u001b[0m\u001b[0;34m(\u001b[0m\u001b[0mgen_loss\u001b[0m\u001b[0;34m)\u001b[0m\u001b[0;34m\u001b[0m\u001b[0;34m\u001b[0m\u001b[0m\n\u001b[1;32m      9\u001b[0m     \u001b[0mdisc_loss\u001b[0m \u001b[0;34m=\u001b[0m \u001b[0mnp\u001b[0m\u001b[0;34m.\u001b[0m\u001b[0mmean\u001b[0m\u001b[0;34m(\u001b[0m\u001b[0mdisc_loss\u001b[0m\u001b[0;34m)\u001b[0m\u001b[0;34m\u001b[0m\u001b[0;34m\u001b[0m\u001b[0m\n",
            "\u001b[0;32m<ipython-input-90-e5df52efe25f>\u001b[0m in \u001b[0;36mtrain_step_pt\u001b[0;34m(generator, discriminator, generator_optimizer, discriminator_optimizer, batch_size)\u001b[0m\n\u001b[1;32m     19\u001b[0m \u001b[0;34m\u001b[0m\u001b[0m\n\u001b[1;32m     20\u001b[0m         \u001b[0mgenerated_images\u001b[0m \u001b[0;34m=\u001b[0m \u001b[0mgenerator\u001b[0m\u001b[0;34m(\u001b[0m\u001b[0mx_fake_batch_pt\u001b[0m\u001b[0;34m)\u001b[0m\u001b[0;34m\u001b[0m\u001b[0;34m\u001b[0m\u001b[0m\n\u001b[0;32m---> 21\u001b[0;31m         \u001b[0mfake_output\u001b[0m \u001b[0;34m=\u001b[0m \u001b[0mdiscriminator\u001b[0m\u001b[0;34m(\u001b[0m\u001b[0mgenerated_images\u001b[0m\u001b[0;34m.\u001b[0m\u001b[0mdetach\u001b[0m\u001b[0;34m(\u001b[0m\u001b[0;34m)\u001b[0m\u001b[0;34m)\u001b[0m\u001b[0;34m.\u001b[0m\u001b[0mview\u001b[0m\u001b[0;34m(\u001b[0m\u001b[0;34m-\u001b[0m\u001b[0;36m1\u001b[0m\u001b[0;34m)\u001b[0m\u001b[0;34m\u001b[0m\u001b[0;34m\u001b[0m\u001b[0m\n\u001b[0m\u001b[1;32m     22\u001b[0m         \u001b[0mdisc_loss_fake\u001b[0m \u001b[0;34m=\u001b[0m \u001b[0mfake_discriminator_loss\u001b[0m\u001b[0;34m(\u001b[0m\u001b[0mfake_output\u001b[0m\u001b[0;34m)\u001b[0m\u001b[0;34m\u001b[0m\u001b[0;34m\u001b[0m\u001b[0m\n\u001b[1;32m     23\u001b[0m         \u001b[0mdisc_loss_fake\u001b[0m\u001b[0;34m.\u001b[0m\u001b[0mbackward\u001b[0m\u001b[0;34m(\u001b[0m\u001b[0;34m)\u001b[0m\u001b[0;34m\u001b[0m\u001b[0;34m\u001b[0m\u001b[0m\n",
            "\u001b[0;32m/usr/local/lib/python3.7/dist-packages/torch/nn/modules/module.py\u001b[0m in \u001b[0;36m_call_impl\u001b[0;34m(self, *input, **kwargs)\u001b[0m\n\u001b[1;32m    887\u001b[0m             \u001b[0mresult\u001b[0m \u001b[0;34m=\u001b[0m \u001b[0mself\u001b[0m\u001b[0;34m.\u001b[0m\u001b[0m_slow_forward\u001b[0m\u001b[0;34m(\u001b[0m\u001b[0;34m*\u001b[0m\u001b[0minput\u001b[0m\u001b[0;34m,\u001b[0m \u001b[0;34m**\u001b[0m\u001b[0mkwargs\u001b[0m\u001b[0;34m)\u001b[0m\u001b[0;34m\u001b[0m\u001b[0;34m\u001b[0m\u001b[0m\n\u001b[1;32m    888\u001b[0m         \u001b[0;32melse\u001b[0m\u001b[0;34m:\u001b[0m\u001b[0;34m\u001b[0m\u001b[0;34m\u001b[0m\u001b[0m\n\u001b[0;32m--> 889\u001b[0;31m             \u001b[0mresult\u001b[0m \u001b[0;34m=\u001b[0m \u001b[0mself\u001b[0m\u001b[0;34m.\u001b[0m\u001b[0mforward\u001b[0m\u001b[0;34m(\u001b[0m\u001b[0;34m*\u001b[0m\u001b[0minput\u001b[0m\u001b[0;34m,\u001b[0m \u001b[0;34m**\u001b[0m\u001b[0mkwargs\u001b[0m\u001b[0;34m)\u001b[0m\u001b[0;34m\u001b[0m\u001b[0;34m\u001b[0m\u001b[0m\n\u001b[0m\u001b[1;32m    890\u001b[0m         for hook in itertools.chain(\n\u001b[1;32m    891\u001b[0m                 \u001b[0m_global_forward_hooks\u001b[0m\u001b[0;34m.\u001b[0m\u001b[0mvalues\u001b[0m\u001b[0;34m(\u001b[0m\u001b[0;34m)\u001b[0m\u001b[0;34m,\u001b[0m\u001b[0;34m\u001b[0m\u001b[0;34m\u001b[0m\u001b[0m\n",
            "\u001b[0;32m/usr/local/lib/python3.7/dist-packages/torch/nn/modules/container.py\u001b[0m in \u001b[0;36mforward\u001b[0;34m(self, input)\u001b[0m\n\u001b[1;32m    117\u001b[0m     \u001b[0;32mdef\u001b[0m \u001b[0mforward\u001b[0m\u001b[0;34m(\u001b[0m\u001b[0mself\u001b[0m\u001b[0;34m,\u001b[0m \u001b[0minput\u001b[0m\u001b[0;34m)\u001b[0m\u001b[0;34m:\u001b[0m\u001b[0;34m\u001b[0m\u001b[0;34m\u001b[0m\u001b[0m\n\u001b[1;32m    118\u001b[0m         \u001b[0;32mfor\u001b[0m \u001b[0mmodule\u001b[0m \u001b[0;32min\u001b[0m \u001b[0mself\u001b[0m\u001b[0;34m:\u001b[0m\u001b[0;34m\u001b[0m\u001b[0;34m\u001b[0m\u001b[0m\n\u001b[0;32m--> 119\u001b[0;31m             \u001b[0minput\u001b[0m \u001b[0;34m=\u001b[0m \u001b[0mmodule\u001b[0m\u001b[0;34m(\u001b[0m\u001b[0minput\u001b[0m\u001b[0;34m)\u001b[0m\u001b[0;34m\u001b[0m\u001b[0;34m\u001b[0m\u001b[0m\n\u001b[0m\u001b[1;32m    120\u001b[0m         \u001b[0;32mreturn\u001b[0m \u001b[0minput\u001b[0m\u001b[0;34m\u001b[0m\u001b[0;34m\u001b[0m\u001b[0m\n\u001b[1;32m    121\u001b[0m \u001b[0;34m\u001b[0m\u001b[0m\n",
            "\u001b[0;32m/usr/local/lib/python3.7/dist-packages/torch/nn/modules/module.py\u001b[0m in \u001b[0;36m_call_impl\u001b[0;34m(self, *input, **kwargs)\u001b[0m\n\u001b[1;32m    887\u001b[0m             \u001b[0mresult\u001b[0m \u001b[0;34m=\u001b[0m \u001b[0mself\u001b[0m\u001b[0;34m.\u001b[0m\u001b[0m_slow_forward\u001b[0m\u001b[0;34m(\u001b[0m\u001b[0;34m*\u001b[0m\u001b[0minput\u001b[0m\u001b[0;34m,\u001b[0m \u001b[0;34m**\u001b[0m\u001b[0mkwargs\u001b[0m\u001b[0;34m)\u001b[0m\u001b[0;34m\u001b[0m\u001b[0;34m\u001b[0m\u001b[0m\n\u001b[1;32m    888\u001b[0m         \u001b[0;32melse\u001b[0m\u001b[0;34m:\u001b[0m\u001b[0;34m\u001b[0m\u001b[0;34m\u001b[0m\u001b[0m\n\u001b[0;32m--> 889\u001b[0;31m             \u001b[0mresult\u001b[0m \u001b[0;34m=\u001b[0m \u001b[0mself\u001b[0m\u001b[0;34m.\u001b[0m\u001b[0mforward\u001b[0m\u001b[0;34m(\u001b[0m\u001b[0;34m*\u001b[0m\u001b[0minput\u001b[0m\u001b[0;34m,\u001b[0m \u001b[0;34m**\u001b[0m\u001b[0mkwargs\u001b[0m\u001b[0;34m)\u001b[0m\u001b[0;34m\u001b[0m\u001b[0;34m\u001b[0m\u001b[0m\n\u001b[0m\u001b[1;32m    890\u001b[0m         for hook in itertools.chain(\n\u001b[1;32m    891\u001b[0m                 \u001b[0m_global_forward_hooks\u001b[0m\u001b[0;34m.\u001b[0m\u001b[0mvalues\u001b[0m\u001b[0;34m(\u001b[0m\u001b[0;34m)\u001b[0m\u001b[0;34m,\u001b[0m\u001b[0;34m\u001b[0m\u001b[0;34m\u001b[0m\u001b[0m\n",
            "\u001b[0;32m/usr/local/lib/python3.7/dist-packages/torch/nn/modules/conv.py\u001b[0m in \u001b[0;36mforward\u001b[0;34m(self, input)\u001b[0m\n\u001b[1;32m    397\u001b[0m \u001b[0;34m\u001b[0m\u001b[0m\n\u001b[1;32m    398\u001b[0m     \u001b[0;32mdef\u001b[0m \u001b[0mforward\u001b[0m\u001b[0;34m(\u001b[0m\u001b[0mself\u001b[0m\u001b[0;34m,\u001b[0m \u001b[0minput\u001b[0m\u001b[0;34m:\u001b[0m \u001b[0mTensor\u001b[0m\u001b[0;34m)\u001b[0m \u001b[0;34m->\u001b[0m \u001b[0mTensor\u001b[0m\u001b[0;34m:\u001b[0m\u001b[0;34m\u001b[0m\u001b[0;34m\u001b[0m\u001b[0m\n\u001b[0;32m--> 399\u001b[0;31m         \u001b[0;32mreturn\u001b[0m \u001b[0mself\u001b[0m\u001b[0;34m.\u001b[0m\u001b[0m_conv_forward\u001b[0m\u001b[0;34m(\u001b[0m\u001b[0minput\u001b[0m\u001b[0;34m,\u001b[0m \u001b[0mself\u001b[0m\u001b[0;34m.\u001b[0m\u001b[0mweight\u001b[0m\u001b[0;34m,\u001b[0m \u001b[0mself\u001b[0m\u001b[0;34m.\u001b[0m\u001b[0mbias\u001b[0m\u001b[0;34m)\u001b[0m\u001b[0;34m\u001b[0m\u001b[0;34m\u001b[0m\u001b[0m\n\u001b[0m\u001b[1;32m    400\u001b[0m \u001b[0;34m\u001b[0m\u001b[0m\n\u001b[1;32m    401\u001b[0m \u001b[0;32mclass\u001b[0m \u001b[0mConv3d\u001b[0m\u001b[0;34m(\u001b[0m\u001b[0m_ConvNd\u001b[0m\u001b[0;34m)\u001b[0m\u001b[0;34m:\u001b[0m\u001b[0;34m\u001b[0m\u001b[0;34m\u001b[0m\u001b[0m\n",
            "\u001b[0;32m/usr/local/lib/python3.7/dist-packages/torch/nn/modules/conv.py\u001b[0m in \u001b[0;36m_conv_forward\u001b[0;34m(self, input, weight, bias)\u001b[0m\n\u001b[1;32m    394\u001b[0m                             _pair(0), self.dilation, self.groups)\n\u001b[1;32m    395\u001b[0m         return F.conv2d(input, weight, bias, self.stride,\n\u001b[0;32m--> 396\u001b[0;31m                         self.padding, self.dilation, self.groups)\n\u001b[0m\u001b[1;32m    397\u001b[0m \u001b[0;34m\u001b[0m\u001b[0m\n\u001b[1;32m    398\u001b[0m     \u001b[0;32mdef\u001b[0m \u001b[0mforward\u001b[0m\u001b[0;34m(\u001b[0m\u001b[0mself\u001b[0m\u001b[0;34m,\u001b[0m \u001b[0minput\u001b[0m\u001b[0;34m:\u001b[0m \u001b[0mTensor\u001b[0m\u001b[0;34m)\u001b[0m \u001b[0;34m->\u001b[0m \u001b[0mTensor\u001b[0m\u001b[0;34m:\u001b[0m\u001b[0;34m\u001b[0m\u001b[0;34m\u001b[0m\u001b[0m\n",
            "\u001b[0;31mKeyboardInterrupt\u001b[0m: "
          ]
        }
      ]
    },
    {
      "cell_type": "code",
      "metadata": {
        "id": "LGOH030LKOwE"
      },
      "source": [
        "print(f\"Total training time{(end - start)/60.0}\")"
      ],
      "execution_count": null,
      "outputs": []
    },
    {
      "cell_type": "markdown",
      "metadata": {
        "id": "E88Mbb_M065-"
      },
      "source": [
        "### b) Training progress"
      ]
    },
    {
      "cell_type": "code",
      "metadata": {
        "id": "k8-7QBvL065_"
      },
      "source": [
        "plt.figure(figsize=(16,10))\n",
        "plt.plot(train_acc_discriminator_pt)\n",
        "plt.title('discriminator accuracy')\n",
        "plt.ylabel('accuracy')\n",
        "plt.xlabel('epoch')\n",
        "plt.legend(['discriminator_train'], loc='upper right')\n",
        "plt.show()"
      ],
      "execution_count": null,
      "outputs": []
    },
    {
      "cell_type": "code",
      "metadata": {
        "id": "cG8W0zvk065_"
      },
      "source": [
        "plt.figure(figsize=(16,10))\n",
        "plt.plot(train_losses_generator_pt)\n",
        "plt.plot(train_losses_discriminator_pt)\n",
        "plt.title('model loss')\n",
        "plt.ylabel('loss')\n",
        "plt.xlabel('epoch')\n",
        "plt.legend(['generator', 'discriminator'], loc='upper right')\n",
        "plt.show()"
      ],
      "execution_count": null,
      "outputs": []
    },
    {
      "cell_type": "markdown",
      "metadata": {
        "id": "6UiwHcmI4C_d"
      },
      "source": [
        ""
      ]
    },
    {
      "cell_type": "markdown",
      "metadata": {
        "id": "rdVnypYA065_"
      },
      "source": [
        "### c1) Generator output before training"
      ]
    },
    {
      "cell_type": "code",
      "metadata": {
        "id": "xMDDynAD066A",
        "colab": {
          "base_uri": "https://localhost:8080/",
          "height": 269
        },
        "outputId": "13dad5a1-3779-45e7-b179-ea4d86c41ae6"
      },
      "source": [
        "\n",
        "fake_im_not_trained = fake_im_not_trained.detach().numpy() * 255\n",
        "fake_im_not_trained = fake_im_not_trained.reshape((28,28))\n",
        "plt.figure()\n",
        "plt.imshow(fake_im_not_trained, cmap='gray')\n",
        "plt.colorbar()\n",
        "plt.grid(False)\n",
        "plt.show()"
      ],
      "execution_count": 92,
      "outputs": [
        {
          "output_type": "display_data",
          "data": {
            "image/png": "[encoded data removed]",
            "text/plain": [
              "<Figure size 432x288 with 2 Axes>"
            ]
          },
          "metadata": {
            "tags": [],
            "needs_background": "light"
          }
        }
      ]
    },
    {
      "cell_type": "markdown",
      "metadata": {
        "id": "RH3KjkI-066A"
      },
      "source": [
        "### c2) Generator output after training"
      ]
    },
    {
      "cell_type": "code",
      "metadata": {
        "id": "OfqPBgZo066A",
        "colab": {
          "base_uri": "https://localhost:8080/",
          "height": 265
        },
        "outputId": "550e79d9-43d7-4fcf-8c5d-0f3080f68c40"
      },
      "source": [
        "seed2 = torch.normal(0, 1, size=[1, 100, 1, 1])\n",
        "generator.train(False)\n",
        "fake_im = generator(seed2)\n",
        "fake_im = fake_im.detach().numpy() * 255\n",
        "fake_im = fake_im.reshape((28,28))\n",
        "plt.figure()\n",
        "plt.imshow(fake_im, cmap='gray')\n",
        "plt.colorbar()\n",
        "plt.grid(False)\n",
        "plt.show()"
      ],
      "execution_count": 93,
      "outputs": [
        {
          "output_type": "display_data",
          "data": {
            "image/png": "[encoded data removed]",
            "text/plain": [
              "<Figure size 432x288 with 2 Axes>"
            ]
          },
          "metadata": {
            "tags": [],
            "needs_background": "light"
          }
        }
      ]
    },
    {
      "cell_type": "markdown",
      "metadata": {
        "id": "nDy-AvTmL6D4"
      },
      "source": [
        "## 6. References\n",
        "The presented model is based on a combination of two tutorials for deep cnn-gans:\n",
        "1) https://pytorch.org/tutorials/beginner/dcgan_faces_tutorial.html\n",
        "\n",
        "2) https://www.tensorflow.org/tutorials/generative/dcgan"
      ]
    },
    {
      "cell_type": "code",
      "metadata": {
        "id": "E_UcuzDvL6D4"
      },
      "source": [
        ""
      ],
      "execution_count": null,
      "outputs": []
    }
  ]
}