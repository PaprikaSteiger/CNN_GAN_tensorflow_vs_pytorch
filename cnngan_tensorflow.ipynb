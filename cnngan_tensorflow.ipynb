{
  "nbformat": 4,
  "nbformat_minor": 0,
  "metadata": {
    "kernelspec": {
      "display_name": "Python 3",
      "language": "python",
      "name": "python3"
    },
    "language_info": {
      "codemirror_mode": {
        "name": "ipython",
        "version": 3
      },
      "file_extension": ".py",
      "mimetype": "text/x-python",
      "name": "python",
      "nbconvert_exporter": "python",
      "pygments_lexer": "ipython3",
      "version": "3.7.5"
    },
    "colab": {
      "name": "cnngan_tensorflow.ipynb",
      "provenance": [],
      "collapsed_sections": [
        "nhZkXM5808ER",
        "smxDxyDs08ET",
        "SEN0m5oH08EV",
        "sfL33kgx08EV",
        "y3VSO3Th08EX",
        "Rwxd4Ete08EY",
        "AMIbdfSn08EZ",
        "9gaOeazm08Eb",
        "64yCgpdk08Eb",
        "EC7R0vYU08Ee",
        "AdK-aJG708Eg",
        "kd6RVvyt08Eh"
      ],
      "include_colab_link": true
    }
  },
  "cells": [
    {
      "cell_type": "markdown",
      "metadata": {
        "id": "view-in-github",
        "colab_type": "text"
      },
      "source": [
        "<a href=\"https://colab.research.google.com/github/PaprikaSteiger/CNN_GAN_tensorflow_vs_pytorch/blob/master/cnngan_tensorflow.ipynb\" target=\"_parent\"><img src=\"https://colab.research.google.com/assets/colab-badge.svg\" alt=\"Open In Colab\"/></a>"
      ]
    },
    {
      "cell_type": "markdown",
      "metadata": {
        "id": "dVn4V5Th08EA"
      },
      "source": [
        "# Implementing a CNNGAN with tensorflow"
      ]
    },
    {
      "cell_type": "markdown",
      "metadata": {
        "id": "gjklIser08EI"
      },
      "source": [
        "## 1. Import and Preprocessing\n",
        "### a) Importing modules"
      ]
    },
    {
      "cell_type": "code",
      "metadata": {
        "id": "TW_S35qz08EJ"
      },
      "source": [
        "# Load required packages - data handling & plotting\n",
        "import pandas as pd\n",
        "import numpy as np\n",
        "import matplotlib.pyplot as plt\n",
        "import time\n",
        "\n",
        "# Load required packages - deep learning \n",
        "import tensorflow as tf\n",
        "from tensorflow import keras"
      ],
      "execution_count": null,
      "outputs": []
    },
    {
      "cell_type": "code",
      "metadata": {
        "id": "beaGqrO_08EK",
        "outputId": "c3708041-8367-4de6-a878-dbece942a1a2"
      },
      "source": [
        "print(f\"tensorflow: {tf.__version__}\")\n",
        "import sys\n",
        "print(f\"python: {sys.version[:5]}\")"
      ],
      "execution_count": null,
      "outputs": [
        {
          "output_type": "stream",
          "text": [
            "tensorflow: 2.4.1\n",
            "python: 3.7.5\n"
          ],
          "name": "stdout"
        }
      ]
    },
    {
      "cell_type": "markdown",
      "metadata": {
        "id": "tFAdwWGW08EL"
      },
      "source": [
        "### b) Importing the data"
      ]
    },
    {
      "cell_type": "code",
      "metadata": {
        "id": "f3iE76FP08EL"
      },
      "source": [
        "#download and save to file\n",
        "#urllib.request.urlretrieve(\n",
        "#    \"https://media.githubusercontent.com/media/mmeierer/CNN---TensorFlow-vs-PyTorch/main/fashion-mnist_train.csv\",\n",
        "#    \"fashion-mnist_train2.csv\")"
      ],
      "execution_count": null,
      "outputs": []
    },
    {
      "cell_type": "code",
      "metadata": {
        "id": "2I9TNMoN08EM"
      },
      "source": [
        "train_data = pd.read_csv('https://media.githubusercontent.com/media/PaprikaSteiger/CNN_GAN_tensorflow_vs_pytorch/master/fashion-mnist_train.csv')"
      ],
      "execution_count": null,
      "outputs": []
    },
    {
      "cell_type": "code",
      "metadata": {
        "scrolled": true,
        "id": "-Ap43CSl08EM",
        "outputId": "ccdc0b25-8d70-40ad-ad6e-cae07454e9cd"
      },
      "source": [
        "train_data.head()"
      ],
      "execution_count": null,
      "outputs": [
        {
          "output_type": "execute_result",
          "data": {
            "text/html": [
              "<div>\n",
              "<style scoped>\n",
              "    .dataframe tbody tr th:only-of-type {\n",
              "        vertical-align: middle;\n",
              "    }\n",
              "\n",
              "    .dataframe tbody tr th {\n",
              "        vertical-align: top;\n",
              "    }\n",
              "\n",
              "    .dataframe thead th {\n",
              "        text-align: right;\n",
              "    }\n",
              "</style>\n",
              "<table border=\"1\" class=\"dataframe\">\n",
              "  <thead>\n",
              "    <tr style=\"text-align: right;\">\n",
              "      <th></th>\n",
              "      <th>label</th>\n",
              "      <th>pixel1</th>\n",
              "      <th>pixel2</th>\n",
              "      <th>pixel3</th>\n",
              "      <th>pixel4</th>\n",
              "      <th>pixel5</th>\n",
              "      <th>pixel6</th>\n",
              "      <th>pixel7</th>\n",
              "      <th>pixel8</th>\n",
              "      <th>pixel9</th>\n",
              "      <th>...</th>\n",
              "      <th>pixel775</th>\n",
              "      <th>pixel776</th>\n",
              "      <th>pixel777</th>\n",
              "      <th>pixel778</th>\n",
              "      <th>pixel779</th>\n",
              "      <th>pixel780</th>\n",
              "      <th>pixel781</th>\n",
              "      <th>pixel782</th>\n",
              "      <th>pixel783</th>\n",
              "      <th>pixel784</th>\n",
              "    </tr>\n",
              "  </thead>\n",
              "  <tbody>\n",
              "    <tr>\n",
              "      <th>0</th>\n",
              "      <td>2</td>\n",
              "      <td>0</td>\n",
              "      <td>0</td>\n",
              "      <td>0</td>\n",
              "      <td>0</td>\n",
              "      <td>0</td>\n",
              "      <td>0</td>\n",
              "      <td>0</td>\n",
              "      <td>0</td>\n",
              "      <td>0</td>\n",
              "      <td>...</td>\n",
              "      <td>0</td>\n",
              "      <td>0</td>\n",
              "      <td>0</td>\n",
              "      <td>0</td>\n",
              "      <td>0</td>\n",
              "      <td>0</td>\n",
              "      <td>0</td>\n",
              "      <td>0</td>\n",
              "      <td>0</td>\n",
              "      <td>0</td>\n",
              "    </tr>\n",
              "    <tr>\n",
              "      <th>1</th>\n",
              "      <td>9</td>\n",
              "      <td>0</td>\n",
              "      <td>0</td>\n",
              "      <td>0</td>\n",
              "      <td>0</td>\n",
              "      <td>0</td>\n",
              "      <td>0</td>\n",
              "      <td>0</td>\n",
              "      <td>0</td>\n",
              "      <td>0</td>\n",
              "      <td>...</td>\n",
              "      <td>0</td>\n",
              "      <td>0</td>\n",
              "      <td>0</td>\n",
              "      <td>0</td>\n",
              "      <td>0</td>\n",
              "      <td>0</td>\n",
              "      <td>0</td>\n",
              "      <td>0</td>\n",
              "      <td>0</td>\n",
              "      <td>0</td>\n",
              "    </tr>\n",
              "    <tr>\n",
              "      <th>2</th>\n",
              "      <td>6</td>\n",
              "      <td>0</td>\n",
              "      <td>0</td>\n",
              "      <td>0</td>\n",
              "      <td>0</td>\n",
              "      <td>0</td>\n",
              "      <td>0</td>\n",
              "      <td>0</td>\n",
              "      <td>5</td>\n",
              "      <td>0</td>\n",
              "      <td>...</td>\n",
              "      <td>0</td>\n",
              "      <td>0</td>\n",
              "      <td>0</td>\n",
              "      <td>30</td>\n",
              "      <td>43</td>\n",
              "      <td>0</td>\n",
              "      <td>0</td>\n",
              "      <td>0</td>\n",
              "      <td>0</td>\n",
              "      <td>0</td>\n",
              "    </tr>\n",
              "    <tr>\n",
              "      <th>3</th>\n",
              "      <td>0</td>\n",
              "      <td>0</td>\n",
              "      <td>0</td>\n",
              "      <td>0</td>\n",
              "      <td>1</td>\n",
              "      <td>2</td>\n",
              "      <td>0</td>\n",
              "      <td>0</td>\n",
              "      <td>0</td>\n",
              "      <td>0</td>\n",
              "      <td>...</td>\n",
              "      <td>3</td>\n",
              "      <td>0</td>\n",
              "      <td>0</td>\n",
              "      <td>0</td>\n",
              "      <td>0</td>\n",
              "      <td>1</td>\n",
              "      <td>0</td>\n",
              "      <td>0</td>\n",
              "      <td>0</td>\n",
              "      <td>0</td>\n",
              "    </tr>\n",
              "    <tr>\n",
              "      <th>4</th>\n",
              "      <td>3</td>\n",
              "      <td>0</td>\n",
              "      <td>0</td>\n",
              "      <td>0</td>\n",
              "      <td>0</td>\n",
              "      <td>0</td>\n",
              "      <td>0</td>\n",
              "      <td>0</td>\n",
              "      <td>0</td>\n",
              "      <td>0</td>\n",
              "      <td>...</td>\n",
              "      <td>0</td>\n",
              "      <td>0</td>\n",
              "      <td>0</td>\n",
              "      <td>0</td>\n",
              "      <td>0</td>\n",
              "      <td>0</td>\n",
              "      <td>0</td>\n",
              "      <td>0</td>\n",
              "      <td>0</td>\n",
              "      <td>0</td>\n",
              "    </tr>\n",
              "  </tbody>\n",
              "</table>\n",
              "<p>5 rows × 785 columns</p>\n",
              "</div>"
            ],
            "text/plain": [
              "   label  pixel1  pixel2  pixel3  pixel4  pixel5  pixel6  pixel7  pixel8  \\\n",
              "0      2       0       0       0       0       0       0       0       0   \n",
              "1      9       0       0       0       0       0       0       0       0   \n",
              "2      6       0       0       0       0       0       0       0       5   \n",
              "3      0       0       0       0       1       2       0       0       0   \n",
              "4      3       0       0       0       0       0       0       0       0   \n",
              "\n",
              "   pixel9  ...  pixel775  pixel776  pixel777  pixel778  pixel779  pixel780  \\\n",
              "0       0  ...         0         0         0         0         0         0   \n",
              "1       0  ...         0         0         0         0         0         0   \n",
              "2       0  ...         0         0         0        30        43         0   \n",
              "3       0  ...         3         0         0         0         0         1   \n",
              "4       0  ...         0         0         0         0         0         0   \n",
              "\n",
              "   pixel781  pixel782  pixel783  pixel784  \n",
              "0         0         0         0         0  \n",
              "1         0         0         0         0  \n",
              "2         0         0         0         0  \n",
              "3         0         0         0         0  \n",
              "4         0         0         0         0  \n",
              "\n",
              "[5 rows x 785 columns]"
            ]
          },
          "metadata": {
            "tags": []
          },
          "execution_count": 5
        }
      ]
    },
    {
      "cell_type": "code",
      "metadata": {
        "id": "5KNtIlIw08EN"
      },
      "source": [
        "train_images = train_data.iloc[:,1:]"
      ],
      "execution_count": null,
      "outputs": []
    },
    {
      "cell_type": "code",
      "metadata": {
        "id": "LWQUkTRs08EO",
        "outputId": "04149eab-07cb-4edb-874a-bf8daab60acf"
      },
      "source": [
        "plt.figure()\n",
        "plt.imshow(train_images.values[0].reshape(28,28), cmap='gray')\n",
        "plt.colorbar()\n",
        "plt.grid(False)\n",
        "plt.show()"
      ],
      "execution_count": null,
      "outputs": [
        {
          "output_type": "display_data",
          "data": {
            "image/png": "[encoded data removed]",
            "text/plain": [
              "<Figure size 432x288 with 2 Axes>"
            ]
          },
          "metadata": {
            "tags": [],
            "needs_background": "light"
          }
        }
      ]
    },
    {
      "cell_type": "markdown",
      "metadata": {
        "id": "66Fjydps08EP"
      },
      "source": [
        "### c) Data preparation"
      ]
    },
    {
      "cell_type": "code",
      "metadata": {
        "id": "CmUTCQY108EP"
      },
      "source": [
        "# use maximum normalization\n",
        "train_images = train_images / np.float32(255)"
      ],
      "execution_count": null,
      "outputs": []
    },
    {
      "cell_type": "code",
      "metadata": {
        "id": "OjoHiD2108EP",
        "outputId": "8c722c03-3e0c-4f0f-fdc2-552157244819"
      },
      "source": [
        "train_images.head()"
      ],
      "execution_count": null,
      "outputs": [
        {
          "output_type": "execute_result",
          "data": {
            "text/html": [
              "<div>\n",
              "<style scoped>\n",
              "    .dataframe tbody tr th:only-of-type {\n",
              "        vertical-align: middle;\n",
              "    }\n",
              "\n",
              "    .dataframe tbody tr th {\n",
              "        vertical-align: top;\n",
              "    }\n",
              "\n",
              "    .dataframe thead th {\n",
              "        text-align: right;\n",
              "    }\n",
              "</style>\n",
              "<table border=\"1\" class=\"dataframe\">\n",
              "  <thead>\n",
              "    <tr style=\"text-align: right;\">\n",
              "      <th></th>\n",
              "      <th>pixel1</th>\n",
              "      <th>pixel2</th>\n",
              "      <th>pixel3</th>\n",
              "      <th>pixel4</th>\n",
              "      <th>pixel5</th>\n",
              "      <th>pixel6</th>\n",
              "      <th>pixel7</th>\n",
              "      <th>pixel8</th>\n",
              "      <th>pixel9</th>\n",
              "      <th>pixel10</th>\n",
              "      <th>...</th>\n",
              "      <th>pixel775</th>\n",
              "      <th>pixel776</th>\n",
              "      <th>pixel777</th>\n",
              "      <th>pixel778</th>\n",
              "      <th>pixel779</th>\n",
              "      <th>pixel780</th>\n",
              "      <th>pixel781</th>\n",
              "      <th>pixel782</th>\n",
              "      <th>pixel783</th>\n",
              "      <th>pixel784</th>\n",
              "    </tr>\n",
              "  </thead>\n",
              "  <tbody>\n",
              "    <tr>\n",
              "      <th>0</th>\n",
              "      <td>0.0</td>\n",
              "      <td>0.0</td>\n",
              "      <td>0.0</td>\n",
              "      <td>0.000000</td>\n",
              "      <td>0.000000</td>\n",
              "      <td>0.0</td>\n",
              "      <td>0.0</td>\n",
              "      <td>0.000000</td>\n",
              "      <td>0.0</td>\n",
              "      <td>0.0</td>\n",
              "      <td>...</td>\n",
              "      <td>0.000000</td>\n",
              "      <td>0.0</td>\n",
              "      <td>0.0</td>\n",
              "      <td>0.000000</td>\n",
              "      <td>0.000000</td>\n",
              "      <td>0.000000</td>\n",
              "      <td>0.0</td>\n",
              "      <td>0.0</td>\n",
              "      <td>0.0</td>\n",
              "      <td>0.0</td>\n",
              "    </tr>\n",
              "    <tr>\n",
              "      <th>1</th>\n",
              "      <td>0.0</td>\n",
              "      <td>0.0</td>\n",
              "      <td>0.0</td>\n",
              "      <td>0.000000</td>\n",
              "      <td>0.000000</td>\n",
              "      <td>0.0</td>\n",
              "      <td>0.0</td>\n",
              "      <td>0.000000</td>\n",
              "      <td>0.0</td>\n",
              "      <td>0.0</td>\n",
              "      <td>...</td>\n",
              "      <td>0.000000</td>\n",
              "      <td>0.0</td>\n",
              "      <td>0.0</td>\n",
              "      <td>0.000000</td>\n",
              "      <td>0.000000</td>\n",
              "      <td>0.000000</td>\n",
              "      <td>0.0</td>\n",
              "      <td>0.0</td>\n",
              "      <td>0.0</td>\n",
              "      <td>0.0</td>\n",
              "    </tr>\n",
              "    <tr>\n",
              "      <th>2</th>\n",
              "      <td>0.0</td>\n",
              "      <td>0.0</td>\n",
              "      <td>0.0</td>\n",
              "      <td>0.000000</td>\n",
              "      <td>0.000000</td>\n",
              "      <td>0.0</td>\n",
              "      <td>0.0</td>\n",
              "      <td>0.019608</td>\n",
              "      <td>0.0</td>\n",
              "      <td>0.0</td>\n",
              "      <td>...</td>\n",
              "      <td>0.000000</td>\n",
              "      <td>0.0</td>\n",
              "      <td>0.0</td>\n",
              "      <td>0.117647</td>\n",
              "      <td>0.168627</td>\n",
              "      <td>0.000000</td>\n",
              "      <td>0.0</td>\n",
              "      <td>0.0</td>\n",
              "      <td>0.0</td>\n",
              "      <td>0.0</td>\n",
              "    </tr>\n",
              "    <tr>\n",
              "      <th>3</th>\n",
              "      <td>0.0</td>\n",
              "      <td>0.0</td>\n",
              "      <td>0.0</td>\n",
              "      <td>0.003922</td>\n",
              "      <td>0.007843</td>\n",
              "      <td>0.0</td>\n",
              "      <td>0.0</td>\n",
              "      <td>0.000000</td>\n",
              "      <td>0.0</td>\n",
              "      <td>0.0</td>\n",
              "      <td>...</td>\n",
              "      <td>0.011765</td>\n",
              "      <td>0.0</td>\n",
              "      <td>0.0</td>\n",
              "      <td>0.000000</td>\n",
              "      <td>0.000000</td>\n",
              "      <td>0.003922</td>\n",
              "      <td>0.0</td>\n",
              "      <td>0.0</td>\n",
              "      <td>0.0</td>\n",
              "      <td>0.0</td>\n",
              "    </tr>\n",
              "    <tr>\n",
              "      <th>4</th>\n",
              "      <td>0.0</td>\n",
              "      <td>0.0</td>\n",
              "      <td>0.0</td>\n",
              "      <td>0.000000</td>\n",
              "      <td>0.000000</td>\n",
              "      <td>0.0</td>\n",
              "      <td>0.0</td>\n",
              "      <td>0.000000</td>\n",
              "      <td>0.0</td>\n",
              "      <td>0.0</td>\n",
              "      <td>...</td>\n",
              "      <td>0.000000</td>\n",
              "      <td>0.0</td>\n",
              "      <td>0.0</td>\n",
              "      <td>0.000000</td>\n",
              "      <td>0.000000</td>\n",
              "      <td>0.000000</td>\n",
              "      <td>0.0</td>\n",
              "      <td>0.0</td>\n",
              "      <td>0.0</td>\n",
              "      <td>0.0</td>\n",
              "    </tr>\n",
              "  </tbody>\n",
              "</table>\n",
              "<p>5 rows × 784 columns</p>\n",
              "</div>"
            ],
            "text/plain": [
              "   pixel1  pixel2  pixel3    pixel4    pixel5  pixel6  pixel7    pixel8  \\\n",
              "0     0.0     0.0     0.0  0.000000  0.000000     0.0     0.0  0.000000   \n",
              "1     0.0     0.0     0.0  0.000000  0.000000     0.0     0.0  0.000000   \n",
              "2     0.0     0.0     0.0  0.000000  0.000000     0.0     0.0  0.019608   \n",
              "3     0.0     0.0     0.0  0.003922  0.007843     0.0     0.0  0.000000   \n",
              "4     0.0     0.0     0.0  0.000000  0.000000     0.0     0.0  0.000000   \n",
              "\n",
              "   pixel9  pixel10  ...  pixel775  pixel776  pixel777  pixel778  pixel779  \\\n",
              "0     0.0      0.0  ...  0.000000       0.0       0.0  0.000000  0.000000   \n",
              "1     0.0      0.0  ...  0.000000       0.0       0.0  0.000000  0.000000   \n",
              "2     0.0      0.0  ...  0.000000       0.0       0.0  0.117647  0.168627   \n",
              "3     0.0      0.0  ...  0.011765       0.0       0.0  0.000000  0.000000   \n",
              "4     0.0      0.0  ...  0.000000       0.0       0.0  0.000000  0.000000   \n",
              "\n",
              "   pixel780  pixel781  pixel782  pixel783  pixel784  \n",
              "0  0.000000       0.0       0.0       0.0       0.0  \n",
              "1  0.000000       0.0       0.0       0.0       0.0  \n",
              "2  0.000000       0.0       0.0       0.0       0.0  \n",
              "3  0.003922       0.0       0.0       0.0       0.0  \n",
              "4  0.000000       0.0       0.0       0.0       0.0  \n",
              "\n",
              "[5 rows x 784 columns]"
            ]
          },
          "metadata": {
            "tags": []
          },
          "execution_count": 9
        }
      ]
    },
    {
      "cell_type": "markdown",
      "metadata": {
        "id": "KhN_PtQy08EQ"
      },
      "source": [
        "\n",
        "## 2. Model specific data preparation (tensorflow)\n",
        "## a) Load the data"
      ]
    },
    {
      "cell_type": "code",
      "metadata": {
        "id": "Y8aME-e308EQ"
      },
      "source": [
        "x_train_tf = tf.convert_to_tensor(train_images.values.reshape((-1, 28, 28, 1)))"
      ],
      "execution_count": null,
      "outputs": []
    },
    {
      "cell_type": "code",
      "metadata": {
        "id": "_mW_cI2U08ER",
        "outputId": "91aa0969-4981-4a60-b848-8e9fc9d16671"
      },
      "source": [
        "# use random seed to create fake input data\n",
        "seed = tf.random.uniform([28,28], 0, 1, tf.float32)\n",
        "seed_im = seed.numpy() * 255\n",
        "plt.figure()\n",
        "plt.imshow(seed_im, cmap='gray')\n",
        "plt.colorbar()\n",
        "plt.grid(False)\n",
        "plt.show()"
      ],
      "execution_count": null,
      "outputs": [
        {
          "output_type": "display_data",
          "data": {
            "image/png": "[encoded data removed]",
            "text/plain": [
              "<Figure size 432x288 with 2 Axes>"
            ]
          },
          "metadata": {
            "tags": [],
            "needs_background": "light"
          }
        }
      ]
    },
    {
      "cell_type": "markdown",
      "metadata": {
        "id": "nhZkXM5808ER"
      },
      "source": [
        "### b) Tensor view of the data"
      ]
    },
    {
      "cell_type": "code",
      "metadata": {
        "id": "mrsVbeoH08ER",
        "outputId": "46c93ec5-3fe7-4b7e-dd6f-c5bd97400cc9"
      },
      "source": [
        "x_train_tf.shape"
      ],
      "execution_count": null,
      "outputs": [
        {
          "output_type": "execute_result",
          "data": {
            "text/plain": [
              "TensorShape([60000, 28, 28, 1])"
            ]
          },
          "metadata": {
            "tags": []
          },
          "execution_count": 12
        }
      ]
    },
    {
      "cell_type": "code",
      "metadata": {
        "id": "o5qhF5O608ES",
        "outputId": "6a7a165b-6c82-4e8e-dc7d-09519c05346d"
      },
      "source": [
        "seed.shape"
      ],
      "execution_count": null,
      "outputs": [
        {
          "output_type": "execute_result",
          "data": {
            "text/plain": [
              "TensorShape([28, 28])"
            ]
          },
          "metadata": {
            "tags": []
          },
          "execution_count": 13
        }
      ]
    },
    {
      "cell_type": "code",
      "metadata": {
        "id": "16VSHG8D08ES",
        "outputId": "a8623108-eb37-4db1-bf23-7f6b01a56fbd"
      },
      "source": [
        "x_train_tf[0][5]"
      ],
      "execution_count": null,
      "outputs": [
        {
          "output_type": "execute_result",
          "data": {
            "text/plain": [
              "<tf.Tensor: shape=(28, 1), dtype=float64, numpy=\n",
              "array([[0.        ],\n",
              "       [0.        ],\n",
              "       [0.        ],\n",
              "       [0.        ],\n",
              "       [0.        ],\n",
              "       [0.18431373],\n",
              "       [0.98823529],\n",
              "       [0.91764706],\n",
              "       [0.93333333],\n",
              "       [0.87843137],\n",
              "       [0.84313725],\n",
              "       [0.84313725],\n",
              "       [0.89803922],\n",
              "       [0.42352941],\n",
              "       [0.70588235],\n",
              "       [0.81176471],\n",
              "       [0.83921569],\n",
              "       [0.87843137],\n",
              "       [0.90588235],\n",
              "       [0.97647059],\n",
              "       [0.99607843],\n",
              "       [0.17647059],\n",
              "       [0.        ],\n",
              "       [0.        ],\n",
              "       [0.        ],\n",
              "       [0.        ],\n",
              "       [0.        ],\n",
              "       [0.        ]])>"
            ]
          },
          "metadata": {
            "tags": []
          },
          "execution_count": 14
        }
      ]
    },
    {
      "cell_type": "markdown",
      "metadata": {
        "id": "hsBm_3fk08ET"
      },
      "source": [
        "## 3. Model definition"
      ]
    },
    {
      "cell_type": "markdown",
      "metadata": {
        "id": "smxDxyDs08ET"
      },
      "source": [
        "### a.1) Generator"
      ]
    },
    {
      "cell_type": "code",
      "metadata": {
        "id": "r0oL5-4c08ET"
      },
      "source": [
        "# for weight initialization\n",
        "initializer_nn = tf.random_uniform_initializer(minval=-1, maxval=1, seed=123)\n",
        "def generator_model():   \n",
        "    model = tf.keras.Sequential()\n",
        "    model.add(keras.layers.Conv2DTranspose(64, (7,7), input_shape=(1, 1, 100), strides=1, padding='valid', use_bias=True, name=\"Conv2D1\"))\n",
        "    model.add(keras.layers.BatchNormalization(name=\"Batchnorm1\"))\n",
        "    model.add(keras.layers.LeakyReLU(name=\"LeakyRelu1\"))\n",
        "    assert model.output_shape == (None, 7, 7, 64)\n",
        "\n",
        "    model.add(keras.layers.Conv2DTranspose(32, (8, 8), strides=(1, 1), padding='valid', use_bias=True, name=\"Conv2D2\"))\n",
        "    assert model.output_shape == (None, 14, 14, 32)\n",
        "    model.add(keras.layers.BatchNormalization(name=\"Batchnorm2\"))\n",
        "    model.add(keras.layers.LeakyReLU(name=\"LeakyRelu2\"))\n",
        "\n",
        "    model.add(keras.layers.Conv2DTranspose(1, (15, 15), strides=(1, 1), padding='valid', use_bias=True, name=\"Conv2D3\"))\n",
        "    model.add(keras.layers.Activation(keras.activations.sigmoid, name=\"Sigmoid1\"))\n",
        "    assert model.output_shape == (None, 28, 28, 1)\n",
        "\n",
        "    return model\n",
        "generator = generator_model()"
      ],
      "execution_count": null,
      "outputs": []
    },
    {
      "cell_type": "code",
      "metadata": {
        "id": "b8l3mz4608EU",
        "outputId": "3f5fd9a8-5eae-4518-dea3-420c396cdaf7"
      },
      "source": [
        "# generated image not trained\n",
        "fake_im_not_trained = generator(tf.random.normal([1, 1, 1, 100], 0, 1, tf.float32))\n",
        "fake_im_not_trained.shape"
      ],
      "execution_count": null,
      "outputs": [
        {
          "output_type": "execute_result",
          "data": {
            "text/plain": [
              "TensorShape([1, 28, 28, 1])"
            ]
          },
          "metadata": {
            "tags": []
          },
          "execution_count": 16
        }
      ]
    },
    {
      "cell_type": "markdown",
      "metadata": {
        "id": "SEN0m5oH08EV"
      },
      "source": [
        "###  a.2) Inspect the generator model"
      ]
    },
    {
      "cell_type": "code",
      "metadata": {
        "id": "Jcl5DfBm08EV",
        "outputId": "1eb3f383-fe97-49f5-9df8-94227c17ee3f"
      },
      "source": [
        "generator.summary()"
      ],
      "execution_count": null,
      "outputs": [
        {
          "output_type": "stream",
          "text": [
            "Model: \"sequential\"\n",
            "_________________________________________________________________\n",
            "Layer (type)                 Output Shape              Param #   \n",
            "=================================================================\n",
            "Conv2D1 (Conv2DTranspose)    (None, 7, 7, 64)          313664    \n",
            "_________________________________________________________________\n",
            "Batchnorm1 (BatchNormalizati (None, 7, 7, 64)          256       \n",
            "_________________________________________________________________\n",
            "LeakyRelu1 (LeakyReLU)       (None, 7, 7, 64)          0         \n",
            "_________________________________________________________________\n",
            "Conv2D2 (Conv2DTranspose)    (None, 14, 14, 32)        131104    \n",
            "_________________________________________________________________\n",
            "Batchnorm2 (BatchNormalizati (None, 14, 14, 32)        128       \n",
            "_________________________________________________________________\n",
            "LeakyRelu2 (LeakyReLU)       (None, 14, 14, 32)        0         \n",
            "_________________________________________________________________\n",
            "Conv2D3 (Conv2DTranspose)    (None, 28, 28, 1)         7201      \n",
            "_________________________________________________________________\n",
            "Sigmoid1 (Activation)        (None, 28, 28, 1)         0         \n",
            "=================================================================\n",
            "Total params: 452,353\n",
            "Trainable params: 452,161\n",
            "Non-trainable params: 192\n",
            "_________________________________________________________________\n"
          ],
          "name": "stdout"
        }
      ]
    },
    {
      "cell_type": "markdown",
      "metadata": {
        "id": "sfL33kgx08EV"
      },
      "source": [
        "### a.3) Inspect the first convolutional layer"
      ]
    },
    {
      "cell_type": "code",
      "metadata": {
        "id": "5fARY_Jx08EW",
        "outputId": "8448f610-59fa-4ea9-df7f-3253619ec314"
      },
      "source": [
        "hidden1_tf_ante = generator.layers[0]\n",
        "weights_tf_ante, biases_tf_ante = hidden1_tf_ante.get_weights()\n",
        "weights_tf_ante[0]"
      ],
      "execution_count": null,
      "outputs": [
        {
          "output_type": "execute_result",
          "data": {
            "text/plain": [
              "array([[[ 0.00818816, -0.02620516,  0.02036759, ...,  0.01204323,\n",
              "          0.00610202,  0.02201682],\n",
              "        [-0.02391763,  0.02131999,  0.00070359, ...,  0.01952383,\n",
              "          0.02246807, -0.01560204],\n",
              "        [-0.01141829, -0.01701246,  0.01193703, ...,  0.00519148,\n",
              "         -0.00155846,  0.00474283],\n",
              "        ...,\n",
              "        [-0.00442488,  0.01612221, -0.00337991, ...,  0.00381619,\n",
              "         -0.01455844,  0.0055977 ],\n",
              "        [ 0.00553394, -0.02186662, -0.02667663, ...,  0.01062096,\n",
              "          0.01947859, -0.02456287],\n",
              "        [-0.01623891, -0.01207391,  0.02372267, ...,  0.01083844,\n",
              "         -0.01966571, -0.00300002]],\n",
              "\n",
              "       [[-0.00510514,  0.01830344, -0.02398565, ..., -0.02469217,\n",
              "          0.01064975,  0.00221232],\n",
              "        [ 0.02310055,  0.00585638, -0.00987964, ...,  0.02563565,\n",
              "         -0.01795419,  0.00354412],\n",
              "        [ 0.01457029, -0.0229919 , -0.02617645, ..., -0.01140226,\n",
              "          0.01517211,  0.02703104],\n",
              "        ...,\n",
              "        [ 0.01194476,  0.0041151 , -0.02161013, ...,  0.01497873,\n",
              "         -0.00083994,  0.0256011 ],\n",
              "        [ 0.01466365, -0.01758226, -0.0067193 , ..., -0.00081996,\n",
              "         -0.02126764,  0.00966551],\n",
              "        [-0.01529109, -0.01783867, -0.00858411, ..., -0.00763798,\n",
              "         -0.01142503,  0.01300048]],\n",
              "\n",
              "       [[-0.02162987,  0.00570815, -0.01197781, ...,  0.02487882,\n",
              "          0.01429365, -0.0255553 ],\n",
              "        [-0.02476064,  0.01505235, -0.02489624, ..., -0.01905601,\n",
              "         -0.02059666, -0.01498558],\n",
              "        [-0.02360099,  0.01455606,  0.02729716, ..., -0.02348025,\n",
              "         -0.00788408,  0.00264707],\n",
              "        ...,\n",
              "        [ 0.01613876,  0.00129823, -0.00125066, ..., -0.02509994,\n",
              "          0.00227444, -0.00101031],\n",
              "        [-0.00111125,  0.01400557, -0.01857306, ..., -0.02720669,\n",
              "         -0.00268223,  0.00861178],\n",
              "        [-0.0110577 , -0.00346052, -0.01455781, ...,  0.01648432,\n",
              "         -0.02411045, -0.01127331]],\n",
              "\n",
              "       ...,\n",
              "\n",
              "       [[ 0.02489133,  0.0152568 ,  0.02192481, ..., -0.01437633,\n",
              "         -0.01708677,  0.01724391],\n",
              "        [ 0.0084883 , -0.00692792,  0.01471064, ..., -0.01626898,\n",
              "         -0.02707738,  0.00368831],\n",
              "        [ 0.00556054,  0.02279669, -0.02365959, ...,  0.00721051,\n",
              "          0.01075294,  0.02529999],\n",
              "        ...,\n",
              "        [ 0.01323202,  0.01916733, -0.01981703, ..., -0.00758268,\n",
              "          0.02045195,  0.00746026],\n",
              "        [ 0.0087727 , -0.00746133, -0.01156186, ..., -0.02230893,\n",
              "         -0.00176067,  0.02689738],\n",
              "        [ 0.01776958,  0.01119515, -0.01398916, ...,  0.00381401,\n",
              "          0.00281533,  0.00481991]],\n",
              "\n",
              "       [[-0.02466472, -0.01940636,  0.01803246, ...,  0.01512401,\n",
              "         -0.01313964, -0.02264327],\n",
              "        [-0.01514904, -0.0012085 ,  0.00492017, ..., -0.00632392,\n",
              "         -0.00386728,  0.01801529],\n",
              "        [ 0.02708697,  0.01319426, -0.01855347, ..., -0.02437614,\n",
              "         -0.0261085 ,  0.00268204],\n",
              "        ...,\n",
              "        [ 0.02711298, -0.00789213,  0.0168351 , ..., -0.01868294,\n",
              "          0.0156662 ,  0.02260937],\n",
              "        [ 0.01154238, -0.02312464,  0.00496683, ..., -0.00986941,\n",
              "          0.02314991, -0.02683233],\n",
              "        [ 0.01882628,  0.01907054,  0.01607622, ..., -0.02677952,\n",
              "         -0.0038529 ,  0.00944155]],\n",
              "\n",
              "       [[ 0.02491108,  0.0123135 , -0.01024627, ...,  0.01288523,\n",
              "          0.00379737, -0.01201604],\n",
              "        [ 0.00146881,  0.02639395,  0.01474574, ...,  0.01553424,\n",
              "         -0.02574757, -0.01388783],\n",
              "        [ 0.02420697,  0.00874874,  0.01097068, ...,  0.00087766,\n",
              "         -0.02604192, -0.01612102],\n",
              "        ...,\n",
              "        [ 0.00643202,  0.01238847,  0.02517497, ..., -0.02150469,\n",
              "         -0.00260769,  0.00057859],\n",
              "        [ 0.02644617, -0.01208064,  0.0230983 , ...,  0.01263245,\n",
              "         -0.02585264,  0.00714475],\n",
              "        [-0.00116768, -0.02310823,  0.01095939, ..., -0.01943547,\n",
              "          0.01732021,  0.00672789]]], dtype=float32)"
            ]
          },
          "metadata": {
            "tags": []
          },
          "execution_count": 18
        }
      ]
    },
    {
      "cell_type": "code",
      "metadata": {
        "id": "i2q3RUxl08EW",
        "outputId": "ede4a2e3-283f-4813-ee1c-ee8445c59291"
      },
      "source": [
        "weights_tf_ante[0].shape"
      ],
      "execution_count": null,
      "outputs": [
        {
          "output_type": "execute_result",
          "data": {
            "text/plain": [
              "(7, 64, 100)"
            ]
          },
          "metadata": {
            "tags": []
          },
          "execution_count": 19
        }
      ]
    },
    {
      "cell_type": "code",
      "metadata": {
        "id": "sKVbWazO08EW",
        "outputId": "4cfc00d4-b936-472a-e240-68d255bc7bca"
      },
      "source": [
        "biases_tf_ante"
      ],
      "execution_count": null,
      "outputs": [
        {
          "output_type": "execute_result",
          "data": {
            "text/plain": [
              "array([0., 0., 0., 0., 0., 0., 0., 0., 0., 0., 0., 0., 0., 0., 0., 0., 0.,\n",
              "       0., 0., 0., 0., 0., 0., 0., 0., 0., 0., 0., 0., 0., 0., 0., 0., 0.,\n",
              "       0., 0., 0., 0., 0., 0., 0., 0., 0., 0., 0., 0., 0., 0., 0., 0., 0.,\n",
              "       0., 0., 0., 0., 0., 0., 0., 0., 0., 0., 0., 0., 0.], dtype=float32)"
            ]
          },
          "metadata": {
            "tags": []
          },
          "execution_count": 39
        }
      ]
    },
    {
      "cell_type": "code",
      "metadata": {
        "id": "gtFoWQUE08EX",
        "outputId": "d44b635f-df57-42f8-b30c-0a2378d3c431"
      },
      "source": [
        "biases_tf_ante.shape"
      ],
      "execution_count": null,
      "outputs": [
        {
          "output_type": "execute_result",
          "data": {
            "text/plain": [
              "(64,)"
            ]
          },
          "metadata": {
            "tags": []
          },
          "execution_count": 20
        }
      ]
    },
    {
      "cell_type": "markdown",
      "metadata": {
        "id": "y3VSO3Th08EX"
      },
      "source": [
        "### b.1) Discriminator"
      ]
    },
    {
      "cell_type": "code",
      "metadata": {
        "id": "vKbOs-Jl08EX"
      },
      "source": [
        "def discriminator_model():\n",
        "    model = tf.keras.Sequential()\n",
        "    model.add(keras.layers.Conv2D(input_shape=(28,28,1), filters=2, kernel_size=5, strides=1, padding=\"same\", name=\"Conv2D1\"))\n",
        "    model.add(keras.layers.AveragePooling2D(pool_size=2, strides=2, name=\"Pooling1\"))\n",
        "    model.add(keras.layers.LeakyReLU(name=\"LeakyRelu1\"))\n",
        "    model.add(keras.layers.Dropout(0.3, name=\"Dropout1\"))\n",
        "    \n",
        "    model.add(keras.layers.Conv2D(filters=2, kernel_size=5, strides=1, padding=\"same\", name=\"Conv2D2\"))\n",
        "    model.add(keras.layers.LeakyReLU(name=\"LeakyRelu2\"))\n",
        "    \n",
        "    model.add(keras.layers.Conv2D(filters=1, kernel_size=5, strides=1, name=\"conv2D3\"))\n",
        "    model.add(keras.layers.LeakyReLU(name=\"LeakyRelu3\"))\n",
        "    \n",
        "    model.add(keras.layers.Flatten(name=\"Flatten1\"))\n",
        "    \n",
        "    model.add(keras.layers.Dense(100, kernel_initializer=initializer_nn, name=\"Dense1\"))\n",
        "    model.add(keras.layers.LeakyReLU(name=\"LeakyRelu4\"))\n",
        "    \n",
        "    model.add(keras.layers.Dense(64, kernel_initializer=initializer_nn, name=\"Dense2\"))\n",
        "    model.add(keras.layers.Activation(keras.activations.tanh, name=\"Tanh\"))\n",
        "    \n",
        "    model.add(keras.layers.Dense(1, kernel_initializer=initializer_nn, name=\"Dense3\"))\n",
        "    model.add(keras.layers.Activation(keras.activations.sigmoid, name=\"Sigmoid\"))\n",
        "    return model\n",
        "discriminator = discriminator_model()"
      ],
      "execution_count": null,
      "outputs": []
    },
    {
      "cell_type": "markdown",
      "metadata": {
        "id": "Rwxd4Ete08EY"
      },
      "source": [
        "### b.2) Inspect the discriminator model"
      ]
    },
    {
      "cell_type": "code",
      "metadata": {
        "id": "n6lb0J6h08EY",
        "outputId": "8f02b49d-1a3e-48a1-9983-0530f6f25255"
      },
      "source": [
        "discriminator.summary()"
      ],
      "execution_count": null,
      "outputs": [
        {
          "output_type": "stream",
          "text": [
            "Model: \"sequential_1\"\n",
            "_________________________________________________________________\n",
            "Layer (type)                 Output Shape              Param #   \n",
            "=================================================================\n",
            "Conv2D1 (Conv2D)             (None, 28, 28, 2)         52        \n",
            "_________________________________________________________________\n",
            "Pooling1 (AveragePooling2D)  (None, 14, 14, 2)         0         \n",
            "_________________________________________________________________\n",
            "LeakyRelu1 (LeakyReLU)       (None, 14, 14, 2)         0         \n",
            "_________________________________________________________________\n",
            "Dropout1 (Dropout)           (None, 14, 14, 2)         0         \n",
            "_________________________________________________________________\n",
            "Conv2D2 (Conv2D)             (None, 14, 14, 2)         102       \n",
            "_________________________________________________________________\n",
            "LeakyRelu2 (LeakyReLU)       (None, 14, 14, 2)         0         \n",
            "_________________________________________________________________\n",
            "conv2D3 (Conv2D)             (None, 10, 10, 1)         51        \n",
            "_________________________________________________________________\n",
            "LeakyRelu3 (LeakyReLU)       (None, 10, 10, 1)         0         \n",
            "_________________________________________________________________\n",
            "Flatten1 (Flatten)           (None, 100)               0         \n",
            "_________________________________________________________________\n",
            "Dense1 (Dense)               (None, 100)               10100     \n",
            "_________________________________________________________________\n",
            "LeakyRelu4 (LeakyReLU)       (None, 100)               0         \n",
            "_________________________________________________________________\n",
            "Dense2 (Dense)               (None, 64)                6464      \n",
            "_________________________________________________________________\n",
            "Tanh (Activation)            (None, 64)                0         \n",
            "_________________________________________________________________\n",
            "Dense3 (Dense)               (None, 1)                 65        \n",
            "_________________________________________________________________\n",
            "Sigmoid (Activation)         (None, 1)                 0         \n",
            "=================================================================\n",
            "Total params: 16,834\n",
            "Trainable params: 16,834\n",
            "Non-trainable params: 0\n",
            "_________________________________________________________________\n"
          ],
          "name": "stdout"
        }
      ]
    },
    {
      "cell_type": "markdown",
      "metadata": {
        "id": "AMIbdfSn08EZ"
      },
      "source": [
        "### b.3) Inspect the first convolutional layer"
      ]
    },
    {
      "cell_type": "code",
      "metadata": {
        "id": "43yNJmKR08EZ",
        "outputId": "59609701-e265-4492-f2ad-5ff8d19cba85"
      },
      "source": [
        "hidden2_tf_ante = discriminator.layers[0]\n",
        "weights2_tf_ante, biases2_tf_ante = hidden2_tf_ante.get_weights()\n",
        "weights2_tf_ante[0]"
      ],
      "execution_count": null,
      "outputs": [
        {
          "output_type": "execute_result",
          "data": {
            "text/plain": [
              "array([[[-0.06161587, -0.20356922]],\n",
              "\n",
              "       [[-0.20487273, -0.04940723]],\n",
              "\n",
              "       [[ 0.22900972,  0.07100815]],\n",
              "\n",
              "       [[-0.15138084,  0.11421856]],\n",
              "\n",
              "       [[ 0.25061098, -0.16758902]]], dtype=float32)"
            ]
          },
          "metadata": {
            "tags": []
          },
          "execution_count": 23
        }
      ]
    },
    {
      "cell_type": "code",
      "metadata": {
        "id": "sGtYVoN608EZ",
        "outputId": "60c4df04-de31-4c33-c6f1-ffa99ed38c63"
      },
      "source": [
        "biases2_tf_ante"
      ],
      "execution_count": null,
      "outputs": [
        {
          "output_type": "execute_result",
          "data": {
            "text/plain": [
              "array([0., 0.], dtype=float32)"
            ]
          },
          "metadata": {
            "tags": []
          },
          "execution_count": 24
        }
      ]
    },
    {
      "cell_type": "markdown",
      "metadata": {
        "id": "mOD7qimU08Ea"
      },
      "source": [
        "## 4. Loss & Optimizer"
      ]
    },
    {
      "cell_type": "markdown",
      "metadata": {
        "id": "9gaOeazm08Eb"
      },
      "source": [
        "### 4.a) Generator loss"
      ]
    },
    {
      "cell_type": "code",
      "metadata": {
        "id": "csOFw1lN08Eb"
      },
      "source": [
        "cross_entropy = tf.keras.losses.BinaryCrossentropy(from_logits='activation')\n",
        "def generator_loss(fake_output):\n",
        "    return cross_entropy(tf.ones_like(fake_output), fake_output)"
      ],
      "execution_count": null,
      "outputs": []
    },
    {
      "cell_type": "markdown",
      "metadata": {
        "id": "64yCgpdk08Eb"
      },
      "source": [
        "### 4.b) Discriminator loss"
      ]
    },
    {
      "cell_type": "code",
      "metadata": {
        "id": "ysMQ5I-w08Eb"
      },
      "source": [
        "def discriminator_loss(real_output, fake_output):\n",
        "    real_loss = cross_entropy(tf.ones_like(real_output), real_output)\n",
        "    fake_loss = cross_entropy(tf.zeros_like(fake_output), fake_output)\n",
        "    total_loss = real_loss + fake_loss\n",
        "    return total_loss"
      ],
      "execution_count": null,
      "outputs": []
    },
    {
      "cell_type": "markdown",
      "metadata": {
        "id": "TzeYUdNv08Ec"
      },
      "source": [
        "## 4.c) Optimizers"
      ]
    },
    {
      "cell_type": "code",
      "metadata": {
        "id": "pxBEXFa208Ec"
      },
      "source": [
        "generator_optimizer = tf.keras.optimizers.Adam(1e-3)\n",
        "discriminator_optimizer = tf.keras.optimizers.Adam(1e-3)\n",
        "\n",
        "train_accuracy = tf.keras.metrics.BinaryAccuracy(name='train_accuracy') # only for discriminator"
      ],
      "execution_count": null,
      "outputs": []
    },
    {
      "cell_type": "markdown",
      "metadata": {
        "id": "36GcMCx808Ec"
      },
      "source": [
        "## 5. Training"
      ]
    },
    {
      "cell_type": "code",
      "metadata": {
        "id": "AklBYLJ_08Ec"
      },
      "source": [
        "# for saving the model\n",
        "import os\n",
        "checkpoint_dir = './training_checkpoints'\n",
        "checkpoint_prefix = os.path.join(checkpoint_dir, \"ckpt\")\n",
        "checkpoint = tf.train.Checkpoint(generator_optimizer=generator_optimizer,\n",
        "                                 discriminator_optimizer=discriminator_optimizer,\n",
        "                                 generator=generator,\n",
        "                                 discriminator=discriminator)"
      ],
      "execution_count": null,
      "outputs": []
    },
    {
      "cell_type": "code",
      "metadata": {
        "id": "_E-e_So108Ed"
      },
      "source": [
        "# This annotation causes the function to be \"compiled\".\n",
        "#@tf.function\n",
        "def train_step_tf(generator, discriminator, generator_optimizer, discriminator_optimizer, batch_size = 100):\n",
        "    gen_losses = []\n",
        "    disc_losses = []\n",
        "    for beg_i in range(0, x_train_tf.shape[0], batch_size):\n",
        "        x_train_batch_tf = x_train_tf[beg_i:beg_i + batch_size]\n",
        "\n",
        "        x_fake_batch_tf = tf.random.normal([batch_size, 1, 1, 100], 0, 1, tf.float32)\n",
        "\n",
        "        with tf.GradientTape() as gen_tape, tf.GradientTape() as disc_tape:\n",
        "\n",
        "            generated_images = generator( x_fake_batch_tf, training=True)\n",
        "            real_output = discriminator(x_train_batch_tf, training=True)\n",
        "            fake_output = discriminator(generated_images, training=True)\n",
        "\n",
        "            gen_loss = generator_loss(fake_output)\n",
        "            disc_loss = discriminator_loss(real_output, fake_output)\n",
        "\n",
        "        gradients_of_generator = gen_tape.gradient(gen_loss, generator.trainable_variables)\n",
        "        gradients_of_discriminator = disc_tape.gradient(disc_loss, discriminator.trainable_variables)\n",
        "\n",
        "        generator_optimizer.apply_gradients(zip(gradients_of_generator, generator.trainable_variables))\n",
        "        discriminator_optimizer.apply_gradients(zip(gradients_of_discriminator, discriminator.trainable_variables))\n",
        "        \n",
        "        gen_losses.append(gen_loss)\n",
        "        disc_losses.append(disc_loss)\n",
        "        \n",
        "        train_accuracy.update_state(tf.ones_like(real_output), real_output)\n",
        "        train_accuracy.update_state(tf.zeros_like(fake_output), fake_output)\n",
        "    return gen_losses, disc_losses"
      ],
      "execution_count": null,
      "outputs": []
    },
    {
      "cell_type": "code",
      "metadata": {
        "scrolled": false,
        "id": "1u9bWcEM08Ed",
        "outputId": "a7948172-d6c2-4d5c-8ac9-b6bf854b0e53"
      },
      "source": [
        "train_losses_generator_tf = []\n",
        "train_losses_discriminator_tf = []\n",
        "train_acc_discriminator_tf = []\n",
        "epochs = 15\n",
        "start = time.time()\n",
        "for epoch in range(epochs):\n",
        "    gen_loss, disc_loss = train_step_tf(generator, discriminator, generator_optimizer, discriminator_optimizer)\n",
        "    train_loss_generator_tf = float(tf.reduce_mean(gen_loss))\n",
        "    train_loss_discriminator_tf = float(tf.reduce_mean(disc_loss))\n",
        "    train_losses_generator_tf.append(train_loss_generator_tf)\n",
        "    train_losses_discriminator_tf.append(train_loss_discriminator_tf)\n",
        "\n",
        "    template = (\"Epoch {}, Loss_Generator: {}, Loss_Discriminator: {}, Discriminator_Accuracy: {}\")\n",
        "    print(template.format(epoch+1, train_loss_generator_tf, train_loss_discriminator_tf, train_accuracy.result()*100))\n",
        "\n",
        "    train_accuracy.reset_states()\n",
        "end = time.time()\n",
        "print(f\"Total training time{start-end}\")"
      ],
      "execution_count": null,
      "outputs": [
        {
          "output_type": "stream",
          "text": [
            "Epoch 1, Loss_Generator: 1.3507462739944458, Loss_Discriminator: 1.461517095565796, Discriminator_Accuracy: 70.56417083740234\n",
            "Epoch 2, Loss_Generator: 1.4563881158828735, Loss_Discriminator: 0.946139931678772, Discriminator_Accuracy: 77.63249969482422\n",
            "Epoch 3, Loss_Generator: 1.3261306285858154, Loss_Discriminator: 1.0207077264785767, Discriminator_Accuracy: 74.81500244140625\n",
            "Epoch 4, Loss_Generator: 1.7236814498901367, Loss_Discriminator: 0.8842008709907532, Discriminator_Accuracy: 79.79500579833984\n",
            "Epoch 5, Loss_Generator: 1.2228353023529053, Loss_Discriminator: 1.0480560064315796, Discriminator_Accuracy: 74.12083435058594\n",
            "Epoch 6, Loss_Generator: 1.2281293869018555, Loss_Discriminator: 1.042143702507019, Discriminator_Accuracy: 74.15249633789062\n",
            "Epoch 7, Loss_Generator: 1.1982595920562744, Loss_Discriminator: 1.0808658599853516, Discriminator_Accuracy: 72.55999755859375\n",
            "Epoch 8, Loss_Generator: 1.152327299118042, Loss_Discriminator: 1.119730830192566, Discriminator_Accuracy: 71.08749389648438\n",
            "Epoch 9, Loss_Generator: 1.1817070245742798, Loss_Discriminator: 1.1027510166168213, Discriminator_Accuracy: 72.03416442871094\n",
            "Epoch 10, Loss_Generator: 1.2157047986984253, Loss_Discriminator: 1.1175553798675537, Discriminator_Accuracy: 72.09749603271484\n",
            "Epoch 11, Loss_Generator: 1.218414306640625, Loss_Discriminator: 1.100944995880127, Discriminator_Accuracy: 72.52667236328125\n",
            "Epoch 12, Loss_Generator: 1.1189746856689453, Loss_Discriminator: 1.1876068115234375, Discriminator_Accuracy: 68.02166748046875\n",
            "Epoch 13, Loss_Generator: 1.030266523361206, Loss_Discriminator: 1.184654951095581, Discriminator_Accuracy: 68.02583312988281\n",
            "Epoch 14, Loss_Generator: 1.0261250734329224, Loss_Discriminator: 1.1920344829559326, Discriminator_Accuracy: 68.23583221435547\n",
            "Epoch 15, Loss_Generator: 0.9747366309165955, Loss_Discriminator: 1.2275789976119995, Discriminator_Accuracy: 66.2441635131836\n"
          ],
          "name": "stdout"
        }
      ]
    },
    {
      "cell_type": "markdown",
      "metadata": {
        "id": "EC7R0vYU08Ee"
      },
      "source": [
        "### b) Training progress"
      ]
    },
    {
      "cell_type": "code",
      "metadata": {
        "id": "sZGyw6Q508Ee",
        "outputId": "d7d0020b-0e25-4344-e775-931032059d52"
      },
      "source": [
        "plt.figure(figsize=(12,8))\n",
        "plt.plot(train_acc_discriminator_tf)\n",
        "plt.title('discriminator accuracy')\n",
        "plt.ylabel('accuracy')\n",
        "plt.xlabel('epoch')\n",
        "plt.legend(['discriminator_train'], loc='upper right')\n",
        "plt.show()"
      ],
      "execution_count": null,
      "outputs": [
        {
          "output_type": "display_data",
          "data": {
            "image/png": "[encoded data removed]",
            "text/plain": [
              "<Figure size 864x576 with 1 Axes>"
            ]
          },
          "metadata": {
            "tags": [],
            "needs_background": "light"
          }
        }
      ]
    },
    {
      "cell_type": "code",
      "metadata": {
        "id": "LKDOIkXr08Ef",
        "outputId": "afd56806-242c-4e62-9d6f-410c7c8f89b7"
      },
      "source": [
        "plt.figure(figsize=(12,8))\n",
        "plt.plot(train_losses_generator_tf)\n",
        "plt.plot(train_losses_discriminator_tf)\n",
        "plt.title('model loss')\n",
        "plt.ylabel('loss')\n",
        "plt.xlabel('epoch')\n",
        "plt.legend(['generator', 'discriminator'], loc='upper right')\n",
        "plt.show()"
      ],
      "execution_count": null,
      "outputs": [
        {
          "output_type": "display_data",
          "data": {
            "image/png": "[encoded data removed]",
            "text/plain": [
              "<Figure size 864x576 with 1 Axes>"
            ]
          },
          "metadata": {
            "tags": [],
            "needs_background": "light"
          }
        }
      ]
    },
    {
      "cell_type": "code",
      "metadata": {
        "scrolled": true,
        "id": "Bn-mqVig08Ef",
        "outputId": "b73ee5ae-57bb-45a5-8ced-edf3bcb96e4d"
      },
      "source": [
        "print(train_losses_generator_tf)\n",
        "print(train_losses_discriminator_tf)"
      ],
      "execution_count": null,
      "outputs": [
        {
          "output_type": "stream",
          "text": [
            "[1.3507462739944458, 1.4563881158828735, 1.3261306285858154, 1.7236814498901367, 1.2228353023529053, 1.2281293869018555, 1.1982595920562744, 1.152327299118042, 1.1817070245742798, 1.2157047986984253, 1.218414306640625, 1.1189746856689453, 1.030266523361206, 1.0261250734329224, 0.9747366309165955]\n",
            "[1.461517095565796, 0.946139931678772, 1.0207077264785767, 0.8842008709907532, 1.0480560064315796, 1.042143702507019, 1.0808658599853516, 1.119730830192566, 1.1027510166168213, 1.1175553798675537, 1.100944995880127, 1.1876068115234375, 1.184654951095581, 1.1920344829559326, 1.2275789976119995]\n"
          ],
          "name": "stdout"
        }
      ]
    },
    {
      "cell_type": "markdown",
      "metadata": {
        "id": "AdK-aJG708Eg"
      },
      "source": [
        "### c1) Generator output before training"
      ]
    },
    {
      "cell_type": "code",
      "metadata": {
        "id": "7es9wgMR08Eg",
        "outputId": "d1b627c9-7a03-467f-fabe-d5cf5087b4fb"
      },
      "source": [
        "fake_im_not_trained = fake_im_not_trained.numpy() * 255\n",
        "fake_im_not_trained = fake_im_not_trained.reshape((28,28))\n",
        "plt.figure()\n",
        "plt.imshow(fake_im_not_trained, cmap='gray')\n",
        "plt.colorbar()\n",
        "plt.grid(False)\n",
        "plt.show()"
      ],
      "execution_count": null,
      "outputs": [
        {
          "output_type": "display_data",
          "data": {
            "image/png": "[encoded data removed]",
            "text/plain": [
              "<Figure size 432x288 with 2 Axes>"
            ]
          },
          "metadata": {
            "tags": [],
            "needs_background": "light"
          }
        }
      ]
    },
    {
      "cell_type": "markdown",
      "metadata": {
        "id": "kd6RVvyt08Eh"
      },
      "source": [
        "### c2) Generator output after training"
      ]
    },
    {
      "cell_type": "code",
      "metadata": {
        "scrolled": true,
        "id": "pV1YlKbU08Eh",
        "outputId": "d6c0e242-da65-4407-abfe-aea7b14a2d42"
      },
      "source": [
        "seed2 = tf.random.uniform([1, 1, 1, 100], 0, 1, tf.float32)\n",
        "fake_im = generator(seed2, training=False)\n",
        "fake_im = fake_im.numpy() * 255\n",
        "fake_im = fake_im.reshape((28,28))\n",
        "plt.figure()\n",
        "plt.imshow(fake_im, cmap='gray')\n",
        "plt.colorbar()\n",
        "plt.grid(False)\n",
        "plt.show()"
      ],
      "execution_count": null,
      "outputs": [
        {
          "output_type": "display_data",
          "data": {
            "image/png": "[encoded data removed]",
            "text/plain": [
              "<Figure size 432x288 with 2 Axes>"
            ]
          },
          "metadata": {
            "tags": [],
            "needs_background": "light"
          }
        }
      ]
    },
    {
      "cell_type": "code",
      "metadata": {
        "id": "MK9A2_C_08Eh"
      },
      "source": [
        ""
      ],
      "execution_count": null,
      "outputs": []
    }
  ]
}