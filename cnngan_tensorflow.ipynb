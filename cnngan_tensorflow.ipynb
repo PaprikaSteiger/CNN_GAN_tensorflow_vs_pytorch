{
 "cells": [
  {
   "cell_type": "markdown",
   "metadata": {
    "colab_type": "text",
    "id": "view-in-github"
   },
   "source": [
    "<a href=\"https://colab.research.google.com/github/PaprikaSteiger/CNN_GAN_tensorflow_vs_pytorch/blob/master/cnngan_tensorflow.ipynb\" target=\"_parent\"><img src=\"https://colab.research.google.com/assets/colab-badge.svg\" alt=\"Open In Colab\"/></a>"
   ]
  },
  {
   "cell_type": "markdown",
   "metadata": {
    "id": "dVn4V5Th08EA"
   },
   "source": [
    "# Implementing a CNNGAN with tensorflow"
   ]
  },
  {
   "cell_type": "markdown",
   "metadata": {
    "id": "gjklIser08EI"
   },
   "source": [
    "## 1. Import and Preprocessing\n",
    "### a) Importing modules"
   ]
  },
  {
   "cell_type": "code",
   "execution_count": 15,
   "metadata": {
    "id": "TW_S35qz08EJ"
   },
   "outputs": [],
   "source": [
    "# Load required packages - data handling & plotting\n",
    "import pandas as pd\n",
    "import numpy as np\n",
    "import matplotlib.pyplot as plt\n",
    "import time\n",
    "\n",
    "# Load required packages - deep learning \n",
    "import tensorflow as tf\n",
    "from tensorflow import keras"
   ]
  },
  {
   "cell_type": "code",
   "execution_count": 16,
   "metadata": {
    "colab": {
     "base_uri": "https://localhost:8080/"
    },
    "id": "beaGqrO_08EK",
    "outputId": "8aaadc52-298c-4fe1-dcb9-a6f082f5c2dc"
   },
   "outputs": [
    {
     "name": "stdout",
     "output_type": "stream",
     "text": [
      "tensorflow: 2.4.1\n",
      "python: 3.7.5\n"
     ]
    }
   ],
   "source": [
    "print(f\"tensorflow: {tf.__version__}\")\n",
    "import sys\n",
    "print(f\"python: {sys.version[:5]}\")"
   ]
  },
  {
   "cell_type": "markdown",
   "metadata": {
    "id": "tFAdwWGW08EL"
   },
   "source": [
    "### b) Importing the data"
   ]
  },
  {
   "cell_type": "code",
   "execution_count": 17,
   "metadata": {
    "id": "f3iE76FP08EL"
   },
   "outputs": [],
   "source": [
    "# I exceeded my git LFS bandwidth limit for this month, thus the file cannot be loaded from git\n",
    "#train_data = pd.read_csv('https://media.githubusercontent.com/media/PaprikaSteiger/CNN_GAN_tensorflow_vs_pytorch/master/fashion-mnist_train.csv')\n",
    "\n",
    "# load directly from keras and transform to pandas\n",
    "import tensorflow as tf\n",
    "(x_train, y_train), (x_test, y_test) = tf.keras.datasets.fashion_mnist.load_data()\n",
    "y_train = y_train.reshape((-1,1))\n",
    "x_train = x_train.reshape((-1, 28*28))\n",
    "x_train = np.concatenate([y_train, x_train], axis=1)\n",
    "labels = [\"label\"] + [f\"pixel{i}\" for i in range(1,785)]\n",
    "train_data = pd.DataFrame(x_train,columns=labels, index=list(range(60000)))\n",
    "del x_train\n",
    "del y_train\n",
    "del x_test\n",
    "del y_test\n",
    "\n",
    "# or load from other git repo from mmeirer\n",
    "#train_data = pd.read_csv('https://media.githubusercontent.com/media/mmeierer/CNN---TensorFlow-vs-PyTorch/main/fashion-mnist_train.csv')"
   ]
  },
  {
   "cell_type": "code",
   "execution_count": 18,
   "metadata": {
    "id": "2I9TNMoN08EM"
   },
   "outputs": [],
   "source": [
    "#train_data = pd.read_csv('https://media.githubusercontent.com/media/PaprikaSteiger/CNN_GAN_tensorflow_vs_pytorch/master/fashion-mnist_train.csv')\n",
    "train_data = pd.read_csv('fashion-mnist_train.csv')"
   ]
  },
  {
   "cell_type": "code",
   "execution_count": 19,
   "metadata": {
    "colab": {
     "base_uri": "https://localhost:8080/",
     "height": 253
    },
    "id": "-Ap43CSl08EM",
    "outputId": "5d0f22d9-ca33-4ac5-95c8-06b28afbcfbe",
    "scrolled": true
   },
   "outputs": [
    {
     "data": {
      "text/html": [
       "<div>\n",
       "<style scoped>\n",
       "    .dataframe tbody tr th:only-of-type {\n",
       "        vertical-align: middle;\n",
       "    }\n",
       "\n",
       "    .dataframe tbody tr th {\n",
       "        vertical-align: top;\n",
       "    }\n",
       "\n",
       "    .dataframe thead th {\n",
       "        text-align: right;\n",
       "    }\n",
       "</style>\n",
       "<table border=\"1\" class=\"dataframe\">\n",
       "  <thead>\n",
       "    <tr style=\"text-align: right;\">\n",
       "      <th></th>\n",
       "      <th>label</th>\n",
       "      <th>pixel1</th>\n",
       "      <th>pixel2</th>\n",
       "      <th>pixel3</th>\n",
       "      <th>pixel4</th>\n",
       "      <th>pixel5</th>\n",
       "      <th>pixel6</th>\n",
       "      <th>pixel7</th>\n",
       "      <th>pixel8</th>\n",
       "      <th>pixel9</th>\n",
       "      <th>...</th>\n",
       "      <th>pixel775</th>\n",
       "      <th>pixel776</th>\n",
       "      <th>pixel777</th>\n",
       "      <th>pixel778</th>\n",
       "      <th>pixel779</th>\n",
       "      <th>pixel780</th>\n",
       "      <th>pixel781</th>\n",
       "      <th>pixel782</th>\n",
       "      <th>pixel783</th>\n",
       "      <th>pixel784</th>\n",
       "    </tr>\n",
       "  </thead>\n",
       "  <tbody>\n",
       "    <tr>\n",
       "      <th>0</th>\n",
       "      <td>2</td>\n",
       "      <td>0</td>\n",
       "      <td>0</td>\n",
       "      <td>0</td>\n",
       "      <td>0</td>\n",
       "      <td>0</td>\n",
       "      <td>0</td>\n",
       "      <td>0</td>\n",
       "      <td>0</td>\n",
       "      <td>0</td>\n",
       "      <td>...</td>\n",
       "      <td>0</td>\n",
       "      <td>0</td>\n",
       "      <td>0</td>\n",
       "      <td>0</td>\n",
       "      <td>0</td>\n",
       "      <td>0</td>\n",
       "      <td>0</td>\n",
       "      <td>0</td>\n",
       "      <td>0</td>\n",
       "      <td>0</td>\n",
       "    </tr>\n",
       "    <tr>\n",
       "      <th>1</th>\n",
       "      <td>9</td>\n",
       "      <td>0</td>\n",
       "      <td>0</td>\n",
       "      <td>0</td>\n",
       "      <td>0</td>\n",
       "      <td>0</td>\n",
       "      <td>0</td>\n",
       "      <td>0</td>\n",
       "      <td>0</td>\n",
       "      <td>0</td>\n",
       "      <td>...</td>\n",
       "      <td>0</td>\n",
       "      <td>0</td>\n",
       "      <td>0</td>\n",
       "      <td>0</td>\n",
       "      <td>0</td>\n",
       "      <td>0</td>\n",
       "      <td>0</td>\n",
       "      <td>0</td>\n",
       "      <td>0</td>\n",
       "      <td>0</td>\n",
       "    </tr>\n",
       "    <tr>\n",
       "      <th>2</th>\n",
       "      <td>6</td>\n",
       "      <td>0</td>\n",
       "      <td>0</td>\n",
       "      <td>0</td>\n",
       "      <td>0</td>\n",
       "      <td>0</td>\n",
       "      <td>0</td>\n",
       "      <td>0</td>\n",
       "      <td>5</td>\n",
       "      <td>0</td>\n",
       "      <td>...</td>\n",
       "      <td>0</td>\n",
       "      <td>0</td>\n",
       "      <td>0</td>\n",
       "      <td>30</td>\n",
       "      <td>43</td>\n",
       "      <td>0</td>\n",
       "      <td>0</td>\n",
       "      <td>0</td>\n",
       "      <td>0</td>\n",
       "      <td>0</td>\n",
       "    </tr>\n",
       "    <tr>\n",
       "      <th>3</th>\n",
       "      <td>0</td>\n",
       "      <td>0</td>\n",
       "      <td>0</td>\n",
       "      <td>0</td>\n",
       "      <td>1</td>\n",
       "      <td>2</td>\n",
       "      <td>0</td>\n",
       "      <td>0</td>\n",
       "      <td>0</td>\n",
       "      <td>0</td>\n",
       "      <td>...</td>\n",
       "      <td>3</td>\n",
       "      <td>0</td>\n",
       "      <td>0</td>\n",
       "      <td>0</td>\n",
       "      <td>0</td>\n",
       "      <td>1</td>\n",
       "      <td>0</td>\n",
       "      <td>0</td>\n",
       "      <td>0</td>\n",
       "      <td>0</td>\n",
       "    </tr>\n",
       "    <tr>\n",
       "      <th>4</th>\n",
       "      <td>3</td>\n",
       "      <td>0</td>\n",
       "      <td>0</td>\n",
       "      <td>0</td>\n",
       "      <td>0</td>\n",
       "      <td>0</td>\n",
       "      <td>0</td>\n",
       "      <td>0</td>\n",
       "      <td>0</td>\n",
       "      <td>0</td>\n",
       "      <td>...</td>\n",
       "      <td>0</td>\n",
       "      <td>0</td>\n",
       "      <td>0</td>\n",
       "      <td>0</td>\n",
       "      <td>0</td>\n",
       "      <td>0</td>\n",
       "      <td>0</td>\n",
       "      <td>0</td>\n",
       "      <td>0</td>\n",
       "      <td>0</td>\n",
       "    </tr>\n",
       "  </tbody>\n",
       "</table>\n",
       "<p>5 rows × 785 columns</p>\n",
       "</div>"
      ],
      "text/plain": [
       "   label  pixel1  pixel2  pixel3  pixel4  pixel5  pixel6  pixel7  pixel8  \\\n",
       "0      2       0       0       0       0       0       0       0       0   \n",
       "1      9       0       0       0       0       0       0       0       0   \n",
       "2      6       0       0       0       0       0       0       0       5   \n",
       "3      0       0       0       0       1       2       0       0       0   \n",
       "4      3       0       0       0       0       0       0       0       0   \n",
       "\n",
       "   pixel9  ...  pixel775  pixel776  pixel777  pixel778  pixel779  pixel780  \\\n",
       "0       0  ...         0         0         0         0         0         0   \n",
       "1       0  ...         0         0         0         0         0         0   \n",
       "2       0  ...         0         0         0        30        43         0   \n",
       "3       0  ...         3         0         0         0         0         1   \n",
       "4       0  ...         0         0         0         0         0         0   \n",
       "\n",
       "   pixel781  pixel782  pixel783  pixel784  \n",
       "0         0         0         0         0  \n",
       "1         0         0         0         0  \n",
       "2         0         0         0         0  \n",
       "3         0         0         0         0  \n",
       "4         0         0         0         0  \n",
       "\n",
       "[5 rows x 785 columns]"
      ]
     },
     "execution_count": 19,
     "metadata": {},
     "output_type": "execute_result"
    }
   ],
   "source": [
    "train_data.head()"
   ]
  },
  {
   "cell_type": "code",
   "execution_count": 20,
   "metadata": {
    "id": "5KNtIlIw08EN"
   },
   "outputs": [],
   "source": [
    "train_images = train_data.iloc[:,1:]"
   ]
  },
  {
   "cell_type": "code",
   "execution_count": 21,
   "metadata": {
    "colab": {
     "base_uri": "https://localhost:8080/",
     "height": 265
    },
    "id": "LWQUkTRs08EO",
    "outputId": "e660a9bd-7e4e-4282-f158-cb854d52b7a7"
   },
   "outputs": [
    {
     "data": {
      "image/png": "[encoded data removed]",
      "text/plain": [
       "<Figure size 432x288 with 2 Axes>"
      ]
     },
     "metadata": {
      "needs_background": "light"
     },
     "output_type": "display_data"
    }
   ],
   "source": [
    "plt.figure()\n",
    "plt.imshow(train_images.values[0].reshape(28,28), cmap='gray')\n",
    "plt.colorbar()\n",
    "plt.grid(False)\n",
    "plt.show()"
   ]
  },
  {
   "cell_type": "markdown",
   "metadata": {
    "id": "66Fjydps08EP"
   },
   "source": [
    "### c) Data preparation"
   ]
  },
  {
   "cell_type": "code",
   "execution_count": 22,
   "metadata": {
    "id": "CmUTCQY108EP"
   },
   "outputs": [],
   "source": [
    "# use maximum normalization\n",
    "train_images = train_images / np.float32(255)"
   ]
  },
  {
   "cell_type": "code",
   "execution_count": 23,
   "metadata": {
    "colab": {
     "base_uri": "https://localhost:8080/",
     "height": 253
    },
    "id": "OjoHiD2108EP",
    "outputId": "a0d73689-03e7-4bd4-e805-bd7dcc4b5111"
   },
   "outputs": [
    {
     "data": {
      "text/html": [
       "<div>\n",
       "<style scoped>\n",
       "    .dataframe tbody tr th:only-of-type {\n",
       "        vertical-align: middle;\n",
       "    }\n",
       "\n",
       "    .dataframe tbody tr th {\n",
       "        vertical-align: top;\n",
       "    }\n",
       "\n",
       "    .dataframe thead th {\n",
       "        text-align: right;\n",
       "    }\n",
       "</style>\n",
       "<table border=\"1\" class=\"dataframe\">\n",
       "  <thead>\n",
       "    <tr style=\"text-align: right;\">\n",
       "      <th></th>\n",
       "      <th>pixel1</th>\n",
       "      <th>pixel2</th>\n",
       "      <th>pixel3</th>\n",
       "      <th>pixel4</th>\n",
       "      <th>pixel5</th>\n",
       "      <th>pixel6</th>\n",
       "      <th>pixel7</th>\n",
       "      <th>pixel8</th>\n",
       "      <th>pixel9</th>\n",
       "      <th>pixel10</th>\n",
       "      <th>...</th>\n",
       "      <th>pixel775</th>\n",
       "      <th>pixel776</th>\n",
       "      <th>pixel777</th>\n",
       "      <th>pixel778</th>\n",
       "      <th>pixel779</th>\n",
       "      <th>pixel780</th>\n",
       "      <th>pixel781</th>\n",
       "      <th>pixel782</th>\n",
       "      <th>pixel783</th>\n",
       "      <th>pixel784</th>\n",
       "    </tr>\n",
       "  </thead>\n",
       "  <tbody>\n",
       "    <tr>\n",
       "      <th>0</th>\n",
       "      <td>0.0</td>\n",
       "      <td>0.0</td>\n",
       "      <td>0.0</td>\n",
       "      <td>0.000000</td>\n",
       "      <td>0.000000</td>\n",
       "      <td>0.0</td>\n",
       "      <td>0.0</td>\n",
       "      <td>0.000000</td>\n",
       "      <td>0.0</td>\n",
       "      <td>0.0</td>\n",
       "      <td>...</td>\n",
       "      <td>0.000000</td>\n",
       "      <td>0.0</td>\n",
       "      <td>0.0</td>\n",
       "      <td>0.000000</td>\n",
       "      <td>0.000000</td>\n",
       "      <td>0.000000</td>\n",
       "      <td>0.0</td>\n",
       "      <td>0.0</td>\n",
       "      <td>0.0</td>\n",
       "      <td>0.0</td>\n",
       "    </tr>\n",
       "    <tr>\n",
       "      <th>1</th>\n",
       "      <td>0.0</td>\n",
       "      <td>0.0</td>\n",
       "      <td>0.0</td>\n",
       "      <td>0.000000</td>\n",
       "      <td>0.000000</td>\n",
       "      <td>0.0</td>\n",
       "      <td>0.0</td>\n",
       "      <td>0.000000</td>\n",
       "      <td>0.0</td>\n",
       "      <td>0.0</td>\n",
       "      <td>...</td>\n",
       "      <td>0.000000</td>\n",
       "      <td>0.0</td>\n",
       "      <td>0.0</td>\n",
       "      <td>0.000000</td>\n",
       "      <td>0.000000</td>\n",
       "      <td>0.000000</td>\n",
       "      <td>0.0</td>\n",
       "      <td>0.0</td>\n",
       "      <td>0.0</td>\n",
       "      <td>0.0</td>\n",
       "    </tr>\n",
       "    <tr>\n",
       "      <th>2</th>\n",
       "      <td>0.0</td>\n",
       "      <td>0.0</td>\n",
       "      <td>0.0</td>\n",
       "      <td>0.000000</td>\n",
       "      <td>0.000000</td>\n",
       "      <td>0.0</td>\n",
       "      <td>0.0</td>\n",
       "      <td>0.019608</td>\n",
       "      <td>0.0</td>\n",
       "      <td>0.0</td>\n",
       "      <td>...</td>\n",
       "      <td>0.000000</td>\n",
       "      <td>0.0</td>\n",
       "      <td>0.0</td>\n",
       "      <td>0.117647</td>\n",
       "      <td>0.168627</td>\n",
       "      <td>0.000000</td>\n",
       "      <td>0.0</td>\n",
       "      <td>0.0</td>\n",
       "      <td>0.0</td>\n",
       "      <td>0.0</td>\n",
       "    </tr>\n",
       "    <tr>\n",
       "      <th>3</th>\n",
       "      <td>0.0</td>\n",
       "      <td>0.0</td>\n",
       "      <td>0.0</td>\n",
       "      <td>0.003922</td>\n",
       "      <td>0.007843</td>\n",
       "      <td>0.0</td>\n",
       "      <td>0.0</td>\n",
       "      <td>0.000000</td>\n",
       "      <td>0.0</td>\n",
       "      <td>0.0</td>\n",
       "      <td>...</td>\n",
       "      <td>0.011765</td>\n",
       "      <td>0.0</td>\n",
       "      <td>0.0</td>\n",
       "      <td>0.000000</td>\n",
       "      <td>0.000000</td>\n",
       "      <td>0.003922</td>\n",
       "      <td>0.0</td>\n",
       "      <td>0.0</td>\n",
       "      <td>0.0</td>\n",
       "      <td>0.0</td>\n",
       "    </tr>\n",
       "    <tr>\n",
       "      <th>4</th>\n",
       "      <td>0.0</td>\n",
       "      <td>0.0</td>\n",
       "      <td>0.0</td>\n",
       "      <td>0.000000</td>\n",
       "      <td>0.000000</td>\n",
       "      <td>0.0</td>\n",
       "      <td>0.0</td>\n",
       "      <td>0.000000</td>\n",
       "      <td>0.0</td>\n",
       "      <td>0.0</td>\n",
       "      <td>...</td>\n",
       "      <td>0.000000</td>\n",
       "      <td>0.0</td>\n",
       "      <td>0.0</td>\n",
       "      <td>0.000000</td>\n",
       "      <td>0.000000</td>\n",
       "      <td>0.000000</td>\n",
       "      <td>0.0</td>\n",
       "      <td>0.0</td>\n",
       "      <td>0.0</td>\n",
       "      <td>0.0</td>\n",
       "    </tr>\n",
       "  </tbody>\n",
       "</table>\n",
       "<p>5 rows × 784 columns</p>\n",
       "</div>"
      ],
      "text/plain": [
       "   pixel1  pixel2  pixel3    pixel4    pixel5  pixel6  pixel7    pixel8  \\\n",
       "0     0.0     0.0     0.0  0.000000  0.000000     0.0     0.0  0.000000   \n",
       "1     0.0     0.0     0.0  0.000000  0.000000     0.0     0.0  0.000000   \n",
       "2     0.0     0.0     0.0  0.000000  0.000000     0.0     0.0  0.019608   \n",
       "3     0.0     0.0     0.0  0.003922  0.007843     0.0     0.0  0.000000   \n",
       "4     0.0     0.0     0.0  0.000000  0.000000     0.0     0.0  0.000000   \n",
       "\n",
       "   pixel9  pixel10  ...  pixel775  pixel776  pixel777  pixel778  pixel779  \\\n",
       "0     0.0      0.0  ...  0.000000       0.0       0.0  0.000000  0.000000   \n",
       "1     0.0      0.0  ...  0.000000       0.0       0.0  0.000000  0.000000   \n",
       "2     0.0      0.0  ...  0.000000       0.0       0.0  0.117647  0.168627   \n",
       "3     0.0      0.0  ...  0.011765       0.0       0.0  0.000000  0.000000   \n",
       "4     0.0      0.0  ...  0.000000       0.0       0.0  0.000000  0.000000   \n",
       "\n",
       "   pixel780  pixel781  pixel782  pixel783  pixel784  \n",
       "0  0.000000       0.0       0.0       0.0       0.0  \n",
       "1  0.000000       0.0       0.0       0.0       0.0  \n",
       "2  0.000000       0.0       0.0       0.0       0.0  \n",
       "3  0.003922       0.0       0.0       0.0       0.0  \n",
       "4  0.000000       0.0       0.0       0.0       0.0  \n",
       "\n",
       "[5 rows x 784 columns]"
      ]
     },
     "execution_count": 23,
     "metadata": {},
     "output_type": "execute_result"
    }
   ],
   "source": [
    "train_images.head()"
   ]
  },
  {
   "cell_type": "markdown",
   "metadata": {
    "id": "KhN_PtQy08EQ"
   },
   "source": [
    "\n",
    "## 2. Model specific data preparation (tensorflow)\n",
    "## a) Load the data"
   ]
  },
  {
   "cell_type": "code",
   "execution_count": null,
   "metadata": {
    "id": "Y8aME-e308EQ"
   },
   "outputs": [],
   "source": [
    "x_train_tf = tf.convert_to_tensor(train_images.values.reshape((-1, 28, 28, 1)))"
   ]
  },
  {
   "cell_type": "code",
   "execution_count": 25,
   "metadata": {
    "colab": {
     "base_uri": "https://localhost:8080/",
     "height": 265
    },
    "id": "_mW_cI2U08ER",
    "outputId": "02dcce4e-37bf-4c46-cfb1-cec9b04c0aac"
   },
   "outputs": [
    {
     "data": {
      "image/png": "[encoded data removed]",
      "text/plain": [
       "<Figure size 432x288 with 2 Axes>"
      ]
     },
     "metadata": {
      "needs_background": "light"
     },
     "output_type": "display_data"
    }
   ],
   "source": [
    "# use random seed to create fake input data\n",
    "seed = tf.normal([28,28])\n",
    "seed_im = seed.numpy() * 255\n",
    "plt.figure()\n",
    "plt.imshow(seed_im, cmap='gray')\n",
    "plt.colorbar()\n",
    "plt.grid(False)\n",
    "plt.show()"
   ]
  },
  {
   "cell_type": "markdown",
   "metadata": {
    "id": "nhZkXM5808ER"
   },
   "source": [
    "### b) Tensor view of the data"
   ]
  },
  {
   "cell_type": "code",
   "execution_count": null,
   "metadata": {
    "colab": {
     "base_uri": "https://localhost:8080/"
    },
    "id": "mrsVbeoH08ER",
    "outputId": "3893b89b-8c7b-4ec9-9c81-a797ba435c75"
   },
   "outputs": [
    {
     "data": {
      "text/plain": [
       "TensorShape([60000, 28, 28, 1])"
      ]
     },
     "execution_count": 12,
     "metadata": {
      "tags": []
     },
     "output_type": "execute_result"
    }
   ],
   "source": [
    "x_train_tf.shape"
   ]
  },
  {
   "cell_type": "code",
   "execution_count": null,
   "metadata": {
    "colab": {
     "base_uri": "https://localhost:8080/"
    },
    "id": "o5qhF5O608ES",
    "outputId": "956c03c2-62fc-407c-83e3-a64e3305e8b5"
   },
   "outputs": [
    {
     "data": {
      "text/plain": [
       "TensorShape([28, 28])"
      ]
     },
     "execution_count": 13,
     "metadata": {
      "tags": []
     },
     "output_type": "execute_result"
    }
   ],
   "source": [
    "seed.shape"
   ]
  },
  {
   "cell_type": "code",
   "execution_count": null,
   "metadata": {
    "colab": {
     "base_uri": "https://localhost:8080/"
    },
    "id": "16VSHG8D08ES",
    "outputId": "8a5d8496-b645-44f8-8beb-8e1ec585e936"
   },
   "outputs": [
    {
     "data": {
      "text/plain": [
       "<tf.Tensor: shape=(28, 1), dtype=float64, numpy=\n",
       "array([[0.        ],\n",
       "       [0.        ],\n",
       "       [0.        ],\n",
       "       [0.        ],\n",
       "       [0.        ],\n",
       "       [0.18431373],\n",
       "       [0.98823529],\n",
       "       [0.91764706],\n",
       "       [0.93333333],\n",
       "       [0.87843137],\n",
       "       [0.84313725],\n",
       "       [0.84313725],\n",
       "       [0.89803922],\n",
       "       [0.42352941],\n",
       "       [0.70588235],\n",
       "       [0.81176471],\n",
       "       [0.83921569],\n",
       "       [0.87843137],\n",
       "       [0.90588235],\n",
       "       [0.97647059],\n",
       "       [0.99607843],\n",
       "       [0.17647059],\n",
       "       [0.        ],\n",
       "       [0.        ],\n",
       "       [0.        ],\n",
       "       [0.        ],\n",
       "       [0.        ],\n",
       "       [0.        ]])>"
      ]
     },
     "execution_count": 14,
     "metadata": {
      "tags": []
     },
     "output_type": "execute_result"
    }
   ],
   "source": [
    "x_train_tf[0][5]"
   ]
  },
  {
   "cell_type": "markdown",
   "metadata": {
    "id": "hsBm_3fk08ET"
   },
   "source": [
    "## 3. Model definition"
   ]
  },
  {
   "cell_type": "markdown",
   "metadata": {
    "id": "smxDxyDs08ET"
   },
   "source": [
    "### a.1) Generator"
   ]
  },
  {
   "cell_type": "code",
   "execution_count": 43,
   "metadata": {
    "id": "r0oL5-4c08ET"
   },
   "outputs": [],
   "source": [
    "# for weight initialization\n",
    "initializer_nn = tf.random_uniform_initializer(minval=-1, maxval=1)\n",
    "def generator_model():   \n",
    "    model = tf.keras.Sequential()\n",
    "    model.add(keras.layers.Conv2DTranspose(64, (7,7), input_shape=(1, 1, 100), strides=1, padding='valid', use_bias=True, name=\"Conv2D1\", kernel_initializer=initializer_nn))\n",
    "    model.add(keras.layers.BatchNormalization(name=\"Batchnorm1\"))\n",
    "    model.add(keras.layers.LeakyReLU(name=\"LeakyRelu1\"))\n",
    "    assert model.output_shape == (None, 7, 7, 64)\n",
    "\n",
    "    model.add(keras.layers.Conv2DTranspose(32, (8, 8), strides=(1, 1), padding='valid', use_bias=True, name=\"Conv2D2\", kernel_initializer=initializer_nn))\n",
    "    assert model.output_shape == (None, 14, 14, 32)\n",
    "    model.add(keras.layers.BatchNormalization(name=\"Batchnorm2\"))\n",
    "    model.add(keras.layers.LeakyReLU(name=\"LeakyRelu2\"))\n",
    "\n",
    "    model.add(keras.layers.Conv2DTranspose(1, (15, 15), strides=(1, 1), padding='valid', use_bias=True, name=\"Conv2D3\", kernel_initializer=initializer_nn))\n",
    "    model.add(keras.layers.Activation(keras.activations.sigmoid, name=\"Sigmoid1\"))\n",
    "    assert model.output_shape == (None, 28, 28, 1)\n",
    "\n",
    "    return model\n",
    "generator = generator_model()"
   ]
  },
  {
   "cell_type": "code",
   "execution_count": 44,
   "metadata": {
    "colab": {
     "base_uri": "https://localhost:8080/"
    },
    "id": "b8l3mz4608EU",
    "outputId": "ee4bf4ca-3987-41cb-8127-85306ea18b4f"
   },
   "outputs": [
    {
     "data": {
      "text/plain": [
       "<tf.Tensor: shape=(1, 28, 28, 1), dtype=float32, numpy=\n",
       "array([[[[0.49973708],\n",
       "         [0.49998683],\n",
       "         [0.49913436],\n",
       "         [0.49980712],\n",
       "         [0.50242436],\n",
       "         [0.4989933 ],\n",
       "         [0.50032866],\n",
       "         [0.5002948 ],\n",
       "         [0.5011443 ],\n",
       "         [0.5017188 ],\n",
       "         [0.5010704 ],\n",
       "         [0.5002682 ],\n",
       "         [0.4983843 ],\n",
       "         [0.49942237],\n",
       "         [0.5028662 ],\n",
       "         [0.50206447],\n",
       "         [0.4961802 ],\n",
       "         [0.4951402 ],\n",
       "         [0.49629587],\n",
       "         [0.4992972 ],\n",
       "         [0.50276095],\n",
       "         [0.500821  ],\n",
       "         [0.5009706 ],\n",
       "         [0.5007101 ],\n",
       "         [0.50042003],\n",
       "         [0.5002084 ],\n",
       "         [0.4996618 ],\n",
       "         [0.50041324]],\n",
       "\n",
       "        [[0.49912855],\n",
       "         [0.49947482],\n",
       "         [0.49875355],\n",
       "         [0.50138855],\n",
       "         [0.5029889 ],\n",
       "         [0.5053343 ],\n",
       "         [0.50015044],\n",
       "         [0.4995296 ],\n",
       "         [0.49976608],\n",
       "         [0.49940553],\n",
       "         [0.49964246],\n",
       "         [0.50617796],\n",
       "         [0.5004501 ],\n",
       "         [0.49965975],\n",
       "         [0.498015  ],\n",
       "         [0.4978896 ],\n",
       "         [0.5016605 ],\n",
       "         [0.5084263 ],\n",
       "         [0.5062702 ],\n",
       "         [0.5017812 ],\n",
       "         [0.49590275],\n",
       "         [0.5000623 ],\n",
       "         [0.5021752 ],\n",
       "         [0.5022648 ],\n",
       "         [0.5022287 ],\n",
       "         [0.4993006 ],\n",
       "         [0.50178814],\n",
       "         [0.49958843]],\n",
       "\n",
       "        [[0.50029546],\n",
       "         [0.50041604],\n",
       "         [0.49962443],\n",
       "         [0.5017749 ],\n",
       "         [0.5014603 ],\n",
       "         [0.5006548 ],\n",
       "         [0.49969432],\n",
       "         [0.500532  ],\n",
       "         [0.50174415],\n",
       "         [0.49809656],\n",
       "         [0.49991173],\n",
       "         [0.5062531 ],\n",
       "         [0.49881974],\n",
       "         [0.4989889 ],\n",
       "         [0.49697843],\n",
       "         [0.50172216],\n",
       "         [0.4955519 ],\n",
       "         [0.49448276],\n",
       "         [0.49434093],\n",
       "         [0.5054838 ],\n",
       "         [0.50804573],\n",
       "         [0.4980822 ],\n",
       "         [0.5056355 ],\n",
       "         [0.49781424],\n",
       "         [0.49835828],\n",
       "         [0.500724  ],\n",
       "         [0.50302285],\n",
       "         [0.5007172 ]],\n",
       "\n",
       "        [[0.5004106 ],\n",
       "         [0.49898446],\n",
       "         [0.5017884 ],\n",
       "         [0.4993418 ],\n",
       "         [0.49686858],\n",
       "         [0.5031817 ],\n",
       "         [0.5003089 ],\n",
       "         [0.5038357 ],\n",
       "         [0.49719697],\n",
       "         [0.50367707],\n",
       "         [0.49876204],\n",
       "         [0.50046206],\n",
       "         [0.5117488 ],\n",
       "         [0.5150049 ],\n",
       "         [0.49468914],\n",
       "         [0.4886344 ],\n",
       "         [0.50293964],\n",
       "         [0.49960753],\n",
       "         [0.4996813 ],\n",
       "         [0.49684238],\n",
       "         [0.49310243],\n",
       "         [0.5025401 ],\n",
       "         [0.4984161 ],\n",
       "         [0.5019523 ],\n",
       "         [0.50015867],\n",
       "         [0.49872237],\n",
       "         [0.49863294],\n",
       "         [0.4991534 ]],\n",
       "\n",
       "        [[0.49845424],\n",
       "         [0.49703765],\n",
       "         [0.4994404 ],\n",
       "         [0.49798402],\n",
       "         [0.5027011 ],\n",
       "         [0.50486577],\n",
       "         [0.50302255],\n",
       "         [0.4905305 ],\n",
       "         [0.50924104],\n",
       "         [0.5080309 ],\n",
       "         [0.49951637],\n",
       "         [0.5045045 ],\n",
       "         [0.5150469 ],\n",
       "         [0.49512497],\n",
       "         [0.49236447],\n",
       "         [0.5105783 ],\n",
       "         [0.49334377],\n",
       "         [0.496963  ],\n",
       "         [0.49944177],\n",
       "         [0.49240953],\n",
       "         [0.5142132 ],\n",
       "         [0.5032239 ],\n",
       "         [0.5013668 ],\n",
       "         [0.5071846 ],\n",
       "         [0.5053068 ],\n",
       "         [0.5021005 ],\n",
       "         [0.50310034],\n",
       "         [0.5012933 ]],\n",
       "\n",
       "        [[0.5002328 ],\n",
       "         [0.49718386],\n",
       "         [0.49909002],\n",
       "         [0.5051749 ],\n",
       "         [0.5004443 ],\n",
       "         [0.5056235 ],\n",
       "         [0.4986166 ],\n",
       "         [0.503192  ],\n",
       "         [0.5061689 ],\n",
       "         [0.5026568 ],\n",
       "         [0.5038588 ],\n",
       "         [0.48288697],\n",
       "         [0.4853765 ],\n",
       "         [0.50328726],\n",
       "         [0.5030944 ],\n",
       "         [0.49062082],\n",
       "         [0.5000799 ],\n",
       "         [0.4990848 ],\n",
       "         [0.4792495 ],\n",
       "         [0.5114607 ],\n",
       "         [0.50181925],\n",
       "         [0.50230825],\n",
       "         [0.5056628 ],\n",
       "         [0.49670085],\n",
       "         [0.50470966],\n",
       "         [0.501194  ],\n",
       "         [0.49952027],\n",
       "         [0.50087583]],\n",
       "\n",
       "        [[0.50040096],\n",
       "         [0.50025624],\n",
       "         [0.4960546 ],\n",
       "         [0.5012984 ],\n",
       "         [0.501914  ],\n",
       "         [0.51684433],\n",
       "         [0.50217724],\n",
       "         [0.5128307 ],\n",
       "         [0.4950821 ],\n",
       "         [0.5113242 ],\n",
       "         [0.51401263],\n",
       "         [0.5009738 ],\n",
       "         [0.51215464],\n",
       "         [0.49631315],\n",
       "         [0.51264936],\n",
       "         [0.5202415 ],\n",
       "         [0.51048803],\n",
       "         [0.49235097],\n",
       "         [0.49982107],\n",
       "         [0.48376563],\n",
       "         [0.51306474],\n",
       "         [0.5047379 ],\n",
       "         [0.4987927 ],\n",
       "         [0.50565195],\n",
       "         [0.49662998],\n",
       "         [0.5023657 ],\n",
       "         [0.50030035],\n",
       "         [0.49906057]],\n",
       "\n",
       "        [[0.49998716],\n",
       "         [0.5010869 ],\n",
       "         [0.50301975],\n",
       "         [0.5067815 ],\n",
       "         [0.5018953 ],\n",
       "         [0.50079644],\n",
       "         [0.4987155 ],\n",
       "         [0.50166184],\n",
       "         [0.4963765 ],\n",
       "         [0.4860476 ],\n",
       "         [0.48020834],\n",
       "         [0.51849663],\n",
       "         [0.49169245],\n",
       "         [0.49795184],\n",
       "         [0.4746767 ],\n",
       "         [0.5024296 ],\n",
       "         [0.4799558 ],\n",
       "         [0.49972573],\n",
       "         [0.50137454],\n",
       "         [0.49045962],\n",
       "         [0.5096811 ],\n",
       "         [0.49507   ],\n",
       "         [0.50151396],\n",
       "         [0.5024623 ],\n",
       "         [0.4962744 ],\n",
       "         [0.49674985],\n",
       "         [0.5067001 ],\n",
       "         [0.5033041 ]],\n",
       "\n",
       "        [[0.50030386],\n",
       "         [0.49931714],\n",
       "         [0.5025018 ],\n",
       "         [0.49926624],\n",
       "         [0.5079171 ],\n",
       "         [0.5142679 ],\n",
       "         [0.5097333 ],\n",
       "         [0.522532  ],\n",
       "         [0.4926923 ],\n",
       "         [0.49848562],\n",
       "         [0.50171345],\n",
       "         [0.50189364],\n",
       "         [0.49794024],\n",
       "         [0.4878006 ],\n",
       "         [0.5024479 ],\n",
       "         [0.49503833],\n",
       "         [0.5108488 ],\n",
       "         [0.50867724],\n",
       "         [0.48823535],\n",
       "         [0.5074001 ],\n",
       "         [0.4958319 ],\n",
       "         [0.5002712 ],\n",
       "         [0.5125344 ],\n",
       "         [0.48384145],\n",
       "         [0.4941222 ],\n",
       "         [0.4992475 ],\n",
       "         [0.4963725 ],\n",
       "         [0.5025159 ]],\n",
       "\n",
       "        [[0.49599823],\n",
       "         [0.49998096],\n",
       "         [0.502247  ],\n",
       "         [0.500357  ],\n",
       "         [0.49499255],\n",
       "         [0.48815078],\n",
       "         [0.50974816],\n",
       "         [0.4984863 ],\n",
       "         [0.4938521 ],\n",
       "         [0.5208666 ],\n",
       "         [0.4952182 ],\n",
       "         [0.4938261 ],\n",
       "         [0.5249605 ],\n",
       "         [0.48222572],\n",
       "         [0.5042193 ],\n",
       "         [0.49874222],\n",
       "         [0.49892074],\n",
       "         [0.5110771 ],\n",
       "         [0.4896722 ],\n",
       "         [0.499567  ],\n",
       "         [0.51483315],\n",
       "         [0.5078374 ],\n",
       "         [0.49302173],\n",
       "         [0.4944304 ],\n",
       "         [0.5006882 ],\n",
       "         [0.49743426],\n",
       "         [0.500627  ],\n",
       "         [0.50029653]],\n",
       "\n",
       "        [[0.50304717],\n",
       "         [0.4957728 ],\n",
       "         [0.5051026 ],\n",
       "         [0.50605947],\n",
       "         [0.4952317 ],\n",
       "         [0.50141793],\n",
       "         [0.5082539 ],\n",
       "         [0.49073374],\n",
       "         [0.48507679],\n",
       "         [0.50796276],\n",
       "         [0.5048165 ],\n",
       "         [0.4987434 ],\n",
       "         [0.49944082],\n",
       "         [0.5049163 ],\n",
       "         [0.5059906 ],\n",
       "         [0.5116163 ],\n",
       "         [0.4890088 ],\n",
       "         [0.48736048],\n",
       "         [0.5082981 ],\n",
       "         [0.5252479 ],\n",
       "         [0.518602  ],\n",
       "         [0.496823  ],\n",
       "         [0.49842507],\n",
       "         [0.50140935],\n",
       "         [0.49573007],\n",
       "         [0.49447754],\n",
       "         [0.49498475],\n",
       "         [0.5028583 ]],\n",
       "\n",
       "        [[0.4981408 ],\n",
       "         [0.494091  ],\n",
       "         [0.500946  ],\n",
       "         [0.5006537 ],\n",
       "         [0.4924494 ],\n",
       "         [0.5110301 ],\n",
       "         [0.5082692 ],\n",
       "         [0.5143422 ],\n",
       "         [0.49918756],\n",
       "         [0.4811297 ],\n",
       "         [0.5127666 ],\n",
       "         [0.5035202 ],\n",
       "         [0.5049937 ],\n",
       "         [0.5124467 ],\n",
       "         [0.5038609 ],\n",
       "         [0.5124535 ],\n",
       "         [0.48646873],\n",
       "         [0.5086501 ],\n",
       "         [0.5152179 ],\n",
       "         [0.4957223 ],\n",
       "         [0.50927806],\n",
       "         [0.50252366],\n",
       "         [0.49918348],\n",
       "         [0.4940284 ],\n",
       "         [0.49533233],\n",
       "         [0.4963179 ],\n",
       "         [0.5013975 ],\n",
       "         [0.49783084]],\n",
       "\n",
       "        [[0.5008375 ],\n",
       "         [0.5037501 ],\n",
       "         [0.4997747 ],\n",
       "         [0.5078874 ],\n",
       "         [0.5069775 ],\n",
       "         [0.4952438 ],\n",
       "         [0.52142113],\n",
       "         [0.49505207],\n",
       "         [0.48990804],\n",
       "         [0.4902155 ],\n",
       "         [0.49740028],\n",
       "         [0.49915013],\n",
       "         [0.5204212 ],\n",
       "         [0.4988808 ],\n",
       "         [0.5222233 ],\n",
       "         [0.51662284],\n",
       "         [0.52149874],\n",
       "         [0.5218922 ],\n",
       "         [0.47994143],\n",
       "         [0.53317994],\n",
       "         [0.50268376],\n",
       "         [0.52225715],\n",
       "         [0.5079259 ],\n",
       "         [0.5012305 ],\n",
       "         [0.50136936],\n",
       "         [0.50049156],\n",
       "         [0.49622193],\n",
       "         [0.49731737]],\n",
       "\n",
       "        [[0.50077355],\n",
       "         [0.49624565],\n",
       "         [0.5061878 ],\n",
       "         [0.51045394],\n",
       "         [0.50564635],\n",
       "         [0.4989914 ],\n",
       "         [0.4986672 ],\n",
       "         [0.4871608 ],\n",
       "         [0.525688  ],\n",
       "         [0.4881864 ],\n",
       "         [0.47694847],\n",
       "         [0.51699436],\n",
       "         [0.47089636],\n",
       "         [0.5340618 ],\n",
       "         [0.5209581 ],\n",
       "         [0.48900276],\n",
       "         [0.49413478],\n",
       "         [0.5079984 ],\n",
       "         [0.49415517],\n",
       "         [0.5110844 ],\n",
       "         [0.49338046],\n",
       "         [0.50608224],\n",
       "         [0.5068229 ],\n",
       "         [0.5048109 ],\n",
       "         [0.50429505],\n",
       "         [0.4983182 ],\n",
       "         [0.49731597],\n",
       "         [0.49908897]],\n",
       "\n",
       "        [[0.49790007],\n",
       "         [0.5070568 ],\n",
       "         [0.50109905],\n",
       "         [0.5023964 ],\n",
       "         [0.48642582],\n",
       "         [0.49878716],\n",
       "         [0.50603634],\n",
       "         [0.4875177 ],\n",
       "         [0.4981505 ],\n",
       "         [0.5027389 ],\n",
       "         [0.51167834],\n",
       "         [0.51440024],\n",
       "         [0.51387227],\n",
       "         [0.5072253 ],\n",
       "         [0.50380063],\n",
       "         [0.51621604],\n",
       "         [0.5005681 ],\n",
       "         [0.5111792 ],\n",
       "         [0.5091859 ],\n",
       "         [0.52436095],\n",
       "         [0.52214587],\n",
       "         [0.52168345],\n",
       "         [0.51640606],\n",
       "         [0.5191707 ],\n",
       "         [0.498716  ],\n",
       "         [0.5030316 ],\n",
       "         [0.5038694 ],\n",
       "         [0.4977057 ]],\n",
       "\n",
       "        [[0.5008659 ],\n",
       "         [0.4975312 ],\n",
       "         [0.5051772 ],\n",
       "         [0.50694984],\n",
       "         [0.49932015],\n",
       "         [0.49647   ],\n",
       "         [0.4965647 ],\n",
       "         [0.49187732],\n",
       "         [0.51844984],\n",
       "         [0.48884293],\n",
       "         [0.49338633],\n",
       "         [0.49937975],\n",
       "         [0.5005315 ],\n",
       "         [0.5036985 ],\n",
       "         [0.50712115],\n",
       "         [0.5190548 ],\n",
       "         [0.5055164 ],\n",
       "         [0.47003016],\n",
       "         [0.4969045 ],\n",
       "         [0.4967929 ],\n",
       "         [0.51460147],\n",
       "         [0.49487382],\n",
       "         [0.5134971 ],\n",
       "         [0.5116387 ],\n",
       "         [0.5007521 ],\n",
       "         [0.4968227 ],\n",
       "         [0.49327967],\n",
       "         [0.49823204]],\n",
       "\n",
       "        [[0.4991366 ],\n",
       "         [0.5013565 ],\n",
       "         [0.49750757],\n",
       "         [0.50716734],\n",
       "         [0.50262135],\n",
       "         [0.50196004],\n",
       "         [0.48564017],\n",
       "         [0.5110769 ],\n",
       "         [0.48536113],\n",
       "         [0.49520028],\n",
       "         [0.49511924],\n",
       "         [0.5395467 ],\n",
       "         [0.50443655],\n",
       "         [0.5223023 ],\n",
       "         [0.50069904],\n",
       "         [0.4819205 ],\n",
       "         [0.49052545],\n",
       "         [0.49008158],\n",
       "         [0.49975306],\n",
       "         [0.5016017 ],\n",
       "         [0.5128987 ],\n",
       "         [0.5040107 ],\n",
       "         [0.5082708 ],\n",
       "         [0.4962635 ],\n",
       "         [0.5017116 ],\n",
       "         [0.5000369 ],\n",
       "         [0.49719226],\n",
       "         [0.49931377]],\n",
       "\n",
       "        [[0.49531132],\n",
       "         [0.49802512],\n",
       "         [0.5014707 ],\n",
       "         [0.49791196],\n",
       "         [0.49741778],\n",
       "         [0.5016446 ],\n",
       "         [0.510564  ],\n",
       "         [0.53229153],\n",
       "         [0.53714496],\n",
       "         [0.50784063],\n",
       "         [0.50535405],\n",
       "         [0.5042335 ],\n",
       "         [0.5217283 ],\n",
       "         [0.5223529 ],\n",
       "         [0.4953459 ],\n",
       "         [0.5023459 ],\n",
       "         [0.52294403],\n",
       "         [0.50409496],\n",
       "         [0.50822544],\n",
       "         [0.5019395 ],\n",
       "         [0.49875388],\n",
       "         [0.495702  ],\n",
       "         [0.49555287],\n",
       "         [0.50539756],\n",
       "         [0.4902613 ],\n",
       "         [0.5078984 ],\n",
       "         [0.50398237],\n",
       "         [0.50519156]],\n",
       "\n",
       "        [[0.49773094],\n",
       "         [0.49712458],\n",
       "         [0.5045375 ],\n",
       "         [0.51173574],\n",
       "         [0.5080929 ],\n",
       "         [0.49560198],\n",
       "         [0.49633121],\n",
       "         [0.51442075],\n",
       "         [0.4930338 ],\n",
       "         [0.48746562],\n",
       "         [0.51443654],\n",
       "         [0.51888084],\n",
       "         [0.501784  ],\n",
       "         [0.5146269 ],\n",
       "         [0.49413738],\n",
       "         [0.48481274],\n",
       "         [0.49423346],\n",
       "         [0.5066995 ],\n",
       "         [0.49219358],\n",
       "         [0.49844468],\n",
       "         [0.47933134],\n",
       "         [0.49423108],\n",
       "         [0.48887974],\n",
       "         [0.49797305],\n",
       "         [0.5005734 ],\n",
       "         [0.50141245],\n",
       "         [0.497701  ],\n",
       "         [0.49986753]],\n",
       "\n",
       "        [[0.5025042 ],\n",
       "         [0.50168175],\n",
       "         [0.50332534],\n",
       "         [0.4959399 ],\n",
       "         [0.51249754],\n",
       "         [0.51296586],\n",
       "         [0.5042521 ],\n",
       "         [0.48581445],\n",
       "         [0.50395113],\n",
       "         [0.49206874],\n",
       "         [0.4987212 ],\n",
       "         [0.5054637 ],\n",
       "         [0.4985188 ],\n",
       "         [0.49049538],\n",
       "         [0.49909273],\n",
       "         [0.49385437],\n",
       "         [0.4882337 ],\n",
       "         [0.5043596 ],\n",
       "         [0.521232  ],\n",
       "         [0.5127915 ],\n",
       "         [0.49394765],\n",
       "         [0.510689  ],\n",
       "         [0.5055372 ],\n",
       "         [0.50102836],\n",
       "         [0.5069117 ],\n",
       "         [0.50253797],\n",
       "         [0.49423978],\n",
       "         [0.50126386]],\n",
       "\n",
       "        [[0.502015  ],\n",
       "         [0.50137454],\n",
       "         [0.50381154],\n",
       "         [0.51246357],\n",
       "         [0.49844652],\n",
       "         [0.5053505 ],\n",
       "         [0.4997248 ],\n",
       "         [0.50511414],\n",
       "         [0.49261937],\n",
       "         [0.5002094 ],\n",
       "         [0.5176933 ],\n",
       "         [0.5053128 ],\n",
       "         [0.5086125 ],\n",
       "         [0.49427232],\n",
       "         [0.516003  ],\n",
       "         [0.50257015],\n",
       "         [0.48553723],\n",
       "         [0.5122185 ],\n",
       "         [0.504155  ],\n",
       "         [0.50477445],\n",
       "         [0.49983466],\n",
       "         [0.49778032],\n",
       "         [0.49998558],\n",
       "         [0.49795017],\n",
       "         [0.50493443],\n",
       "         [0.5033043 ],\n",
       "         [0.49643028],\n",
       "         [0.50149983]],\n",
       "\n",
       "        [[0.4986226 ],\n",
       "         [0.49944973],\n",
       "         [0.49978065],\n",
       "         [0.4989978 ],\n",
       "         [0.49665436],\n",
       "         [0.50333774],\n",
       "         [0.5203707 ],\n",
       "         [0.5121359 ],\n",
       "         [0.49792528],\n",
       "         [0.49480644],\n",
       "         [0.50959927],\n",
       "         [0.4817687 ],\n",
       "         [0.49761283],\n",
       "         [0.5135441 ],\n",
       "         [0.504792  ],\n",
       "         [0.50442904],\n",
       "         [0.5074747 ],\n",
       "         [0.4996736 ],\n",
       "         [0.5027948 ],\n",
       "         [0.5170896 ],\n",
       "         [0.49598113],\n",
       "         [0.51608354],\n",
       "         [0.51662093],\n",
       "         [0.5068114 ],\n",
       "         [0.50130916],\n",
       "         [0.5000754 ],\n",
       "         [0.5019591 ],\n",
       "         [0.50240606]],\n",
       "\n",
       "        [[0.50035   ],\n",
       "         [0.49778128],\n",
       "         [0.49929821],\n",
       "         [0.5046076 ],\n",
       "         [0.49649906],\n",
       "         [0.4947651 ],\n",
       "         [0.5066698 ],\n",
       "         [0.49402174],\n",
       "         [0.49550396],\n",
       "         [0.50539255],\n",
       "         [0.51975715],\n",
       "         [0.5019767 ],\n",
       "         [0.5150577 ],\n",
       "         [0.4993353 ],\n",
       "         [0.49731785],\n",
       "         [0.50867826],\n",
       "         [0.5007316 ],\n",
       "         [0.5172284 ],\n",
       "         [0.5000159 ],\n",
       "         [0.50211626],\n",
       "         [0.5025097 ],\n",
       "         [0.50914156],\n",
       "         [0.5016711 ],\n",
       "         [0.50242734],\n",
       "         [0.49760357],\n",
       "         [0.5015103 ],\n",
       "         [0.5038    ],\n",
       "         [0.5033572 ]],\n",
       "\n",
       "        [[0.5007685 ],\n",
       "         [0.5002056 ],\n",
       "         [0.49861827],\n",
       "         [0.5010379 ],\n",
       "         [0.49474874],\n",
       "         [0.50874627],\n",
       "         [0.49683762],\n",
       "         [0.49783337],\n",
       "         [0.5039562 ],\n",
       "         [0.49538526],\n",
       "         [0.49695218],\n",
       "         [0.4935695 ],\n",
       "         [0.52117664],\n",
       "         [0.49638546],\n",
       "         [0.51570094],\n",
       "         [0.4843049 ],\n",
       "         [0.5083597 ],\n",
       "         [0.49503198],\n",
       "         [0.5054557 ],\n",
       "         [0.5043308 ],\n",
       "         [0.4983323 ],\n",
       "         [0.504444  ],\n",
       "         [0.5093819 ],\n",
       "         [0.49943626],\n",
       "         [0.49501956],\n",
       "         [0.49941355],\n",
       "         [0.49982747],\n",
       "         [0.49962506]],\n",
       "\n",
       "        [[0.50104904],\n",
       "         [0.50265723],\n",
       "         [0.5020269 ],\n",
       "         [0.50537145],\n",
       "         [0.50270605],\n",
       "         [0.49620757],\n",
       "         [0.5009863 ],\n",
       "         [0.5026052 ],\n",
       "         [0.5017148 ],\n",
       "         [0.4983026 ],\n",
       "         [0.4965397 ],\n",
       "         [0.5048982 ],\n",
       "         [0.50327164],\n",
       "         [0.50539815],\n",
       "         [0.5017721 ],\n",
       "         [0.50080675],\n",
       "         [0.5078705 ],\n",
       "         [0.5057457 ],\n",
       "         [0.50962406],\n",
       "         [0.49773782],\n",
       "         [0.50984323],\n",
       "         [0.49823186],\n",
       "         [0.50095737],\n",
       "         [0.50163364],\n",
       "         [0.49845788],\n",
       "         [0.50054306],\n",
       "         [0.49777004],\n",
       "         [0.50149506]],\n",
       "\n",
       "        [[0.5006808 ],\n",
       "         [0.49988505],\n",
       "         [0.50205237],\n",
       "         [0.5022189 ],\n",
       "         [0.502005  ],\n",
       "         [0.49580947],\n",
       "         [0.50526446],\n",
       "         [0.49636433],\n",
       "         [0.49148872],\n",
       "         [0.5004987 ],\n",
       "         [0.4847917 ],\n",
       "         [0.5021891 ],\n",
       "         [0.50079817],\n",
       "         [0.50072414],\n",
       "         [0.49447003],\n",
       "         [0.5097596 ],\n",
       "         [0.5008878 ],\n",
       "         [0.50170606],\n",
       "         [0.50850135],\n",
       "         [0.5034902 ],\n",
       "         [0.5026781 ],\n",
       "         [0.49871042],\n",
       "         [0.49999985],\n",
       "         [0.49624944],\n",
       "         [0.5001312 ],\n",
       "         [0.4999941 ],\n",
       "         [0.49832755],\n",
       "         [0.5013915 ]],\n",
       "\n",
       "        [[0.5005666 ],\n",
       "         [0.5007378 ],\n",
       "         [0.4987411 ],\n",
       "         [0.50140893],\n",
       "         [0.50064564],\n",
       "         [0.4988285 ],\n",
       "         [0.49858242],\n",
       "         [0.5008579 ],\n",
       "         [0.5013355 ],\n",
       "         [0.49194992],\n",
       "         [0.5049664 ],\n",
       "         [0.49788514],\n",
       "         [0.50177157],\n",
       "         [0.49935833],\n",
       "         [0.4981466 ],\n",
       "         [0.5007689 ],\n",
       "         [0.5062583 ],\n",
       "         [0.5068416 ],\n",
       "         [0.50614905],\n",
       "         [0.5077412 ],\n",
       "         [0.50258005],\n",
       "         [0.49978405],\n",
       "         [0.5005151 ],\n",
       "         [0.50097543],\n",
       "         [0.5025812 ],\n",
       "         [0.49879134],\n",
       "         [0.5004639 ],\n",
       "         [0.50097394]],\n",
       "\n",
       "        [[0.50004095],\n",
       "         [0.5003592 ],\n",
       "         [0.50071996],\n",
       "         [0.5013358 ],\n",
       "         [0.5013191 ],\n",
       "         [0.49871585],\n",
       "         [0.49947408],\n",
       "         [0.50129163],\n",
       "         [0.5013623 ],\n",
       "         [0.5033204 ],\n",
       "         [0.5033915 ],\n",
       "         [0.5029001 ],\n",
       "         [0.49944502],\n",
       "         [0.49859074],\n",
       "         [0.50104445],\n",
       "         [0.5034771 ],\n",
       "         [0.50464284],\n",
       "         [0.50454813],\n",
       "         [0.50142014],\n",
       "         [0.5021106 ],\n",
       "         [0.5007933 ],\n",
       "         [0.5009135 ],\n",
       "         [0.50291073],\n",
       "         [0.5013432 ],\n",
       "         [0.498994  ],\n",
       "         [0.50015   ],\n",
       "         [0.50076   ],\n",
       "         [0.5008949 ]]]], dtype=float32)>"
      ]
     },
     "execution_count": 44,
     "metadata": {},
     "output_type": "execute_result"
    }
   ],
   "source": [
    "# generated image not trained\n",
    "fake_im_not_trained = generator(tf.random.normal([1, 1, 1, 100], 0, 1, tf.float32))\n",
    "fake_im_not_trained.shape\n",
    "fake_im_not_trained"
   ]
  },
  {
   "cell_type": "markdown",
   "metadata": {
    "id": "SEN0m5oH08EV"
   },
   "source": [
    "###  a.2) Inspect the generator model"
   ]
  },
  {
   "cell_type": "code",
   "execution_count": null,
   "metadata": {
    "colab": {
     "base_uri": "https://localhost:8080/"
    },
    "id": "Jcl5DfBm08EV",
    "outputId": "3d57761c-811f-4b1f-af06-a4ce45924434"
   },
   "outputs": [
    {
     "name": "stdout",
     "output_type": "stream",
     "text": [
      "Model: \"sequential\"\n",
      "_________________________________________________________________\n",
      "Layer (type)                 Output Shape              Param #   \n",
      "=================================================================\n",
      "Conv2D1 (Conv2DTranspose)    (None, 7, 7, 64)          313664    \n",
      "_________________________________________________________________\n",
      "Batchnorm1 (BatchNormalizati (None, 7, 7, 64)          256       \n",
      "_________________________________________________________________\n",
      "LeakyRelu1 (LeakyReLU)       (None, 7, 7, 64)          0         \n",
      "_________________________________________________________________\n",
      "Conv2D2 (Conv2DTranspose)    (None, 14, 14, 32)        131104    \n",
      "_________________________________________________________________\n",
      "Batchnorm2 (BatchNormalizati (None, 14, 14, 32)        128       \n",
      "_________________________________________________________________\n",
      "LeakyRelu2 (LeakyReLU)       (None, 14, 14, 32)        0         \n",
      "_________________________________________________________________\n",
      "Conv2D3 (Conv2DTranspose)    (None, 28, 28, 1)         7201      \n",
      "_________________________________________________________________\n",
      "Sigmoid1 (Activation)        (None, 28, 28, 1)         0         \n",
      "=================================================================\n",
      "Total params: 452,353\n",
      "Trainable params: 452,161\n",
      "Non-trainable params: 192\n",
      "_________________________________________________________________\n"
     ]
    }
   ],
   "source": [
    "generator.summary()"
   ]
  },
  {
   "cell_type": "markdown",
   "metadata": {
    "id": "sfL33kgx08EV"
   },
   "source": [
    "### a.3) Inspect the first convolutional layer"
   ]
  },
  {
   "cell_type": "code",
   "execution_count": null,
   "metadata": {
    "colab": {
     "base_uri": "https://localhost:8080/"
    },
    "id": "5fARY_Jx08EW",
    "outputId": "a6dda4be-5b02-4474-a4ac-10c54c82343e"
   },
   "outputs": [
    {
     "data": {
      "text/plain": [
       "array([[[ 0.0173876 , -0.02043855, -0.02066218, ..., -0.02246947,\n",
       "         -0.00334133, -0.00624186],\n",
       "        [ 0.00810838,  0.00586664,  0.0029527 , ..., -0.00388384,\n",
       "         -0.02084648, -0.02317367],\n",
       "        [ 0.01895813, -0.0022928 , -0.0212953 , ...,  0.01562337,\n",
       "         -0.00092321,  0.00064427],\n",
       "        ...,\n",
       "        [ 0.0213043 ,  0.02095998, -0.00796342, ...,  0.02422584,\n",
       "         -0.0140758 , -0.02728692],\n",
       "        [-0.01809756,  0.00203167,  0.02255601, ...,  0.02328022,\n",
       "          0.00403075,  0.02197188],\n",
       "        [-0.0236758 ,  0.01639209, -0.01030311, ...,  0.02408501,\n",
       "          0.00868948,  0.00412838]],\n",
       "\n",
       "       [[-0.00489156,  0.00126653, -0.00843907, ...,  0.02224468,\n",
       "         -0.00493367,  0.01057127],\n",
       "        [ 0.02291007, -0.01827112,  0.02290448, ..., -0.02090258,\n",
       "          0.00618937,  0.02003996],\n",
       "        [ 0.02268661,  0.00328217,  0.01018167, ...,  0.02065295,\n",
       "         -0.02557809, -0.0251583 ],\n",
       "        ...,\n",
       "        [ 0.01065421,  0.01777009, -0.00508875, ..., -0.01379963,\n",
       "         -0.02282505,  0.01593853],\n",
       "        [ 0.02632681,  0.01102771, -0.02023203, ...,  0.00736836,\n",
       "         -0.00768083, -0.00066575],\n",
       "        [ 0.01027386, -0.02298231, -0.00963487, ...,  0.02372034,\n",
       "         -0.00444258, -0.0165592 ]],\n",
       "\n",
       "       [[ 0.00562826,  0.01302935, -0.00197883, ...,  0.00599054,\n",
       "         -0.02528926, -0.02042238],\n",
       "        [ 0.00438803, -0.01738295,  0.00111825, ..., -0.01186296,\n",
       "          0.01856532, -0.01951306],\n",
       "        [-0.00343435,  0.01547786,  0.02659619, ...,  0.01377671,\n",
       "         -0.01022416,  0.01998053],\n",
       "        ...,\n",
       "        [ 0.02613397,  0.02603246, -0.01370932, ...,  0.00037858,\n",
       "         -0.00016706,  0.00123764],\n",
       "        [ 0.00365597,  0.02521489, -0.02451548, ..., -0.01446061,\n",
       "         -0.01767756,  0.00400012],\n",
       "        [-0.0182712 ,  0.02512741, -0.01668974, ..., -0.0143633 ,\n",
       "          0.0072365 ,  0.01131186]],\n",
       "\n",
       "       ...,\n",
       "\n",
       "       [[-0.02019017, -0.00293918, -0.00051444, ..., -0.02514529,\n",
       "          0.00737569,  0.0194803 ],\n",
       "        [-0.02506642,  0.02630467,  0.01945879, ..., -0.01829103,\n",
       "         -0.00373076, -0.01756774],\n",
       "        [ 0.02502579,  0.02123699, -0.00089908, ...,  0.00784063,\n",
       "          0.01129165, -0.00828839],\n",
       "        ...,\n",
       "        [-0.02324721, -0.01151637,  0.02489615, ...,  0.00307624,\n",
       "         -0.00347059,  0.00099503],\n",
       "        [ 0.00103412, -0.00472628,  0.00822102, ...,  0.0064597 ,\n",
       "          0.01197469, -0.00861615],\n",
       "        [-0.02508428,  0.01876949,  0.02119964, ..., -0.00486789,\n",
       "          0.02274947,  0.02429883]],\n",
       "\n",
       "       [[-0.01230175,  0.01874171,  0.02470816, ...,  0.00503017,\n",
       "         -0.02174746, -0.01692268],\n",
       "        [-0.02537098,  0.01254953, -0.01880317, ...,  0.00887086,\n",
       "         -0.022726  ,  0.02496645],\n",
       "        [ 0.02314924,  0.00274687, -0.02325483, ..., -0.00726293,\n",
       "          0.01945971, -0.00112353],\n",
       "        ...,\n",
       "        [ 0.00793237,  0.01279758, -0.00247736, ...,  0.01010551,\n",
       "          0.01351286, -0.02146501],\n",
       "        [ 0.00228888,  0.01045899,  0.02486991, ..., -0.00611067,\n",
       "         -0.01330466,  0.02475891],\n",
       "        [ 0.00251892,  0.01956901, -0.02539417, ..., -0.00976548,\n",
       "         -0.01193871,  0.00527769]],\n",
       "\n",
       "       [[-0.02058822,  0.02266014,  0.00263606, ..., -0.0026831 ,\n",
       "          0.00438656,  0.00840927],\n",
       "        [-0.01476066, -0.01339652,  0.0057354 , ..., -0.0240361 ,\n",
       "         -0.02079854,  0.0239056 ],\n",
       "        [-0.00275536, -0.01536455,  0.01132877, ...,  0.0065354 ,\n",
       "         -0.0189569 , -0.01943415],\n",
       "        ...,\n",
       "        [ 0.02642131,  0.0165492 ,  0.00573653, ...,  0.0210892 ,\n",
       "          0.01865637, -0.00899443],\n",
       "        [ 0.01625733, -0.00449571, -0.00666372, ..., -0.02319055,\n",
       "          0.00396836, -0.01230214],\n",
       "        [-0.00849497, -0.00188879,  0.02184389, ..., -0.01123499,\n",
       "         -0.01798271, -0.01876933]]], dtype=float32)"
      ]
     },
     "execution_count": 18,
     "metadata": {
      "tags": []
     },
     "output_type": "execute_result"
    }
   ],
   "source": [
    "hidden1_tf_ante = generator.layers[0]\n",
    "weights_tf_ante, biases_tf_ante = hidden1_tf_ante.get_weights()\n",
    "weights_tf_ante[0]"
   ]
  },
  {
   "cell_type": "code",
   "execution_count": null,
   "metadata": {
    "colab": {
     "base_uri": "https://localhost:8080/"
    },
    "id": "i2q3RUxl08EW",
    "outputId": "0b6c6912-d050-40a7-d6bf-a569b18a409c"
   },
   "outputs": [
    {
     "data": {
      "text/plain": [
       "(7, 64, 100)"
      ]
     },
     "execution_count": 19,
     "metadata": {
      "tags": []
     },
     "output_type": "execute_result"
    }
   ],
   "source": [
    "weights_tf_ante[0].shape"
   ]
  },
  {
   "cell_type": "code",
   "execution_count": null,
   "metadata": {
    "colab": {
     "base_uri": "https://localhost:8080/"
    },
    "id": "sKVbWazO08EW",
    "outputId": "f344c4f7-01fe-43f9-a996-b93efc47b123"
   },
   "outputs": [
    {
     "data": {
      "text/plain": [
       "array([0., 0., 0., 0., 0., 0., 0., 0., 0., 0., 0., 0., 0., 0., 0., 0., 0.,\n",
       "       0., 0., 0., 0., 0., 0., 0., 0., 0., 0., 0., 0., 0., 0., 0., 0., 0.,\n",
       "       0., 0., 0., 0., 0., 0., 0., 0., 0., 0., 0., 0., 0., 0., 0., 0., 0.,\n",
       "       0., 0., 0., 0., 0., 0., 0., 0., 0., 0., 0., 0., 0.], dtype=float32)"
      ]
     },
     "execution_count": 20,
     "metadata": {
      "tags": []
     },
     "output_type": "execute_result"
    }
   ],
   "source": [
    "biases_tf_ante"
   ]
  },
  {
   "cell_type": "code",
   "execution_count": null,
   "metadata": {
    "colab": {
     "base_uri": "https://localhost:8080/"
    },
    "id": "gtFoWQUE08EX",
    "outputId": "08a3f96f-ec7c-406f-cf33-7e0fad2486da"
   },
   "outputs": [
    {
     "data": {
      "text/plain": [
       "(64,)"
      ]
     },
     "execution_count": 21,
     "metadata": {
      "tags": []
     },
     "output_type": "execute_result"
    }
   ],
   "source": [
    "biases_tf_ante.shape"
   ]
  },
  {
   "cell_type": "markdown",
   "metadata": {
    "id": "y3VSO3Th08EX"
   },
   "source": [
    "### b.1) Discriminator"
   ]
  },
  {
   "cell_type": "code",
   "execution_count": null,
   "metadata": {
    "id": "vKbOs-Jl08EX"
   },
   "outputs": [],
   "source": [
    "def discriminator_model():\n",
    "    model = tf.keras.Sequential()\n",
    "    model.add(keras.layers.Conv2D(input_shape=(28,28,1), filters=2, kernel_size=5, strides=1, padding=\"same\", name=\"Conv2D1\"))\n",
    "    model.add(keras.layers.AveragePooling2D(pool_size=2, strides=2, name=\"Pooling1\"))\n",
    "    model.add(keras.layers.LeakyReLU(name=\"LeakyRelu1\"))\n",
    "    model.add(keras.layers.Dropout(0.3, name=\"Dropout1\"))\n",
    "    \n",
    "    model.add(keras.layers.Conv2D(filters=2, kernel_size=5, strides=1, padding=\"same\", name=\"Conv2D2\"))\n",
    "    model.add(keras.layers.LeakyReLU(name=\"LeakyRelu2\"))\n",
    "    \n",
    "    model.add(keras.layers.Conv2D(filters=1, kernel_size=5, strides=1, name=\"conv2D3\"))\n",
    "    model.add(keras.layers.LeakyReLU(name=\"LeakyRelu3\"))\n",
    "    \n",
    "    model.add(keras.layers.Flatten(name=\"Flatten1\"))\n",
    "    \n",
    "    model.add(keras.layers.Dense(100, kernel_initializer=initializer_nn, name=\"Dense1\"))\n",
    "    model.add(keras.layers.LeakyReLU(name=\"LeakyRelu4\"))\n",
    "    \n",
    "    model.add(keras.layers.Dense(64, kernel_initializer=initializer_nn, name=\"Dense2\"))\n",
    "    model.add(keras.layers.Activation(keras.activations.tanh, name=\"Tanh\"))\n",
    "    \n",
    "    model.add(keras.layers.Dense(1, kernel_initializer=initializer_nn, name=\"Dense3\"))\n",
    "    model.add(keras.layers.Activation(keras.activations.sigmoid, name=\"Sigmoid\"))\n",
    "    return model\n",
    "discriminator = discriminator_model()"
   ]
  },
  {
   "cell_type": "markdown",
   "metadata": {
    "id": "Rwxd4Ete08EY"
   },
   "source": [
    "### b.2) Inspect the discriminator model"
   ]
  },
  {
   "cell_type": "code",
   "execution_count": null,
   "metadata": {
    "colab": {
     "base_uri": "https://localhost:8080/"
    },
    "id": "n6lb0J6h08EY",
    "outputId": "e8e65b5f-461b-4961-b521-39cfd102cc5f"
   },
   "outputs": [
    {
     "name": "stdout",
     "output_type": "stream",
     "text": [
      "Model: \"sequential_1\"\n",
      "_________________________________________________________________\n",
      "Layer (type)                 Output Shape              Param #   \n",
      "=================================================================\n",
      "Conv2D1 (Conv2D)             (None, 28, 28, 2)         52        \n",
      "_________________________________________________________________\n",
      "Pooling1 (AveragePooling2D)  (None, 14, 14, 2)         0         \n",
      "_________________________________________________________________\n",
      "LeakyRelu1 (LeakyReLU)       (None, 14, 14, 2)         0         \n",
      "_________________________________________________________________\n",
      "Dropout1 (Dropout)           (None, 14, 14, 2)         0         \n",
      "_________________________________________________________________\n",
      "Conv2D2 (Conv2D)             (None, 14, 14, 2)         102       \n",
      "_________________________________________________________________\n",
      "LeakyRelu2 (LeakyReLU)       (None, 14, 14, 2)         0         \n",
      "_________________________________________________________________\n",
      "conv2D3 (Conv2D)             (None, 10, 10, 1)         51        \n",
      "_________________________________________________________________\n",
      "LeakyRelu3 (LeakyReLU)       (None, 10, 10, 1)         0         \n",
      "_________________________________________________________________\n",
      "Flatten1 (Flatten)           (None, 100)               0         \n",
      "_________________________________________________________________\n",
      "Dense1 (Dense)               (None, 100)               10100     \n",
      "_________________________________________________________________\n",
      "LeakyRelu4 (LeakyReLU)       (None, 100)               0         \n",
      "_________________________________________________________________\n",
      "Dense2 (Dense)               (None, 64)                6464      \n",
      "_________________________________________________________________\n",
      "Tanh (Activation)            (None, 64)                0         \n",
      "_________________________________________________________________\n",
      "Dense3 (Dense)               (None, 1)                 65        \n",
      "_________________________________________________________________\n",
      "Sigmoid (Activation)         (None, 1)                 0         \n",
      "=================================================================\n",
      "Total params: 16,834\n",
      "Trainable params: 16,834\n",
      "Non-trainable params: 0\n",
      "_________________________________________________________________\n"
     ]
    }
   ],
   "source": [
    "discriminator.summary()"
   ]
  },
  {
   "cell_type": "markdown",
   "metadata": {
    "id": "AMIbdfSn08EZ"
   },
   "source": [
    "### b.3) Inspect the first convolutional layer"
   ]
  },
  {
   "cell_type": "code",
   "execution_count": null,
   "metadata": {
    "colab": {
     "base_uri": "https://localhost:8080/"
    },
    "id": "43yNJmKR08EZ",
    "outputId": "af57030d-ff6a-41a5-80bd-a04d4701009d"
   },
   "outputs": [
    {
     "data": {
      "text/plain": [
       "array([[[-0.11321224,  0.10880718]],\n",
       "\n",
       "       [[-0.00958344,  0.0064292 ]],\n",
       "\n",
       "       [[-0.11871722, -0.24255499]],\n",
       "\n",
       "       [[ 0.17495692,  0.12197527]],\n",
       "\n",
       "       [[ 0.19126591, -0.27438328]]], dtype=float32)"
      ]
     },
     "execution_count": 24,
     "metadata": {
      "tags": []
     },
     "output_type": "execute_result"
    }
   ],
   "source": [
    "hidden2_tf_ante = discriminator.layers[0]\n",
    "weights2_tf_ante, biases2_tf_ante = hidden2_tf_ante.get_weights()\n",
    "weights2_tf_ante[0]"
   ]
  },
  {
   "cell_type": "code",
   "execution_count": null,
   "metadata": {
    "colab": {
     "base_uri": "https://localhost:8080/"
    },
    "id": "sGtYVoN608EZ",
    "outputId": "aa2910c9-60cf-417a-a4fe-48ccacdc85f3"
   },
   "outputs": [
    {
     "data": {
      "text/plain": [
       "array([0., 0.], dtype=float32)"
      ]
     },
     "execution_count": 25,
     "metadata": {
      "tags": []
     },
     "output_type": "execute_result"
    }
   ],
   "source": [
    "biases2_tf_ante"
   ]
  },
  {
   "cell_type": "markdown",
   "metadata": {
    "id": "mOD7qimU08Ea"
   },
   "source": [
    "## 4. Loss & Optimizer"
   ]
  },
  {
   "cell_type": "markdown",
   "metadata": {
    "id": "9gaOeazm08Eb"
   },
   "source": [
    "### 4.a) Generator loss"
   ]
  },
  {
   "cell_type": "code",
   "execution_count": null,
   "metadata": {
    "id": "csOFw1lN08Eb"
   },
   "outputs": [],
   "source": [
    "cross_entropy = tf.keras.losses.BinaryCrossentropy(from_logits='activation')\n",
    "def generator_loss(fake_output):\n",
    "    return cross_entropy(tf.ones_like(fake_output), fake_output)"
   ]
  },
  {
   "cell_type": "markdown",
   "metadata": {
    "id": "64yCgpdk08Eb"
   },
   "source": [
    "### 4.b) Discriminator loss"
   ]
  },
  {
   "cell_type": "code",
   "execution_count": null,
   "metadata": {
    "id": "ysMQ5I-w08Eb"
   },
   "outputs": [],
   "source": [
    "def discriminator_loss(real_output, fake_output):\n",
    "    real_loss = cross_entropy(tf.ones_like(real_output), real_output)\n",
    "    fake_loss = cross_entropy(tf.zeros_like(fake_output), fake_output)\n",
    "    total_loss = real_loss + fake_loss\n",
    "    return total_loss"
   ]
  },
  {
   "cell_type": "markdown",
   "metadata": {
    "id": "TzeYUdNv08Ec"
   },
   "source": [
    "## 4.c) Optimizers"
   ]
  },
  {
   "cell_type": "code",
   "execution_count": null,
   "metadata": {
    "id": "pxBEXFa208Ec"
   },
   "outputs": [],
   "source": [
    "generator_optimizer = tf.keras.optimizers.Adam(1e-3)\n",
    "discriminator_optimizer = tf.keras.optimizers.Adam(1e-3)\n",
    "\n",
    "train_accuracy = tf.keras.metrics.BinaryAccuracy(name='train_accuracy') # only for discriminator"
   ]
  },
  {
   "cell_type": "markdown",
   "metadata": {
    "id": "36GcMCx808Ec"
   },
   "source": [
    "## 5. Training"
   ]
  },
  {
   "cell_type": "code",
   "execution_count": null,
   "metadata": {
    "id": "_E-e_So108Ed"
   },
   "outputs": [],
   "source": [
    "# This annotation causes the function to be \"compiled\".\n",
    "#@tf.function\n",
    "def train_step_tf(generator, discriminator, generator_optimizer, discriminator_optimizer, batch_size = 100):\n",
    "    gen_losses = []\n",
    "    disc_losses = []\n",
    "    for beg_i in range(0, x_train_tf.shape[0], batch_size):\n",
    "        x_train_batch_tf = x_train_tf[beg_i:beg_i + batch_size]\n",
    "\n",
    "        x_fake_batch_tf = tf.random.normal([batch_size, 1, 1, 100], 0, 1, tf.float32)\n",
    "\n",
    "        with tf.GradientTape() as gen_tape, tf.GradientTape() as disc_tape:\n",
    "\n",
    "            generated_images = generator( x_fake_batch_tf, training=True)\n",
    "            real_output = discriminator(x_train_batch_tf, training=True)\n",
    "            fake_output = discriminator(generated_images, training=True)\n",
    "\n",
    "            gen_loss = generator_loss(fake_output)\n",
    "            disc_loss = discriminator_loss(real_output, fake_output)\n",
    "\n",
    "        gradients_of_generator = gen_tape.gradient(gen_loss, generator.trainable_variables)\n",
    "        gradients_of_discriminator = disc_tape.gradient(disc_loss, discriminator.trainable_variables)\n",
    "\n",
    "        generator_optimizer.apply_gradients(zip(gradients_of_generator, generator.trainable_variables))\n",
    "        discriminator_optimizer.apply_gradients(zip(gradients_of_discriminator, discriminator.trainable_variables))\n",
    "        \n",
    "        gen_losses.append(gen_loss)\n",
    "        disc_losses.append(disc_loss)\n",
    "        \n",
    "        train_accuracy.update_state(tf.ones_like(real_output), real_output)\n",
    "        train_accuracy.update_state(tf.zeros_like(fake_output), fake_output)\n",
    "    return gen_losses, disc_losses"
   ]
  },
  {
   "cell_type": "code",
   "execution_count": null,
   "metadata": {
    "colab": {
     "base_uri": "https://localhost:8080/",
     "height": 544
    },
    "id": "1u9bWcEM08Ed",
    "outputId": "ecdbdc4c-1abc-4d65-c571-c2ca3b2d0843",
    "scrolled": false
   },
   "outputs": [
    {
     "name": "stdout",
     "output_type": "stream",
     "text": [
      "Epoch 1, Loss_Generator: 1.0551830530166626, Loss_Discriminator: 1.4229856729507446, Discriminator_Accuracy: 65.40250396728516\n",
      "Epoch 2, Loss_Generator: 0.8925219774246216, Loss_Discriminator: 1.1838828325271606, Discriminator_Accuracy: 66.85333251953125\n",
      "Epoch 3, Loss_Generator: 0.8586683869361877, Loss_Discriminator: 1.2782747745513916, Discriminator_Accuracy: 62.315834045410156\n",
      "Epoch 4, Loss_Generator: 0.8452730178833008, Loss_Discriminator: 1.2825521230697632, Discriminator_Accuracy: 63.56916427612305\n",
      "Epoch 5, Loss_Generator: 0.752825140953064, Loss_Discriminator: 1.3592616319656372, Discriminator_Accuracy: 55.02916717529297\n",
      "Epoch 6, Loss_Generator: 1.222309947013855, Loss_Discriminator: 1.0663069486618042, Discriminator_Accuracy: 72.49250030517578\n",
      "Epoch 7, Loss_Generator: 2.2535500526428223, Loss_Discriminator: 0.6680328845977783, Discriminator_Accuracy: 86.17333221435547\n",
      "Epoch 8, Loss_Generator: 1.6115301847457886, Loss_Discriminator: 0.8827964067459106, Discriminator_Accuracy: 79.96416473388672\n",
      "Epoch 9, Loss_Generator: 1.037438154220581, Loss_Discriminator: 1.1743736267089844, Discriminator_Accuracy: 68.72583770751953\n",
      "Epoch 10, Loss_Generator: 0.8911451101303101, Loss_Discriminator: 1.2368347644805908, Discriminator_Accuracy: 66.3699951171875\n",
      "Epoch 11, Loss_Generator: 0.913799524307251, Loss_Discriminator: 1.2364954948425293, Discriminator_Accuracy: 65.8691635131836\n",
      "Epoch 12, Loss_Generator: 0.9130040407180786, Loss_Discriminator: 1.243971586227417, Discriminator_Accuracy: 65.36000061035156\n",
      "Epoch 13, Loss_Generator: 0.8805720806121826, Loss_Discriminator: 1.265411138534546, Discriminator_Accuracy: 63.00083541870117\n",
      "Epoch 14, Loss_Generator: 0.9223719239234924, Loss_Discriminator: 1.231774091720581, Discriminator_Accuracy: 64.70999908447266\n",
      "Epoch 15, Loss_Generator: 0.9069879055023193, Loss_Discriminator: 1.2387067079544067, Discriminator_Accuracy: 64.52333068847656\n",
      "Total training time149.7595815459887\n"
     ]
    }
   ],
   "source": [
    "train_losses_generator_tf = []\n",
    "train_losses_discriminator_tf = []\n",
    "train_acc_discriminator_tf = []\n",
    "epochs = 15\n",
    "start = time.time()\n",
    "for epoch in range(epochs):\n",
    "    gen_loss, disc_loss = train_step_tf(generator, discriminator, generator_optimizer, discriminator_optimizer)\n",
    "    train_loss_generator_tf = float(tf.reduce_mean(gen_loss))\n",
    "    train_loss_discriminator_tf = float(tf.reduce_mean(disc_loss))\n",
    "    train_losses_generator_tf.append(train_loss_generator_tf)\n",
    "    train_losses_discriminator_tf.append(train_loss_discriminator_tf)\n",
    "\n",
    "    template = (\"Epoch {}, Loss_Generator: {}, Loss_Discriminator: {}, Discriminator_Accuracy: {}\")\n",
    "    print(template.format(epoch+1, train_loss_generator_tf, train_loss_discriminator_tf, train_accuracy.result()*100))\n",
    "    train_acc_discriminator_tf.append(train_accuracy.result()*100)\n",
    "    train_accuracy.reset_states()\n",
    "end = time.time()\n",
    "print(f\"Total training time{(end - start)/60.0}\")"
   ]
  },
  {
   "cell_type": "markdown",
   "metadata": {
    "id": "EC7R0vYU08Ee"
   },
   "source": [
    "### b) Training progress"
   ]
  },
  {
   "cell_type": "code",
   "execution_count": null,
   "metadata": {
    "id": "sZGyw6Q508Ee",
    "outputId": "17d8acda-bf49-40b4-902c-f8b899673da8"
   },
   "outputs": [
    {
     "data": {
      "image/png": "[encoded data removed]",
      "text/plain": [
       "<Figure size 864x576 with 1 Axes>"
      ]
     },
     "metadata": {
      "needs_background": "light",
      "tags": []
     },
     "output_type": "display_data"
    }
   ],
   "source": [
    "plt.figure(figsize=(12,8))\n",
    "plt.plot(train_acc_discriminator_tf)\n",
    "plt.title('discriminator accuracy')\n",
    "plt.ylabel('accuracy')\n",
    "plt.xlabel('epoch')\n",
    "plt.legend(['discriminator_train'], loc='upper right')\n",
    "plt.show()"
   ]
  },
  {
   "cell_type": "code",
   "execution_count": null,
   "metadata": {
    "id": "LKDOIkXr08Ef",
    "outputId": "ccd2081e-0c60-4acd-a2ab-d4b211d1adf1"
   },
   "outputs": [
    {
     "data": {
      "image/png": "[encoded data removed]",
      "text/plain": [
       "<Figure size 864x576 with 1 Axes>"
      ]
     },
     "metadata": {
      "needs_background": "light",
      "tags": []
     },
     "output_type": "display_data"
    }
   ],
   "source": [
    "plt.figure(figsize=(12,8))\n",
    "plt.plot(train_losses_generator_tf)\n",
    "plt.plot(train_losses_discriminator_tf)\n",
    "plt.title('model loss')\n",
    "plt.ylabel('loss')\n",
    "plt.xlabel('epoch')\n",
    "plt.legend(['generator', 'discriminator'], loc='upper right')\n",
    "plt.show()"
   ]
  },
  {
   "cell_type": "code",
   "execution_count": null,
   "metadata": {
    "id": "Bn-mqVig08Ef",
    "outputId": "9efaea75-5a07-4fe0-bd85-c5bc9547f8b4",
    "scrolled": true
   },
   "outputs": [
    {
     "name": "stdout",
     "output_type": "stream",
     "text": [
      "[1.0551830530166626, 0.8925219774246216, 0.8586683869361877, 0.8452730178833008, 0.752825140953064, 1.222309947013855, 2.2535500526428223, 1.6115301847457886, 1.037438154220581, 0.8911451101303101, 0.913799524307251, 0.9130040407180786, 0.8805720806121826, 0.9223719239234924, 0.9069879055023193]\n",
      "[1.4229856729507446, 1.1838828325271606, 1.2782747745513916, 1.2825521230697632, 1.3592616319656372, 1.0663069486618042, 0.6680328845977783, 0.8827964067459106, 1.1743736267089844, 1.2368347644805908, 1.2364954948425293, 1.243971586227417, 1.265411138534546, 1.231774091720581, 1.2387067079544067]\n"
     ]
    }
   ],
   "source": [
    "print(train_losses_generator_tf)\n",
    "print(train_losses_discriminator_tf)"
   ]
  },
  {
   "cell_type": "markdown",
   "metadata": {
    "id": "AdK-aJG708Eg"
   },
   "source": [
    "### c1) Generator output before training"
   ]
  },
  {
   "cell_type": "code",
   "execution_count": 40,
   "metadata": {
    "id": "7es9wgMR08Eg",
    "outputId": "af2ee287-a9b4-4180-d3b3-bc06554ab9e5"
   },
   "outputs": [
    {
     "data": {
      "image/png": "[encoded data removed]",
      "text/plain": [
       "<Figure size 432x288 with 2 Axes>"
      ]
     },
     "metadata": {
      "needs_background": "light"
     },
     "output_type": "display_data"
    }
   ],
   "source": [
    "fake_im_not_trained = fake_im_not_trained.numpy() * 255\n",
    "fake_im_not_trained = fake_im_not_trained.reshape((28,28))\n",
    "plt.figure()\n",
    "plt.imshow(fake_im_not_trained, cmap='gray')\n",
    "plt.clim(0, 255)\n",
    "plt.colorbar()\n",
    "plt.grid(False)\n",
    "plt.show()"
   ]
  },
  {
   "cell_type": "markdown",
   "metadata": {
    "id": "kd6RVvyt08Eh"
   },
   "source": [
    "### c2) Generator output after training"
   ]
  },
  {
   "cell_type": "code",
   "execution_count": null,
   "metadata": {
    "id": "pV1YlKbU08Eh",
    "outputId": "2168c051-6d1d-4a0f-98e6-924e3b6f63f9",
    "scrolled": true
   },
   "outputs": [
    {
     "data": {
      "image/png": "[encoded data removed]",
      "text/plain": [
       "<Figure size 432x288 with 2 Axes>"
      ]
     },
     "metadata": {
      "needs_background": "light",
      "tags": []
     },
     "output_type": "display_data"
    }
   ],
   "source": [
    "seed2 = tf.random.normal([1, 1, 1, 100], 0, 1, tf.float32)\n",
    "fake_im = generator(seed2, training=False)\n",
    "fake_im = fake_im.numpy() * 255\n",
    "fake_im = fake_im.reshape((28,28))\n",
    "plt.figure()\n",
    "plt.imshow(fake_im, cmap='gray')\n",
    "plt.colorbar()\n",
    "plt.grid(False)\n",
    "plt.show()"
   ]
  },
  {
   "cell_type": "markdown",
   "metadata": {
    "id": "MK9A2_C_08Eh"
   },
   "source": [
    "## 6. References\n",
    "The presented model is based on a combination of two tutorials for deep cnn-gans:\n",
    "1) https://pytorch.org/tutorials/beginner/dcgan_faces_tutorial.html\n",
    "\n",
    "2) https://www.tensorflow.org/tutorials/generative/dcgan"
   ]
  },
  {
   "cell_type": "code",
   "execution_count": null,
   "metadata": {
    "id": "M91TDtmIL6ig"
   },
   "outputs": [],
   "source": []
  }
 ],
 "metadata": {
  "colab": {
   "collapsed_sections": [],
   "include_colab_link": true,
   "name": "Kopie von cnngan_tensorflow.ipynb",
   "provenance": []
  },
  "kernelspec": {
   "display_name": "Python 3",
   "language": "python",
   "name": "python3"
  },
  "language_info": {
   "codemirror_mode": {
    "name": "ipython",
    "version": 3
   },
   "file_extension": ".py",
   "mimetype": "text/x-python",
   "name": "python",
   "nbconvert_exporter": "python",
   "pygments_lexer": "ipython3",
   "version": "3.7.5"
  }
 },
 "nbformat": 4,
 "nbformat_minor": 1
}
