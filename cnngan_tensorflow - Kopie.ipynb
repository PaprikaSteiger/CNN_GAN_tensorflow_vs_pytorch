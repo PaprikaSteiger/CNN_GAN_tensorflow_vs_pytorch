{
 "cells": [
  {
   "cell_type": "markdown",
   "metadata": {},
   "source": [
    "# Implementing a CNNGAN with tensorflow"
   ]
  },
  {
   "cell_type": "markdown",
   "metadata": {},
   "source": [
    "## 1. Import and Preprocessing\n",
    "### a) Importing modules"
   ]
  },
  {
   "cell_type": "code",
   "execution_count": 1,
   "metadata": {},
   "outputs": [],
   "source": [
    "# Load required packages - data handling & plotting\n",
    "import pandas as pd\n",
    "import numpy as np\n",
    "import matplotlib.pyplot as plt\n",
    "\n",
    "# Load required packages - deep learning \n",
    "import tensorflow as tf\n",
    "from tensorflow import keras"
   ]
  },
  {
   "cell_type": "code",
   "execution_count": 2,
   "metadata": {},
   "outputs": [
    {
     "name": "stdout",
     "output_type": "stream",
     "text": [
      "tensorflow: 2.4.1\n",
      "python: 3.7.5\n"
     ]
    }
   ],
   "source": [
    "print(f\"tensorflow: {tf.__version__}\")\n",
    "import sys\n",
    "print(f\"python: {sys.version[:5]}\")"
   ]
  },
  {
   "cell_type": "markdown",
   "metadata": {},
   "source": [
    "### b) Importing the data"
   ]
  },
  {
   "cell_type": "code",
   "execution_count": 3,
   "metadata": {},
   "outputs": [],
   "source": [
    "#download and save to file\n",
    "#urllib.request.urlretrieve(\n",
    "#    \"https://media.githubusercontent.com/media/mmeierer/CNN---TensorFlow-vs-PyTorch/main/fashion-mnist_train.csv\",\n",
    "#    \"fashion-mnist_train2.csv\")"
   ]
  },
  {
   "cell_type": "code",
   "execution_count": 4,
   "metadata": {},
   "outputs": [],
   "source": [
    "train_data = pd.read_csv('fashion-mnist_train.csv')\n",
    "# test_data = pd.read_csv('fashion-mnist_test.csv') # test data not used for gan"
   ]
  },
  {
   "cell_type": "code",
   "execution_count": 5,
   "metadata": {
    "scrolled": true
   },
   "outputs": [
    {
     "data": {
      "text/html": [
       "<div>\n",
       "<style scoped>\n",
       "    .dataframe tbody tr th:only-of-type {\n",
       "        vertical-align: middle;\n",
       "    }\n",
       "\n",
       "    .dataframe tbody tr th {\n",
       "        vertical-align: top;\n",
       "    }\n",
       "\n",
       "    .dataframe thead th {\n",
       "        text-align: right;\n",
       "    }\n",
       "</style>\n",
       "<table border=\"1\" class=\"dataframe\">\n",
       "  <thead>\n",
       "    <tr style=\"text-align: right;\">\n",
       "      <th></th>\n",
       "      <th>label</th>\n",
       "      <th>pixel1</th>\n",
       "      <th>pixel2</th>\n",
       "      <th>pixel3</th>\n",
       "      <th>pixel4</th>\n",
       "      <th>pixel5</th>\n",
       "      <th>pixel6</th>\n",
       "      <th>pixel7</th>\n",
       "      <th>pixel8</th>\n",
       "      <th>pixel9</th>\n",
       "      <th>...</th>\n",
       "      <th>pixel775</th>\n",
       "      <th>pixel776</th>\n",
       "      <th>pixel777</th>\n",
       "      <th>pixel778</th>\n",
       "      <th>pixel779</th>\n",
       "      <th>pixel780</th>\n",
       "      <th>pixel781</th>\n",
       "      <th>pixel782</th>\n",
       "      <th>pixel783</th>\n",
       "      <th>pixel784</th>\n",
       "    </tr>\n",
       "  </thead>\n",
       "  <tbody>\n",
       "    <tr>\n",
       "      <th>0</th>\n",
       "      <td>2</td>\n",
       "      <td>0</td>\n",
       "      <td>0</td>\n",
       "      <td>0</td>\n",
       "      <td>0</td>\n",
       "      <td>0</td>\n",
       "      <td>0</td>\n",
       "      <td>0</td>\n",
       "      <td>0</td>\n",
       "      <td>0</td>\n",
       "      <td>...</td>\n",
       "      <td>0</td>\n",
       "      <td>0</td>\n",
       "      <td>0</td>\n",
       "      <td>0</td>\n",
       "      <td>0</td>\n",
       "      <td>0</td>\n",
       "      <td>0</td>\n",
       "      <td>0</td>\n",
       "      <td>0</td>\n",
       "      <td>0</td>\n",
       "    </tr>\n",
       "    <tr>\n",
       "      <th>1</th>\n",
       "      <td>9</td>\n",
       "      <td>0</td>\n",
       "      <td>0</td>\n",
       "      <td>0</td>\n",
       "      <td>0</td>\n",
       "      <td>0</td>\n",
       "      <td>0</td>\n",
       "      <td>0</td>\n",
       "      <td>0</td>\n",
       "      <td>0</td>\n",
       "      <td>...</td>\n",
       "      <td>0</td>\n",
       "      <td>0</td>\n",
       "      <td>0</td>\n",
       "      <td>0</td>\n",
       "      <td>0</td>\n",
       "      <td>0</td>\n",
       "      <td>0</td>\n",
       "      <td>0</td>\n",
       "      <td>0</td>\n",
       "      <td>0</td>\n",
       "    </tr>\n",
       "    <tr>\n",
       "      <th>2</th>\n",
       "      <td>6</td>\n",
       "      <td>0</td>\n",
       "      <td>0</td>\n",
       "      <td>0</td>\n",
       "      <td>0</td>\n",
       "      <td>0</td>\n",
       "      <td>0</td>\n",
       "      <td>0</td>\n",
       "      <td>5</td>\n",
       "      <td>0</td>\n",
       "      <td>...</td>\n",
       "      <td>0</td>\n",
       "      <td>0</td>\n",
       "      <td>0</td>\n",
       "      <td>30</td>\n",
       "      <td>43</td>\n",
       "      <td>0</td>\n",
       "      <td>0</td>\n",
       "      <td>0</td>\n",
       "      <td>0</td>\n",
       "      <td>0</td>\n",
       "    </tr>\n",
       "    <tr>\n",
       "      <th>3</th>\n",
       "      <td>0</td>\n",
       "      <td>0</td>\n",
       "      <td>0</td>\n",
       "      <td>0</td>\n",
       "      <td>1</td>\n",
       "      <td>2</td>\n",
       "      <td>0</td>\n",
       "      <td>0</td>\n",
       "      <td>0</td>\n",
       "      <td>0</td>\n",
       "      <td>...</td>\n",
       "      <td>3</td>\n",
       "      <td>0</td>\n",
       "      <td>0</td>\n",
       "      <td>0</td>\n",
       "      <td>0</td>\n",
       "      <td>1</td>\n",
       "      <td>0</td>\n",
       "      <td>0</td>\n",
       "      <td>0</td>\n",
       "      <td>0</td>\n",
       "    </tr>\n",
       "    <tr>\n",
       "      <th>4</th>\n",
       "      <td>3</td>\n",
       "      <td>0</td>\n",
       "      <td>0</td>\n",
       "      <td>0</td>\n",
       "      <td>0</td>\n",
       "      <td>0</td>\n",
       "      <td>0</td>\n",
       "      <td>0</td>\n",
       "      <td>0</td>\n",
       "      <td>0</td>\n",
       "      <td>...</td>\n",
       "      <td>0</td>\n",
       "      <td>0</td>\n",
       "      <td>0</td>\n",
       "      <td>0</td>\n",
       "      <td>0</td>\n",
       "      <td>0</td>\n",
       "      <td>0</td>\n",
       "      <td>0</td>\n",
       "      <td>0</td>\n",
       "      <td>0</td>\n",
       "    </tr>\n",
       "  </tbody>\n",
       "</table>\n",
       "<p>5 rows × 785 columns</p>\n",
       "</div>"
      ],
      "text/plain": [
       "   label  pixel1  pixel2  pixel3  pixel4  pixel5  pixel6  pixel7  pixel8  \\\n",
       "0      2       0       0       0       0       0       0       0       0   \n",
       "1      9       0       0       0       0       0       0       0       0   \n",
       "2      6       0       0       0       0       0       0       0       5   \n",
       "3      0       0       0       0       1       2       0       0       0   \n",
       "4      3       0       0       0       0       0       0       0       0   \n",
       "\n",
       "   pixel9  ...  pixel775  pixel776  pixel777  pixel778  pixel779  pixel780  \\\n",
       "0       0  ...         0         0         0         0         0         0   \n",
       "1       0  ...         0         0         0         0         0         0   \n",
       "2       0  ...         0         0         0        30        43         0   \n",
       "3       0  ...         3         0         0         0         0         1   \n",
       "4       0  ...         0         0         0         0         0         0   \n",
       "\n",
       "   pixel781  pixel782  pixel783  pixel784  \n",
       "0         0         0         0         0  \n",
       "1         0         0         0         0  \n",
       "2         0         0         0         0  \n",
       "3         0         0         0         0  \n",
       "4         0         0         0         0  \n",
       "\n",
       "[5 rows x 785 columns]"
      ]
     },
     "execution_count": 5,
     "metadata": {},
     "output_type": "execute_result"
    }
   ],
   "source": [
    "train_data.head()"
   ]
  },
  {
   "cell_type": "code",
   "execution_count": 6,
   "metadata": {},
   "outputs": [],
   "source": [
    "train_images = train_data.iloc[:,1:]"
   ]
  },
  {
   "cell_type": "code",
   "execution_count": 7,
   "metadata": {},
   "outputs": [
    {
     "data": {
      "image/png": "[encoded data removed]",
      "text/plain": [
       "<Figure size 432x288 with 2 Axes>"
      ]
     },
     "metadata": {
      "needs_background": "light"
     },
     "output_type": "display_data"
    }
   ],
   "source": [
    "plt.figure()\n",
    "plt.imshow(train_images.values[0].reshape(28,28), cmap='gray')\n",
    "plt.colorbar()\n",
    "plt.grid(False)\n",
    "plt.show()"
   ]
  },
  {
   "cell_type": "markdown",
   "metadata": {},
   "source": [
    "### c) Data preparation"
   ]
  },
  {
   "cell_type": "code",
   "execution_count": 8,
   "metadata": {},
   "outputs": [],
   "source": [
    "#np.unique(train_labels) # no classification tasked performed"
   ]
  },
  {
   "cell_type": "code",
   "execution_count": 9,
   "metadata": {},
   "outputs": [],
   "source": [
    "#class_names = ['T-shirt/top', 'Trouser', 'Pullover', 'Dress', 'Coat',\n",
    "#               'Sandal', 'Shirt', 'Sneaker', 'Bag', 'Ankle boot']"
   ]
  },
  {
   "cell_type": "code",
   "execution_count": 10,
   "metadata": {},
   "outputs": [],
   "source": [
    "# use maximum normalization\n",
    "train_images = train_images / np.float32(255)\n",
    "#test_images = test_images / np.float32(255)"
   ]
  },
  {
   "cell_type": "code",
   "execution_count": 11,
   "metadata": {},
   "outputs": [
    {
     "data": {
      "text/html": [
       "<div>\n",
       "<style scoped>\n",
       "    .dataframe tbody tr th:only-of-type {\n",
       "        vertical-align: middle;\n",
       "    }\n",
       "\n",
       "    .dataframe tbody tr th {\n",
       "        vertical-align: top;\n",
       "    }\n",
       "\n",
       "    .dataframe thead th {\n",
       "        text-align: right;\n",
       "    }\n",
       "</style>\n",
       "<table border=\"1\" class=\"dataframe\">\n",
       "  <thead>\n",
       "    <tr style=\"text-align: right;\">\n",
       "      <th></th>\n",
       "      <th>pixel1</th>\n",
       "      <th>pixel2</th>\n",
       "      <th>pixel3</th>\n",
       "      <th>pixel4</th>\n",
       "      <th>pixel5</th>\n",
       "      <th>pixel6</th>\n",
       "      <th>pixel7</th>\n",
       "      <th>pixel8</th>\n",
       "      <th>pixel9</th>\n",
       "      <th>pixel10</th>\n",
       "      <th>...</th>\n",
       "      <th>pixel775</th>\n",
       "      <th>pixel776</th>\n",
       "      <th>pixel777</th>\n",
       "      <th>pixel778</th>\n",
       "      <th>pixel779</th>\n",
       "      <th>pixel780</th>\n",
       "      <th>pixel781</th>\n",
       "      <th>pixel782</th>\n",
       "      <th>pixel783</th>\n",
       "      <th>pixel784</th>\n",
       "    </tr>\n",
       "  </thead>\n",
       "  <tbody>\n",
       "    <tr>\n",
       "      <th>0</th>\n",
       "      <td>0.0</td>\n",
       "      <td>0.0</td>\n",
       "      <td>0.0</td>\n",
       "      <td>0.000000</td>\n",
       "      <td>0.000000</td>\n",
       "      <td>0.0</td>\n",
       "      <td>0.0</td>\n",
       "      <td>0.000000</td>\n",
       "      <td>0.0</td>\n",
       "      <td>0.0</td>\n",
       "      <td>...</td>\n",
       "      <td>0.000000</td>\n",
       "      <td>0.0</td>\n",
       "      <td>0.0</td>\n",
       "      <td>0.000000</td>\n",
       "      <td>0.000000</td>\n",
       "      <td>0.000000</td>\n",
       "      <td>0.0</td>\n",
       "      <td>0.0</td>\n",
       "      <td>0.0</td>\n",
       "      <td>0.0</td>\n",
       "    </tr>\n",
       "    <tr>\n",
       "      <th>1</th>\n",
       "      <td>0.0</td>\n",
       "      <td>0.0</td>\n",
       "      <td>0.0</td>\n",
       "      <td>0.000000</td>\n",
       "      <td>0.000000</td>\n",
       "      <td>0.0</td>\n",
       "      <td>0.0</td>\n",
       "      <td>0.000000</td>\n",
       "      <td>0.0</td>\n",
       "      <td>0.0</td>\n",
       "      <td>...</td>\n",
       "      <td>0.000000</td>\n",
       "      <td>0.0</td>\n",
       "      <td>0.0</td>\n",
       "      <td>0.000000</td>\n",
       "      <td>0.000000</td>\n",
       "      <td>0.000000</td>\n",
       "      <td>0.0</td>\n",
       "      <td>0.0</td>\n",
       "      <td>0.0</td>\n",
       "      <td>0.0</td>\n",
       "    </tr>\n",
       "    <tr>\n",
       "      <th>2</th>\n",
       "      <td>0.0</td>\n",
       "      <td>0.0</td>\n",
       "      <td>0.0</td>\n",
       "      <td>0.000000</td>\n",
       "      <td>0.000000</td>\n",
       "      <td>0.0</td>\n",
       "      <td>0.0</td>\n",
       "      <td>0.019608</td>\n",
       "      <td>0.0</td>\n",
       "      <td>0.0</td>\n",
       "      <td>...</td>\n",
       "      <td>0.000000</td>\n",
       "      <td>0.0</td>\n",
       "      <td>0.0</td>\n",
       "      <td>0.117647</td>\n",
       "      <td>0.168627</td>\n",
       "      <td>0.000000</td>\n",
       "      <td>0.0</td>\n",
       "      <td>0.0</td>\n",
       "      <td>0.0</td>\n",
       "      <td>0.0</td>\n",
       "    </tr>\n",
       "    <tr>\n",
       "      <th>3</th>\n",
       "      <td>0.0</td>\n",
       "      <td>0.0</td>\n",
       "      <td>0.0</td>\n",
       "      <td>0.003922</td>\n",
       "      <td>0.007843</td>\n",
       "      <td>0.0</td>\n",
       "      <td>0.0</td>\n",
       "      <td>0.000000</td>\n",
       "      <td>0.0</td>\n",
       "      <td>0.0</td>\n",
       "      <td>...</td>\n",
       "      <td>0.011765</td>\n",
       "      <td>0.0</td>\n",
       "      <td>0.0</td>\n",
       "      <td>0.000000</td>\n",
       "      <td>0.000000</td>\n",
       "      <td>0.003922</td>\n",
       "      <td>0.0</td>\n",
       "      <td>0.0</td>\n",
       "      <td>0.0</td>\n",
       "      <td>0.0</td>\n",
       "    </tr>\n",
       "    <tr>\n",
       "      <th>4</th>\n",
       "      <td>0.0</td>\n",
       "      <td>0.0</td>\n",
       "      <td>0.0</td>\n",
       "      <td>0.000000</td>\n",
       "      <td>0.000000</td>\n",
       "      <td>0.0</td>\n",
       "      <td>0.0</td>\n",
       "      <td>0.000000</td>\n",
       "      <td>0.0</td>\n",
       "      <td>0.0</td>\n",
       "      <td>...</td>\n",
       "      <td>0.000000</td>\n",
       "      <td>0.0</td>\n",
       "      <td>0.0</td>\n",
       "      <td>0.000000</td>\n",
       "      <td>0.000000</td>\n",
       "      <td>0.000000</td>\n",
       "      <td>0.0</td>\n",
       "      <td>0.0</td>\n",
       "      <td>0.0</td>\n",
       "      <td>0.0</td>\n",
       "    </tr>\n",
       "  </tbody>\n",
       "</table>\n",
       "<p>5 rows × 784 columns</p>\n",
       "</div>"
      ],
      "text/plain": [
       "   pixel1  pixel2  pixel3    pixel4    pixel5  pixel6  pixel7    pixel8  \\\n",
       "0     0.0     0.0     0.0  0.000000  0.000000     0.0     0.0  0.000000   \n",
       "1     0.0     0.0     0.0  0.000000  0.000000     0.0     0.0  0.000000   \n",
       "2     0.0     0.0     0.0  0.000000  0.000000     0.0     0.0  0.019608   \n",
       "3     0.0     0.0     0.0  0.003922  0.007843     0.0     0.0  0.000000   \n",
       "4     0.0     0.0     0.0  0.000000  0.000000     0.0     0.0  0.000000   \n",
       "\n",
       "   pixel9  pixel10  ...  pixel775  pixel776  pixel777  pixel778  pixel779  \\\n",
       "0     0.0      0.0  ...  0.000000       0.0       0.0  0.000000  0.000000   \n",
       "1     0.0      0.0  ...  0.000000       0.0       0.0  0.000000  0.000000   \n",
       "2     0.0      0.0  ...  0.000000       0.0       0.0  0.117647  0.168627   \n",
       "3     0.0      0.0  ...  0.011765       0.0       0.0  0.000000  0.000000   \n",
       "4     0.0      0.0  ...  0.000000       0.0       0.0  0.000000  0.000000   \n",
       "\n",
       "   pixel780  pixel781  pixel782  pixel783  pixel784  \n",
       "0  0.000000       0.0       0.0       0.0       0.0  \n",
       "1  0.000000       0.0       0.0       0.0       0.0  \n",
       "2  0.000000       0.0       0.0       0.0       0.0  \n",
       "3  0.003922       0.0       0.0       0.0       0.0  \n",
       "4  0.000000       0.0       0.0       0.0       0.0  \n",
       "\n",
       "[5 rows x 784 columns]"
      ]
     },
     "execution_count": 11,
     "metadata": {},
     "output_type": "execute_result"
    }
   ],
   "source": [
    "train_images.head()"
   ]
  },
  {
   "cell_type": "markdown",
   "metadata": {},
   "source": [
    "\n",
    "## 2. Model specific data preparation (tensorflow)\n",
    "## a) Load the data"
   ]
  },
  {
   "cell_type": "code",
   "execution_count": 12,
   "metadata": {},
   "outputs": [],
   "source": [
    "x_train_tf = tf.convert_to_tensor(train_images.values.reshape((-1, 28, 28, 1)))"
   ]
  },
  {
   "cell_type": "code",
   "execution_count": 13,
   "metadata": {},
   "outputs": [
    {
     "data": {
      "image/png": "[encoded data removed]",
      "text/plain": [
       "<Figure size 432x288 with 2 Axes>"
      ]
     },
     "metadata": {
      "needs_background": "light"
     },
     "output_type": "display_data"
    }
   ],
   "source": [
    "# use random seed to create fake input data\n",
    "seed = tf.random.uniform([28,28], 0, 1, tf.float32)\n",
    "seed_im = seed.numpy() * 255\n",
    "plt.figure()\n",
    "plt.imshow(seed_im, cmap='gray')\n",
    "plt.colorbar()\n",
    "plt.grid(False)\n",
    "plt.show()"
   ]
  },
  {
   "cell_type": "markdown",
   "metadata": {},
   "source": [
    "### b) Tensor view of the data"
   ]
  },
  {
   "cell_type": "code",
   "execution_count": 14,
   "metadata": {},
   "outputs": [
    {
     "data": {
      "text/plain": [
       "TensorShape([60000, 28, 28, 1])"
      ]
     },
     "execution_count": 14,
     "metadata": {},
     "output_type": "execute_result"
    }
   ],
   "source": [
    "x_train_tf.shape"
   ]
  },
  {
   "cell_type": "code",
   "execution_count": 15,
   "metadata": {},
   "outputs": [
    {
     "data": {
      "text/plain": [
       "TensorShape([28, 28])"
      ]
     },
     "execution_count": 15,
     "metadata": {},
     "output_type": "execute_result"
    }
   ],
   "source": [
    "seed.shape"
   ]
  },
  {
   "cell_type": "code",
   "execution_count": 1,
   "metadata": {},
   "outputs": [
    {
     "ename": "NameError",
     "evalue": "name 'x_train_tf' is not defined",
     "output_type": "error",
     "traceback": [
      "\u001b[1;31m---------------------------------------------------------------------------\u001b[0m",
      "\u001b[1;31mNameError\u001b[0m                                 Traceback (most recent call last)",
      "\u001b[1;32m<ipython-input-1-31e4776509e0>\u001b[0m in \u001b[0;36m<module>\u001b[1;34m\u001b[0m\n\u001b[1;32m----> 1\u001b[1;33m \u001b[0mx_train_tf\u001b[0m\u001b[1;33m[\u001b[0m\u001b[1;36m0\u001b[0m\u001b[1;33m]\u001b[0m\u001b[1;33m[\u001b[0m\u001b[1;36m5\u001b[0m\u001b[1;33m]\u001b[0m\u001b[1;33m\u001b[0m\u001b[1;33m\u001b[0m\u001b[0m\n\u001b[0m",
      "\u001b[1;31mNameError\u001b[0m: name 'x_train_tf' is not defined"
     ]
    }
   ],
   "source": [
    "x_train_tf[0][5]"
   ]
  },
  {
   "cell_type": "markdown",
   "metadata": {},
   "source": [
    "## 3. Model definition"
   ]
  },
  {
   "cell_type": "markdown",
   "metadata": {},
   "source": [
    "### a.1) Generator"
   ]
  },
  {
   "cell_type": "code",
   "execution_count": 65,
   "metadata": {},
   "outputs": [],
   "source": [
    "# for weight initialization\n",
    "initializer_nn = tf.random_uniform_initializer(minval=-1, maxval=1, seed=123)\n",
    "def generator_model():   \n",
    "    model = tf.keras.Sequential()\n",
    "    model.add(keras.layers.Conv2DTranspose(64, (7,7), input_shape=(1,1, 100,), strides=1, padding='valid', use_bias=True, name=\"Conv2D1\"))\n",
    "    model.add(keras.layers.BatchNormalization(name=\"Batchnorm1\"))\n",
    "    model.add(keras.layers.LeakyReLU(name=\"LeakyRelu1\"))\n",
    "\n",
    "    #model.add(keras.layers.Reshape((7, 7, 64)))\n",
    "    assert model.output_shape == (None, 7, 7, 64)\n",
    "\n",
    "    model.add(keras.layers.Conv2DTranspose(64, (8, 8), strides=(1, 1), padding='valid', use_bias=True, name=\"Conv2D2\"))\n",
    "    assert model.output_shape == (None, 14, 14, 64)\n",
    "    model.add(keras.layers.BatchNormalization(name=\"Batchnorm2\"))\n",
    "    model.add(keras.layers.LeakyReLU(name=\"LeakyRelu2\"))\n",
    "\n",
    "    model.add(keras.layers.Conv2DTranspose(1, (15, 15), strides=(1, 1), padding='valid', use_bias=True, name=\"Conv2D3\"))\n",
    "    model.add(keras.layers.Activation(keras.activations.sigmoid, name=\"Sigmoid1\"))\n",
    "    assert model.output_shape == (None, 28, 28, 1)\n",
    "\n",
    "    return model\n",
    "generator = generator_model()"
   ]
  },
  {
   "cell_type": "code",
   "execution_count": 64,
   "metadata": {},
   "outputs": [],
   "source": [
    "# generated image not trained\n",
    "fake_im_not_trained = generator(tf.random.normal([1, 1, 1, 100], 0, 1, tf.float32))\n",
    "fake_im_not_trained.shape"
   ]
  },
  {
   "cell_type": "markdown",
   "metadata": {},
   "source": [
    "###  a.2) Inspect the generator model"
   ]
  },
  {
   "cell_type": "code",
   "execution_count": 62,
   "metadata": {},
   "outputs": [
    {
     "name": "stdout",
     "output_type": "stream",
     "text": [
      "Model: \"sequential_18\"\n",
      "_________________________________________________________________\n",
      "Layer (type)                 Output Shape              Param #   \n",
      "=================================================================\n",
      "conv2d_transpose_28 (Conv2DT (None, 7, 7, 64)          313664    \n",
      "_________________________________________________________________\n",
      "batch_normalization_19 (Batc (None, 7, 7, 64)          256       \n",
      "_________________________________________________________________\n",
      "leaky_re_lu_23 (LeakyReLU)   (None, 7, 7, 64)          0         \n",
      "_________________________________________________________________\n",
      "conv2d_transpose_29 (Conv2DT (None, 14, 14, 64)        262208    \n",
      "_________________________________________________________________\n",
      "batch_normalization_20 (Batc (None, 14, 14, 64)        256       \n",
      "_________________________________________________________________\n",
      "leaky_re_lu_24 (LeakyReLU)   (None, 14, 14, 64)        0         \n",
      "_________________________________________________________________\n",
      "conv2d_transpose_30 (Conv2DT (None, 28, 28, 1)         14400     \n",
      "_________________________________________________________________\n",
      "activation_7 (Activation)    (None, 28, 28, 1)         0         \n",
      "=================================================================\n",
      "Total params: 590,784\n",
      "Trainable params: 590,528\n",
      "Non-trainable params: 256\n",
      "_________________________________________________________________\n"
     ]
    }
   ],
   "source": [
    "generator.summary()"
   ]
  },
  {
   "cell_type": "markdown",
   "metadata": {},
   "source": [
    "### a.3) Inspect the first convolutional layer"
   ]
  },
  {
   "cell_type": "code",
   "execution_count": 22,
   "metadata": {},
   "outputs": [
    {
     "data": {
      "text/plain": [
       "array([[[-2.6862690e-02,  3.7791885e-02, -4.5578554e-04, ...,\n",
       "          1.6367149e-02,  3.8238131e-03, -1.5901491e-02],\n",
       "        [-3.3726726e-02,  2.7743965e-02, -1.4282478e-02, ...,\n",
       "          3.2309018e-02,  4.2973511e-02, -1.3382064e-02],\n",
       "        [-1.5638636e-02, -2.8354175e-02,  4.1597210e-02, ...,\n",
       "         -3.6292434e-02,  2.6293665e-02, -2.5772661e-02],\n",
       "        ...,\n",
       "        [ 2.6091792e-02, -3.8270965e-02, -1.8405339e-02, ...,\n",
       "         -1.0119107e-02,  2.6020184e-02,  1.9093804e-02],\n",
       "        [-3.1314395e-02, -1.5727360e-02,  3.8183264e-02, ...,\n",
       "          1.3798282e-02,  1.4307212e-02, -1.1190511e-02],\n",
       "        [-1.3778964e-02, -3.6731176e-02, -2.3476940e-02, ...,\n",
       "          2.9018298e-02,  1.6734801e-02, -2.8163381e-02]],\n",
       "\n",
       "       [[-9.6410178e-03, -3.8852442e-02,  2.4213888e-02, ...,\n",
       "         -3.1392962e-02, -2.2196352e-02, -3.4429386e-02],\n",
       "        [-4.3017313e-02, -3.9663732e-02, -1.9694218e-02, ...,\n",
       "          4.2742275e-02, -3.8809124e-02,  4.0499665e-02],\n",
       "        [ 2.2598617e-02, -1.8932236e-02, -2.8198078e-02, ...,\n",
       "         -2.4320109e-02,  3.2147817e-02, -3.8253404e-03],\n",
       "        ...,\n",
       "        [-4.0116008e-02,  9.1272220e-03,  1.7230116e-02, ...,\n",
       "         -3.6770601e-02,  2.9066458e-02, -3.7626922e-02],\n",
       "        [ 5.7222396e-03,  3.4819007e-02,  2.1562956e-02, ...,\n",
       "         -1.5807813e-02,  2.5718339e-02, -4.7340728e-03],\n",
       "        [ 4.2294756e-02, -2.4463166e-02,  2.7013429e-02, ...,\n",
       "          1.9857511e-02, -2.4411432e-02,  2.8865822e-02]],\n",
       "\n",
       "       [[ 3.0325614e-02,  1.5334703e-02, -3.0725528e-02, ...,\n",
       "         -4.2948052e-03, -2.5484864e-02, -7.5130612e-03],\n",
       "        [ 1.6462095e-02, -3.9791107e-02,  1.0687638e-02, ...,\n",
       "         -1.9504951e-02, -3.7489109e-02, -1.2288442e-02],\n",
       "        [-5.7914294e-03,  2.5337525e-02,  1.9474939e-02, ...,\n",
       "         -2.8365241e-02, -3.6596131e-02,  3.8395159e-02],\n",
       "        ...,\n",
       "        [-5.2540004e-04, -2.0517357e-02, -3.4949243e-02, ...,\n",
       "          3.5043910e-02,  1.9642100e-02,  2.3052216e-02],\n",
       "        [ 2.4626262e-02, -4.2206116e-02, -3.9456252e-02, ...,\n",
       "          1.1518598e-03,  6.4881518e-03, -8.6651593e-03],\n",
       "        [-3.2720082e-02, -1.0473214e-02,  3.7528992e-02, ...,\n",
       "          7.7790879e-03,  3.4331977e-03, -3.6973260e-02]],\n",
       "\n",
       "       [[-2.1061195e-02, -1.1650685e-02, -3.0482948e-02, ...,\n",
       "          2.4725527e-02, -1.2518136e-02, -9.4139762e-03],\n",
       "        [ 4.2054839e-02,  7.5264722e-03, -3.4351513e-02, ...,\n",
       "         -1.3329526e-02,  3.9644435e-02,  7.5404495e-03],\n",
       "        [ 3.0835219e-02,  9.6296519e-04,  3.3028513e-02, ...,\n",
       "         -2.8025609e-02, -2.9589277e-02,  1.5626661e-02],\n",
       "        ...,\n",
       "        [-3.1258710e-02,  3.7941471e-02, -1.6649794e-02, ...,\n",
       "          4.1672304e-02, -3.2514729e-02,  6.2445328e-03],\n",
       "        [-1.9995209e-02, -2.2069545e-02,  2.6717231e-02, ...,\n",
       "         -6.5676980e-03,  3.2667592e-02,  1.1945248e-02],\n",
       "        [ 2.2220798e-03,  4.1937515e-02,  2.0393647e-02, ...,\n",
       "          2.6862234e-02,  1.4643863e-02, -9.4490685e-03]],\n",
       "\n",
       "       [[-3.4215640e-02, -2.3354888e-03, -2.1057768e-02, ...,\n",
       "         -7.4794181e-03,  2.2426769e-02,  4.0208623e-02],\n",
       "        [-4.0007956e-02, -1.4241481e-02,  3.3646077e-02, ...,\n",
       "         -1.5540415e-02, -1.0277092e-02,  3.0971423e-02],\n",
       "        [ 2.5779434e-02,  1.7844044e-02, -3.1152736e-02, ...,\n",
       "         -1.4711309e-02, -8.1032515e-05, -4.5075901e-03],\n",
       "        ...,\n",
       "        [ 8.1437863e-03,  6.4051896e-03, -3.0670881e-02, ...,\n",
       "          1.5875619e-02,  1.5162554e-02, -3.6269061e-02],\n",
       "        [-2.5042972e-02, -2.9146038e-03, -6.8166107e-04, ...,\n",
       "         -1.4197379e-02,  1.0633893e-02,  1.9410238e-02],\n",
       "        [ 1.8064644e-02,  3.5563476e-02,  3.5730496e-02, ...,\n",
       "         -2.5819942e-02, -3.8129207e-02,  1.7049626e-02]]], dtype=float32)"
      ]
     },
     "execution_count": 22,
     "metadata": {},
     "output_type": "execute_result"
    }
   ],
   "source": [
    "hidden1_tf_ante = generator.layers[4]\n",
    "weights_tf_ante, biases_tf_ante = hidden1_tf_ante.get_weights()\n",
    "weights_tf_ante[0]"
   ]
  },
  {
   "cell_type": "code",
   "execution_count": 23,
   "metadata": {},
   "outputs": [
    {
     "data": {
      "text/plain": [
       "(5, 64, 64)"
      ]
     },
     "execution_count": 23,
     "metadata": {},
     "output_type": "execute_result"
    }
   ],
   "source": [
    "weights_tf_ante[0].shape"
   ]
  },
  {
   "cell_type": "code",
   "execution_count": 24,
   "metadata": {},
   "outputs": [
    {
     "data": {
      "text/plain": [
       "(64,)"
      ]
     },
     "execution_count": 24,
     "metadata": {},
     "output_type": "execute_result"
    }
   ],
   "source": [
    "biases_tf_ante.shape"
   ]
  },
  {
   "cell_type": "markdown",
   "metadata": {},
   "source": [
    "### b.1) Discriminator"
   ]
  },
  {
   "cell_type": "code",
   "execution_count": 76,
   "metadata": {},
   "outputs": [],
   "source": [
    "def discriminator_model():\n",
    "    model = tf.keras.Sequential()\n",
    "    model.add(keras.layers.Conv2D(input_shape=(28,28,1), filters=2, kernel_size=5, strides=1, padding=\"same\", name=\"Conv2D1\"))\n",
    "    model.add(keras.layers.AveragePooling2D(pool_size=2, strides=2, name=\"Pooling1\"))\n",
    "    model.add(keras.layers.LeakyReLU(name=\"LeakyRelu1\"))\n",
    "    model.add(keras.layers.Dropout(0.3, name=\"Dropout1\"))\n",
    "    \n",
    "    model.add(keras.layers.Conv2D(filters=2, kernel_size=5, strides=1, padding=\"same\", name=\"Conv2D2\"))\n",
    "    model.add(keras.layers.LeakyReLU(name=\"LeakyRelu2\"))\n",
    "    \n",
    "    model.add(keras.layers.Conv2D(filters=1, kernel_size=5, strides=1, name=\"conv2D3\"))\n",
    "    model.add(keras.layers.LeakyReLU(name=\"LeakyRelu3\"))\n",
    "    \n",
    "    model.add(keras.layers.Flatten(name=\"Flatten1\"))\n",
    "    \n",
    "    model.add(keras.layers.Dense(100, kernel_initializer=initializer_nn, name=\"Dense1\"))\n",
    "    model.add(keras.layers.LeakyReLU(name=\"LeakyRelu4\"))\n",
    "    \n",
    "    model.add(keras.layers.Dense(64, kernel_initializer=initializer_nn, name=\"Dense2\"))\n",
    "    model.add(keras.layers.Activation(keras.activations.tanh, name=\"Tanh\"))\n",
    "    \n",
    "    model.add(keras.layers.Dense(1, kernel_initializer=initializer_nn, name=\"Dense3\"))\n",
    "    model.add(keras.layers.Activation(keras.activations.sigmoid, name=\"Sigmoid\"))\n",
    "    return model\n",
    "discriminator = discriminator_model()"
   ]
  },
  {
   "cell_type": "markdown",
   "metadata": {},
   "source": [
    "### b.2) Inspect the discriminator model"
   ]
  },
  {
   "cell_type": "code",
   "execution_count": 77,
   "metadata": {},
   "outputs": [
    {
     "name": "stdout",
     "output_type": "stream",
     "text": [
      "Model: \"sequential_27\"\n",
      "_________________________________________________________________\n",
      "Layer (type)                 Output Shape              Param #   \n",
      "=================================================================\n",
      "Conv2D1 (Conv2D)             (None, 28, 28, 2)         52        \n",
      "_________________________________________________________________\n",
      "Pooling1 (AveragePooling2D)  (None, 14, 14, 2)         0         \n",
      "_________________________________________________________________\n",
      "LeakyRelu1 (LeakyReLU)       (None, 14, 14, 2)         0         \n",
      "_________________________________________________________________\n",
      "Dropout1 (Dropout)           (None, 14, 14, 2)         0         \n",
      "_________________________________________________________________\n",
      "Conv2D2 (Conv2D)             (None, 14, 14, 2)         102       \n",
      "_________________________________________________________________\n",
      "LeakyRelu2 (LeakyReLU)       (None, 14, 14, 2)         0         \n",
      "_________________________________________________________________\n",
      "conv2D3 (Conv2D)             (None, 10, 10, 1)         51        \n",
      "_________________________________________________________________\n",
      "LeakyRelu3 (LeakyReLU)       (None, 10, 10, 1)         0         \n",
      "_________________________________________________________________\n",
      "Flatten1 (Flatten)           (None, 100)               0         \n",
      "_________________________________________________________________\n",
      "Dense1 (Dense)               (None, 100)               10100     \n",
      "_________________________________________________________________\n",
      "LeakyRelu4 (LeakyReLU)       (None, 100)               0         \n",
      "_________________________________________________________________\n",
      "Dense2 (Dense)               (None, 64)                6464      \n",
      "_________________________________________________________________\n",
      "Tanh (Activation)            (None, 64)                0         \n",
      "_________________________________________________________________\n",
      "Dense3 (Dense)               (None, 1)                 65        \n",
      "_________________________________________________________________\n",
      "Sigmoid (Activation)         (None, 1)                 0         \n",
      "=================================================================\n",
      "Total params: 16,834\n",
      "Trainable params: 16,834\n",
      "Non-trainable params: 0\n",
      "_________________________________________________________________\n"
     ]
    }
   ],
   "source": [
    "discriminator.summary()"
   ]
  },
  {
   "cell_type": "markdown",
   "metadata": {},
   "source": [
    "### b.3) Inspect the first convolutional layer"
   ]
  },
  {
   "cell_type": "code",
   "execution_count": 27,
   "metadata": {},
   "outputs": [
    {
     "data": {
      "text/plain": [
       "array([[[-0.19798169,  0.19620275]],\n",
       "\n",
       "       [[ 0.13163957,  0.20191011]],\n",
       "\n",
       "       [[ 0.01896393, -0.13886672]],\n",
       "\n",
       "       [[ 0.0740841 ,  0.21428794]],\n",
       "\n",
       "       [[-0.17835097, -0.04407401]]], dtype=float32)"
      ]
     },
     "execution_count": 27,
     "metadata": {},
     "output_type": "execute_result"
    }
   ],
   "source": [
    "hidden2_tf_ante = discriminator.layers[0]\n",
    "weights2_tf_ante, biases2_tf_ante = hidden2_tf_ante.get_weights()\n",
    "weights2_tf_ante[0]"
   ]
  },
  {
   "cell_type": "code",
   "execution_count": 28,
   "metadata": {},
   "outputs": [
    {
     "data": {
      "text/plain": [
       "array([0., 0.], dtype=float32)"
      ]
     },
     "execution_count": 28,
     "metadata": {},
     "output_type": "execute_result"
    }
   ],
   "source": [
    "biases2_tf_ante"
   ]
  },
  {
   "cell_type": "markdown",
   "metadata": {},
   "source": [
    "## 4. Loss & Optimizer"
   ]
  },
  {
   "cell_type": "markdown",
   "metadata": {},
   "source": [
    "### 4.a) Generator loss"
   ]
  },
  {
   "cell_type": "code",
   "execution_count": 29,
   "metadata": {},
   "outputs": [],
   "source": [
    "cross_entropy = tf.keras.losses.BinaryCrossentropy(from_logits='activation')\n",
    "def generator_loss(fake_output):\n",
    "    return cross_entropy(tf.ones_like(fake_output), fake_output)"
   ]
  },
  {
   "cell_type": "markdown",
   "metadata": {},
   "source": [
    "### 4.b) Discriminator loss"
   ]
  },
  {
   "cell_type": "code",
   "execution_count": 30,
   "metadata": {},
   "outputs": [],
   "source": [
    "def discriminator_loss(real_output, fake_output):\n",
    "    real_loss = cross_entropy(tf.ones_like(real_output), real_output)\n",
    "    fake_loss = cross_entropy(tf.zeros_like(fake_output), fake_output)\n",
    "    total_loss = real_loss + fake_loss\n",
    "    return total_loss"
   ]
  },
  {
   "cell_type": "markdown",
   "metadata": {},
   "source": [
    "## 4.c) Optimizers"
   ]
  },
  {
   "cell_type": "code",
   "execution_count": 31,
   "metadata": {},
   "outputs": [],
   "source": [
    "generator_optimizer = tf.keras.optimizers.Adam(1e-3)\n",
    "discriminator_optimizer = tf.keras.optimizers.Adam(1e-3)\n",
    "\n",
    "train_accuracy = tf.keras.metrics.BinaryAccuracy(name='train_accuracy') # only for discriminator"
   ]
  },
  {
   "cell_type": "code",
   "execution_count": 32,
   "metadata": {},
   "outputs": [],
   "source": [
    "#seed2 = tf.random.uniform([1, 28,28, 1], 0, 1, tf.float32)\n",
    "#print(np.unique(seed2.numpy()))\n",
    "#print(seed2)\n",
    "#fake_im = generator(seed2, training=False)\n",
    "#print(fake_im)\n",
    "#f = discriminator(seed2)\n",
    "#print(generator_loss(fake_im))\n",
    "#print(f)"
   ]
  },
  {
   "cell_type": "markdown",
   "metadata": {},
   "source": [
    "## 5. Training"
   ]
  },
  {
   "cell_type": "code",
   "execution_count": 33,
   "metadata": {},
   "outputs": [],
   "source": [
    "# for saving the model\n",
    "import os\n",
    "checkpoint_dir = './training_checkpoints'\n",
    "checkpoint_prefix = os.path.join(checkpoint_dir, \"ckpt\")\n",
    "checkpoint = tf.train.Checkpoint(generator_optimizer=generator_optimizer,\n",
    "                                 discriminator_optimizer=discriminator_optimizer,\n",
    "                                 generator=generator,\n",
    "                                 discriminator=discriminator)"
   ]
  },
  {
   "cell_type": "code",
   "execution_count": 34,
   "metadata": {},
   "outputs": [],
   "source": [
    "# This annotation causes the function to be \"compiled\".\n",
    "#@tf.function\n",
    "def train_step_tf(generator, discriminator, generator_optimizer, discriminator_optimizer, batch_size = 100):\n",
    "    gen_losses = []\n",
    "    disc_losses = []\n",
    "    for beg_i in range(0, x_train_tf.shape[0], batch_size):\n",
    "        x_train_batch_tf = x_train_tf[beg_i:beg_i + batch_size]\n",
    "        #y_train_batch_tf = y_train_tf[beg_i:beg_i + batch_size]\n",
    "\n",
    "        x_fake_batch_tf = tf.random.uniform([batch_size, 100], 0, 1, tf.float32)\n",
    "\n",
    "        with tf.GradientTape() as gen_tape, tf.GradientTape() as disc_tape:\n",
    "\n",
    "            generated_images = generator( x_fake_batch_tf, training=True)\n",
    "            real_output = discriminator(x_train_batch_tf, training=True)\n",
    "            fake_output = discriminator(generated_images, training=True)\n",
    "\n",
    "            gen_loss = generator_loss(fake_output)\n",
    "            disc_loss = discriminator_loss(real_output, fake_output)\n",
    "\n",
    "        gradients_of_generator = gen_tape.gradient(gen_loss, generator.trainable_variables)\n",
    "        gradients_of_discriminator = disc_tape.gradient(disc_loss, discriminator.trainable_variables)\n",
    "\n",
    "        generator_optimizer.apply_gradients(zip(gradients_of_generator, generator.trainable_variables))\n",
    "        discriminator_optimizer.apply_gradients(zip(gradients_of_discriminator, discriminator.trainable_variables))\n",
    "        gen_losses.append(gen_loss)\n",
    "        disc_losses.append(disc_loss)\n",
    "        train_accuracy.update_state(tf.ones_like(real_output), real_output)\n",
    "        train_accuracy.update_state(tf.zeros_like(fake_output), fake_output)\n",
    "    return gen_losses, disc_losses"
   ]
  },
  {
   "cell_type": "code",
   "execution_count": 35,
   "metadata": {
    "scrolled": true
   },
   "outputs": [
    {
     "name": "stdout",
     "output_type": "stream",
     "text": [
      "Epoch 1, Loss_Generator: 1.1340556144714355, Loss_Discriminator: 1.339301586151123, Discriminator_Accuracy: 66.28999328613281\n",
      "Epoch 2, Loss_Generator: 3.217888593673706, Loss_Discriminator: 0.42261064052581787, Discriminator_Accuracy: 91.44916534423828\n",
      "Epoch 3, Loss_Generator: 1.6300679445266724, Loss_Discriminator: 0.8643975853919983, Discriminator_Accuracy: 80.9124984741211\n",
      "Epoch 4, Loss_Generator: 1.1133203506469727, Loss_Discriminator: 1.1608394384384155, Discriminator_Accuracy: 68.17583465576172\n",
      "Epoch 5, Loss_Generator: 0.9983875751495361, Loss_Discriminator: 1.2210521697998047, Discriminator_Accuracy: 67.66666412353516\n",
      "Epoch 6, Loss_Generator: 1.0006558895111084, Loss_Discriminator: 1.153459072113037, Discriminator_Accuracy: 70.26000213623047\n",
      "Epoch 7, Loss_Generator: 1.3782352209091187, Loss_Discriminator: 0.9755181074142456, Discriminator_Accuracy: 77.12332916259766\n",
      "Epoch 8, Loss_Generator: 1.475033164024353, Loss_Discriminator: 0.9159044623374939, Discriminator_Accuracy: 78.5816650390625\n",
      "Epoch 9, Loss_Generator: 1.3291462659835815, Loss_Discriminator: 0.9566524028778076, Discriminator_Accuracy: 77.32916259765625\n",
      "Epoch 10, Loss_Generator: 1.2547729015350342, Loss_Discriminator: 1.0251482725143433, Discriminator_Accuracy: 74.96416473388672\n",
      "Epoch 11, Loss_Generator: 1.2943683862686157, Loss_Discriminator: 0.9819122552871704, Discriminator_Accuracy: 76.6441650390625\n",
      "Epoch 12, Loss_Generator: 1.1687989234924316, Loss_Discriminator: 1.0692600011825562, Discriminator_Accuracy: 72.81500244140625\n",
      "Epoch 13, Loss_Generator: 1.1184277534484863, Loss_Discriminator: 1.0820579528808594, Discriminator_Accuracy: 72.21500396728516\n",
      "Epoch 14, Loss_Generator: 1.1131075620651245, Loss_Discriminator: 1.086851954460144, Discriminator_Accuracy: 71.8499984741211\n",
      "Epoch 15, Loss_Generator: 1.137269139289856, Loss_Discriminator: 1.0753918886184692, Discriminator_Accuracy: 71.59916687011719\n"
     ]
    }
   ],
   "source": [
    "train_losses_generator_tf = []\n",
    "train_losses_discriminator_tf = []\n",
    "#test_loss_tf = []\n",
    "\n",
    "train_acc_discriminator_tf = []\n",
    "#test_acc_tf = []\n",
    "\n",
    "epochs = 15\n",
    "\n",
    "for epoch in range(epochs):\n",
    "    gen_loss, disc_loss = train_step_tf(generator, discriminator, generator_optimizer, discriminator_optimizer)\n",
    "    train_loss_generator_tf = float(tf.reduce_mean(gen_loss))\n",
    "    train_loss_discriminator_tf = float(tf.reduce_mean(disc_loss))\n",
    "    train_losses_generator_tf.append(train_loss_generator_tf)\n",
    "    train_losses_discriminator_tf.append(train_loss_discriminator_tf)\n",
    "\n",
    "    template = (\"Epoch {}, Loss_Generator: {}, Loss_Discriminator: {}, Discriminator_Accuracy: {}\")\n",
    "    print(template.format(epoch+1, train_loss_generator_tf, train_loss_discriminator_tf, train_accuracy.result()*100))\n",
    "  \n",
    "    # save model every 5th epoch\n",
    "    if (epoch + 1) % 5 == 0:\n",
    "      checkpoint.save(file_prefix=checkpoint_prefix)\n",
    "    train_acc_discriminator_tf.append(train_accuracy.result()*100)\n",
    "\n",
    "    train_accuracy.reset_states()"
   ]
  },
  {
   "cell_type": "markdown",
   "metadata": {},
   "source": [
    "### b) Training progress"
   ]
  },
  {
   "cell_type": "code",
   "execution_count": 36,
   "metadata": {
    "scrolled": false
   },
   "outputs": [
    {
     "data": {
      "image/png": "[encoded data removed]",
      "text/plain": [
       "<Figure size 864x576 with 1 Axes>"
      ]
     },
     "metadata": {
      "needs_background": "light"
     },
     "output_type": "display_data"
    }
   ],
   "source": [
    "plt.figure(figsize=(12,8))\n",
    "plt.plot(train_acc_discriminator_tf)\n",
    "plt.title('discriminator accuracy')\n",
    "plt.ylabel('accuracy')\n",
    "plt.xlabel('epoch')\n",
    "plt.legend(['discriminator_train'], loc='upper right')\n",
    "plt.show()"
   ]
  },
  {
   "cell_type": "code",
   "execution_count": 37,
   "metadata": {},
   "outputs": [
    {
     "data": {
      "image/png": "[encoded data removed]",
      "text/plain": [
       "<Figure size 864x576 with 1 Axes>"
      ]
     },
     "metadata": {
      "needs_background": "light"
     },
     "output_type": "display_data"
    }
   ],
   "source": [
    "plt.figure(figsize=(12,8))\n",
    "plt.plot(train_losses_generator_tf)\n",
    "plt.plot(train_losses_discriminator_tf)\n",
    "plt.title('model loss')\n",
    "plt.ylabel('loss')\n",
    "plt.xlabel('epoch')\n",
    "plt.legend(['generator', 'discriminator'], loc='upper right')\n",
    "plt.show()"
   ]
  },
  {
   "cell_type": "code",
   "execution_count": 38,
   "metadata": {},
   "outputs": [
    {
     "name": "stdout",
     "output_type": "stream",
     "text": [
      "[1.1340556144714355, 3.217888593673706, 1.6300679445266724, 1.1133203506469727, 0.9983875751495361, 1.0006558895111084, 1.3782352209091187, 1.475033164024353, 1.3291462659835815, 1.2547729015350342, 1.2943683862686157, 1.1687989234924316, 1.1184277534484863, 1.1131075620651245, 1.137269139289856]\n",
      "[1.339301586151123, 0.42261064052581787, 0.8643975853919983, 1.1608394384384155, 1.2210521697998047, 1.153459072113037, 0.9755181074142456, 0.9159044623374939, 0.9566524028778076, 1.0251482725143433, 0.9819122552871704, 1.0692600011825562, 1.0820579528808594, 1.086851954460144, 1.0753918886184692]\n"
     ]
    }
   ],
   "source": [
    "print(train_losses_generator_tf)\n",
    "print(train_losses_discriminator_tf)"
   ]
  },
  {
   "cell_type": "markdown",
   "metadata": {},
   "source": [
    "### c1) Generator output before training"
   ]
  },
  {
   "cell_type": "code",
   "execution_count": 39,
   "metadata": {},
   "outputs": [
    {
     "data": {
      "image/png": "[encoded data removed]",
      "text/plain": [
       "<Figure size 432x288 with 2 Axes>"
      ]
     },
     "metadata": {
      "needs_background": "light"
     },
     "output_type": "display_data"
    }
   ],
   "source": [
    "fake_im_not_trained = fake_im_not_trained.numpy() * 255\n",
    "fake_im_not_trained = fake_im_not_trained.reshape((28,28))\n",
    "plt.figure()\n",
    "plt.imshow(fake_im_not_trained, cmap='gray')\n",
    "plt.colorbar()\n",
    "plt.grid(False)\n",
    "plt.show()"
   ]
  },
  {
   "cell_type": "markdown",
   "metadata": {},
   "source": [
    "### c2) Generator output after training"
   ]
  },
  {
   "cell_type": "code",
   "execution_count": 40,
   "metadata": {
    "scrolled": true
   },
   "outputs": [
    {
     "data": {
      "image/png": "[encoded data removed]",
      "text/plain": [
       "<Figure size 432x288 with 2 Axes>"
      ]
     },
     "metadata": {
      "needs_background": "light"
     },
     "output_type": "display_data"
    }
   ],
   "source": [
    "seed2 = tf.random.uniform([1, 100], 0, 1, tf.float32)\n",
    "fake_im = generator(seed2, training=False)\n",
    "fake_im = fake_im.numpy() * 255\n",
    "fake_im = fake_im.reshape((28,28))\n",
    "plt.figure()\n",
    "plt.imshow(fake_im, cmap='gray')\n",
    "plt.colorbar()\n",
    "plt.grid(False)\n",
    "plt.show()"
   ]
  },
  {
   "cell_type": "code",
   "execution_count": null,
   "metadata": {},
   "outputs": [],
   "source": []
  }
 ],
 "metadata": {
  "kernelspec": {
   "display_name": "Python 3",
   "language": "python",
   "name": "python3"
  },
  "language_info": {
   "codemirror_mode": {
    "name": "ipython",
    "version": 3
   },
   "file_extension": ".py",
   "mimetype": "text/x-python",
   "name": "python",
   "nbconvert_exporter": "python",
   "pygments_lexer": "ipython3",
   "version": "3.7.5"
  }
 },
 "nbformat": 4,
 "nbformat_minor": 4
}
